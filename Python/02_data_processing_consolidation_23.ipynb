{
 "cells": [
  {
   "cell_type": "code",
   "execution_count": null,
   "metadata": {},
   "outputs": [],
   "source": [
    "# Automatically reload modules when they are modified\n",
    "%reload_ext autoreload\n",
    "%autoreload 2\n",
    "\n",
    "# Display plots and interactive visualizations inline (or in a separate window)\n",
    "%matplotlib inline"
   ]
  },
  {
   "cell_type": "code",
   "execution_count": null,
   "metadata": {},
   "outputs": [],
   "source": [
    "import pandas as pd \n",
    "import os\n",
    "import geopandas as gpd \n",
    "import zipfile \n",
    "import matplotlib.pyplot as plt\n",
    "import matplotlib.colors as mcolors\n",
    "import math\n",
    "from shapely.geometry import Point, Polygon\n",
    "import seaborn as sns\n",
    "import folium\n",
    "import pickle \n",
    "import numpy as np \n",
    "import warnings\n",
    "import xarray as xr\n",
    "import numpy as np\n",
    "import json\n",
    "import asyncio\n",
    "import logging\n",
    "import os\n",
    "from concurrent.futures import ThreadPoolExecutor\n",
    "from pathlib import Path\n",
    "from typing import Any\n",
    "\n",
    "import requests\n",
    "from requests import Session\n",
    "pd.set_option('display.max_columns', 80)\n",
    "warnings.filterwarnings(\"ignore\")\n",
    "pd.options.display.float_format = '{:.3f}'.format"
   ]
  },
  {
   "cell_type": "code",
   "execution_count": null,
   "metadata": {},
   "outputs": [],
   "source": [
    "# Set default style for plots\n",
    "plt.style.use('ggplot')\n",
    "sns.set_context('notebook', font_scale=1.2)"
   ]
  },
  {
   "cell_type": "code",
   "execution_count": null,
   "metadata": {},
   "outputs": [],
   "source": [
    "def look_up_wijk(df_2023_db, df_20XX, WIJK_2023 = \"WK_CODE_23\", WIJK_20XX = \"WK_CODE_20\", plot = True):\n",
    "    # df_reference: data 2023\n",
    "    # df_reference: data 2023\n",
    "    \n",
    "    df_2023 = df_2023_db.copy()\n",
    "    if 'area_complete' not in df_20XX:\n",
    "        df_20XX['area_complete'] = df_20XX.geometry.area \n",
    "    if 'area_complete' not in df_2023:\n",
    "        df_2023['area_complete'] = df_2023.geometry.area \n",
    "    intersection = gpd.overlay(df_2023, df_20XX , how=\"intersection\")\n",
    "    intersection['area_intersection'] = intersection.geometry.area\n",
    "\n",
    "    intersection_20 = intersection.merge(df_20XX[[WIJK_20XX, \"area_complete\"]], on = WIJK_20XX, how = 'left')\n",
    "    # print(intersection_20.head())\n",
    "    intersection_20[\"area_prop\"] = intersection_20[\"area_intersection\"]/intersection_20[\"area_complete\"]\n",
    "    # intersection_20.tail()\n",
    "\n",
    "    intersection_23 = intersection.merge(df_2023[[WIJK_2023, \"area_complete\"]], on = WIJK_2023, how = 'left')\n",
    "    intersection_23[\"area_prop\"] = intersection_23[\"area_intersection\"]/intersection_23[\"area_complete\"]\n",
    "    # intersection_23.tail()\n",
    "\n",
    "    cut_off = 0.90\n",
    "    fully_inter = intersection_23[(intersection_23.area_prop > cut_off)]\n",
    "    print(f\"Not_fully_intersect: {df_2023[WIJK_2023].nunique() - fully_inter[WIJK_2023].nunique()}\")\n",
    "\n",
    "    not_fully = intersection_23[~intersection_23[WIJK_2023].isin(fully_inter[WIJK_2023])]\n",
    "    not_fully = intersection_23[(intersection_23.area_prop <= cut_off) & (intersection_23.area_prop >= (1-cut_off))]\n",
    "\n",
    "    tab_lookup_20_23 = pd.concat(\n",
    "        [fully_inter[[WIJK_2023, WIJK_20XX, \"area_prop\"]], not_fully[[WIJK_2023, WIJK_20XX, \"area_prop\"]]]) \n",
    "\n",
    "    print(sum(df_2023[WIJK_2023].isin(tab_lookup_20_23[WIJK_2023])))\n",
    "    print(df_2023[WIJK_2023].nunique())\n",
    "    \n",
    "    if (plot):\n",
    "        ax = df_2023.plot(figsize=(10, 10), edgecolor='k', linewidth=0.5, legend=True, color = \"red\")\n",
    "        df_2023[df_2023[WIJK_2023].isin(tab_lookup_20_23[WIJK_2023])].plot(ax = ax, figsize=(10, 10), edgecolor='k', linewidth=0.5, legend=True, color = 'blue')\n",
    "        df_2023[~df_2023[WIJK_2023].isin(tab_lookup_20_23[WIJK_2023])].plot(ax = ax, figsize=(10, 10), edgecolor='k', linewidth=0.5, legend=True, color = 'green')\n",
    "        # id_wijken_21.plot(ax = ax, column = 'LIHE', figsize=(10, 10), edgecolor='k', linewidth=0.5, legend=True, color = 'blue')\n",
    "        # Set the title and display the plot\n",
    "        plt.title(f\"Plot of NL - Wijk\", fontsize=15)\n",
    "        plt.xlabel(\"Longitude\")\n",
    "        plt.ylabel(\"Latitude\")\n",
    "        plt.grid(True)\n",
    "        plt.show() \n",
    "    return tab_lookup_20_23\n",
    "\n"
   ]
  },
  {
   "cell_type": "code",
   "execution_count": null,
   "metadata": {},
   "outputs": [],
   "source": [
    "def weighted_average(df_2023, value, weight):\n",
    "    val = df_2023[value]\n",
    "    wt = df_2023[weight]\n",
    "    return (val * wt).sum() / wt.sum()"
   ]
  },
  {
   "cell_type": "code",
   "execution_count": null,
   "metadata": {},
   "outputs": [],
   "source": [
    "## Function to fetch data from KNMI \n",
    "logging.basicConfig()\n",
    "logger = logging.getLogger(__name__)\n",
    "logger.setLevel(os.environ.get(\"LOG_LEVEL\", logging.INFO))\n",
    "\n",
    "\n",
    "def download_dataset_file(\n",
    "    session: Session,\n",
    "    base_url: str,\n",
    "    dataset_name: str,\n",
    "    dataset_version: str,\n",
    "    filename: str,\n",
    "    directory: str,\n",
    "    overwrite: bool,\n",
    ") -> tuple[bool, str]:\n",
    "    # if a file from this dataset already exists, skip downloading it.\n",
    "    file_path = Path(directory, filename).resolve()\n",
    "    if not overwrite and file_path.exists():\n",
    "        logger.info(f\"Dataset file '{filename}' was already downloaded.\")\n",
    "        return True, filename\n",
    "\n",
    "    endpoint = f\"{base_url}/datasets/{dataset_name}/versions/{dataset_version}/files/{filename}/url\"\n",
    "    get_file_response = session.get(endpoint)\n",
    "\n",
    "    # retrieve download URL for dataset file\n",
    "    if get_file_response.status_code != 200:\n",
    "        logger.warning(f\"Unable to get file: {filename}\")\n",
    "        logger.warning(get_file_response.content)\n",
    "        return False, filename\n",
    "\n",
    "    # use download URL to GET dataset file. We don't need to set the 'Authorization' header,\n",
    "    # The presigned download URL already has permissions to GET the file contents\n",
    "    download_url = get_file_response.json().get(\"temporaryDownloadUrl\")\n",
    "    return download_file_from_temporary_download_url(download_url, directory, filename)\n",
    "\n",
    "\n",
    "def download_file_from_temporary_download_url(download_url, directory, filename):\n",
    "    try:\n",
    "        with requests.get(download_url, stream=True) as r:\n",
    "            r.raise_for_status()\n",
    "            with open(f\"{directory}/{filename}\", \"wb\") as f:\n",
    "                for chunk in r.iter_content(chunk_size=8192):\n",
    "                    f.write(chunk)\n",
    "    except Exception:\n",
    "        logger.exception(\"Unable to download file using download URL\")\n",
    "        return False, filename\n",
    "\n",
    "    logger.info(f\"Downloaded dataset file '{filename}'\")\n",
    "    return True, filename\n",
    "\n",
    "\n",
    "def list_dataset_files(\n",
    "    session: Session,\n",
    "    base_url: str,\n",
    "    dataset_name: str,\n",
    "    dataset_version: str,\n",
    "    params: dict[str, str],\n",
    ") -> tuple[list[str], dict[str, Any]]:\n",
    "    logger.info(f\"Retrieve dataset files with query params: {params}\")\n",
    "\n",
    "    list_files_endpoint = f\"{base_url}/datasets/{dataset_name}/versions/{dataset_version}/files\"\n",
    "    list_files_response = session.get(list_files_endpoint, params=params)\n",
    "\n",
    "    if list_files_response.status_code != 200:\n",
    "        raise Exception(\"Unable to list initial dataset files\")\n",
    "\n",
    "    try:\n",
    "        list_files_response_json = list_files_response.json()\n",
    "        dataset_files = list_files_response_json.get(\"files\")\n",
    "        dataset_filenames = list(map(lambda x: x.get(\"filename\"), dataset_files))\n",
    "        return dataset_filenames, list_files_response_json\n",
    "    except Exception as e:\n",
    "        logger.exception(e)\n",
    "        raise Exception(e)\n",
    "\n",
    "\n",
    "def get_max_worker_count(filesizes):\n",
    "    size_for_threading = 10_000_000  # 10 MB\n",
    "    average = sum(filesizes) / len(filesizes)\n",
    "    # to prevent downloading multiple half files in case of a network failure with big files\n",
    "    if average > size_for_threading:\n",
    "        threads = 1\n",
    "    else:\n",
    "        threads = 10\n",
    "    return threads\n",
    "\n",
    "\n",
    "async def main():\n",
    "    api_key = \"<API_KEY>\"\n",
    "    dataset_name = \"EV24\"\n",
    "    dataset_version = \"2\"\n",
    "    base_url = \"https://api.dataplatform.knmi.nl/open-data/v1\"\n",
    "    # When set to True, if a file with the same name exists the output is written over the file.\n",
    "    # To prevent unnecessary bandwidth usage, leave it set to False.\n",
    "    overwrite = False\n",
    "\n",
    "    download_directory = \"./dataset-download\"\n",
    "\n",
    "    # Make sure to send the API key with every HTTP request\n",
    "    session = requests.Session()\n",
    "    session.headers.update({\"Authorization\": api_key})\n",
    "\n",
    "    # Verify that the download directory exists\n",
    "    if not Path(download_directory).is_dir() or not Path(download_directory).exists():\n",
    "        raise Exception(f\"Invalid or non-existing directory: {download_directory}\")\n",
    "\n",
    "    filenames = []\n",
    "    max_keys = 500\n",
    "    next_page_token = None\n",
    "    file_sizes = []\n",
    "    # Use the API to get a list of all dataset filenames\n",
    "    while True:\n",
    "        # Retrieve dataset files after given filename\n",
    "        dataset_filenames, response_json = list_dataset_files(\n",
    "            session,\n",
    "            base_url,\n",
    "            dataset_name,\n",
    "            dataset_version,\n",
    "            {\"maxKeys\": f\"{max_keys}\", \"nextPageToken\": next_page_token},\n",
    "        )\n",
    "        file_sizes.extend(file[\"size\"] for file in response_json.get(\"files\"))\n",
    "        # Store filenames\n",
    "        filenames += dataset_filenames\n",
    "\n",
    "        # If the result is not truncated, we retrieved all filenames\n",
    "        next_page_token = response_json.get(\"nextPageToken\")\n",
    "        if not next_page_token:\n",
    "            logger.info(\"Retrieved names of all dataset files\")\n",
    "            break\n",
    "\n",
    "    logger.info(f\"Number of files to download: {len(filenames)}\")\n",
    "\n",
    "    worker_count = get_max_worker_count(file_sizes)\n",
    "    loop = asyncio.get_event_loop()\n",
    "\n",
    "    # Allow up to 10 separate threads to download dataset files concurrently\n",
    "    executor = ThreadPoolExecutor(max_workers=worker_count)\n",
    "    futures = []\n",
    "\n",
    "    # Create tasks that download the dataset files\n",
    "    for dataset_filename in filenames:\n",
    "        # Create future for dataset file\n",
    "        future = loop.run_in_executor(\n",
    "            executor,\n",
    "            download_dataset_file,\n",
    "            session,\n",
    "            base_url,\n",
    "            dataset_name,\n",
    "            dataset_version,\n",
    "            dataset_filename,\n",
    "            download_directory,\n",
    "            overwrite,\n",
    "        )\n",
    "        futures.append(future)\n",
    "\n",
    "    # # Wait for all tasks to complete and gather the results\n",
    "    future_results = await asyncio.gather(*futures)\n",
    "    logger.info(f\"Finished '{dataset_name}' dataset download\")\n",
    "\n",
    "    failed_downloads = list(filter(lambda x: not x[0], future_results))\n",
    "\n",
    "    if len(failed_downloads) > 0:\n",
    "        logger.warning(\"Failed to download the following dataset files:\")\n",
    "        logger.warning(list(map(lambda x: x[1], failed_downloads)))\n"
   ]
  },
  {
   "cell_type": "code",
   "execution_count": null,
   "metadata": {},
   "outputs": [],
   "source": [
    "os.chdir(\"C:/Users/tejed002/OneDrive - Wageningen University & Research/PhD-WUR/01_WUR-Research/05_Papers/02_Paper_energy_poverty/analysis/data/wijken\")"
   ]
  },
  {
   "cell_type": "code",
   "execution_count": null,
   "metadata": {},
   "outputs": [],
   "source": [
    "### files and folder paths \n",
    "energy_cost = \"energy_cost/Energiekosten - 2021 - Wijken (2023).csv\"\n",
    "energy_labels = \"energy_labels/Energielabels (geldige labels Rijksoverheid) - Wijken (2023)_2020_2024.csv\"\n",
    "fragility_elderly = \"fragility_elderly/50090NED_UntypedDataSet_18112024_154023.csv\"\n",
    "heating_system = \"heating system/Hoofdverwarmingsinstallaties_woningen_2022_2023.xlsx\"\n",
    "infrastructure = \"infrastructure/KEA_GroenGrijsPerBuurt_2023_03.xlsx\"\n",
    "renewable_energy_homes = \"renewable_energy_homes/Hernieuwbare energie-installaties - Wijken (2023).csv\"\n",
    "energetic_efficiency = \"climate_monitor/Inhoudelijke datasets per sector en thema - 2021 - Wijken.csv\""
   ]
  },
  {
   "cell_type": "code",
   "execution_count": null,
   "metadata": {},
   "outputs": [],
   "source": [
    "# Wijken level dataset for 2023 \n",
    "shp_path = '../../../Data/Raw/ShapeFiles/00_Processed'\n",
    "\n",
    "with open(os.path.join(shp_path, 'dict_gdf.pkl'), 'rb') as file:\n",
    "    dict_gdf = pickle.load(file)\n",
    "    \n",
    "with open(os.path.join(shp_path, 'dict_wijk_gdf.pkl'), 'rb') as file:\n",
    "    dict_wijk_gdf = pickle.load(file)\n",
    "    \n",
    "with open(os.path.join(shp_path, 'dict_gemeente_gdf.pkl'), 'rb') as file:\n",
    "    dict_gemeente_gdf = pickle.load(file)"
   ]
  },
  {
   "cell_type": "code",
   "execution_count": null,
   "metadata": {},
   "outputs": [],
   "source": [
    "years = [2019, 2020, 2021, 2022, 2023]\n",
    "for year in years:\n",
    "    gdf_1 = dict_gdf[str(year)]\n",
    "    gdf_1 = gdf_1[gdf_1[\"H2O\"] == \"NEE\"]\n",
    "    dict_gdf[str(year)] = gdf_1\n",
    "    \n",
    "    gdf_2 = dict_wijk_gdf[str(year)]\n",
    "    gdf_2 = gdf_2[gdf_2[\"H2O\"] == \"NEE\"]\n",
    "    dict_wijk_gdf[str(year)] = gdf_2\n",
    "    \n",
    "    gdf_3 = dict_gemeente_gdf[str(year)]\n",
    "    gdf_3 = gdf_3[gdf_3[\"H2O\"] == \"NEE\"]\n",
    "    dict_gemeente_gdf[str(year)] = gdf_3"
   ]
  },
  {
   "cell_type": "code",
   "execution_count": null,
   "metadata": {},
   "outputs": [],
   "source": [
    "gdf_buurt = [f\"gdf_buurt_{ii}\" for ii in years]\n",
    "gdf_wijk = [f\"gdf_wijk_{ii}\" for ii in years]\n",
    "gdf_gemeente = [f\"gdf_gemeente_{ii}\" for ii in years]"
   ]
  },
  {
   "cell_type": "code",
   "execution_count": null,
   "metadata": {},
   "outputs": [],
   "source": [
    "for name, value in zip(gdf_buurt, dict_gdf.values()):\n",
    "    globals()[name] = value"
   ]
  },
  {
   "cell_type": "code",
   "execution_count": null,
   "metadata": {},
   "outputs": [],
   "source": [
    "for name, value in zip(gdf_wijk, dict_wijk_gdf.values()):\n",
    "    globals()[name] = value"
   ]
  },
  {
   "cell_type": "code",
   "execution_count": null,
   "metadata": {},
   "outputs": [],
   "source": [
    "for name, value in zip(gdf_gemeente, dict_gemeente_gdf.values()):\n",
    "    globals()[name] = value"
   ]
  },
  {
   "cell_type": "markdown",
   "metadata": {},
   "source": [
    "# Calculate weights according area and population density "
   ]
  },
  {
   "cell_type": "code",
   "execution_count": null,
   "metadata": {},
   "outputs": [],
   "source": [
    "id_wijken_20 = gdf_wijk_2020[[\"WK_CODE\", \"GM_NAAM\", \"geometry\", \"AANT_INW\"]]\n",
    "id_wijken_20 = id_wijken_20.rename(columns = {\"WK_CODE\":\"WK_CODE_20\", \"GM_NAAM\":\"GM_NAAM_20\", \"AANT_INW\": \"AANT_INW_20\"})\n",
    "\n",
    "id_wijken_21 = gdf_wijk_2021[[\"WK_CODE\", \"GM_NAAM\", \"geometry\", \"AANT_INW\"]]\n",
    "id_wijken_21 = id_wijken_21.rename(columns = {\"WK_CODE\":\"WK_CODE_21\", \"GM_NAAM\":\"GM_NAAM_21\", \"AANT_INW\": \"AANT_INW_21\"})\n",
    "\n",
    "id_wijken_22 = gdf_wijk_2022[[\"WK_CODE\", \"GM_NAAM\", \"geometry\", \"AANT_INW\"]]\n",
    "id_wijken_22 = id_wijken_22.rename(columns = {\"WK_CODE\":\"WK_CODE_22\", \"GM_NAAM\":\"GM_NAAM_22\", \"AANT_INW\": \"AANT_INW_22\"})\n",
    "\n",
    "id_wijken_23 = gdf_wijk_2023[[\"WK_CODE\", \"GM_NAAM\", \"GM_CODE\", \"geometry\", \"AANT_INW\"]]\n",
    "id_wijken_23 = id_wijken_23.rename(columns = {\"WK_CODE\":\"WK_CODE_23\", \"GM_CODE\":\"GM_CODE_23\", \"GM_NAAM\":\"GM_NAAM_23\", \"AANT_INW\": \"AANT_INW_23\"})"
   ]
  },
  {
   "cell_type": "code",
   "execution_count": null,
   "metadata": {},
   "outputs": [],
   "source": [
    "create_weights = True\n",
    "if create_weights:\n",
    "    look_up_23_20 = look_up_wijk(id_wijken_23, df_20XX = id_wijken_20, WIJK_2023 = \"WK_CODE_23\", WIJK_20XX = \"WK_CODE_20\", plot = False)\n",
    "    look_up_23_21 = look_up_wijk(id_wijken_23, id_wijken_21, WIJK_2023 = \"WK_CODE_23\", WIJK_20XX = \"WK_CODE_21\", plot = False)\n",
    "    look_up_23_22 = look_up_wijk(id_wijken_23, id_wijken_22, WIJK_2023 = \"WK_CODE_23\", WIJK_20XX = \"WK_CODE_22\", plot = False)\n",
    "    look_up_23_22 = look_up_wijk(id_wijken_23, id_wijken_22, WIJK_2023 = \"WK_CODE_23\", WIJK_20XX = \"WK_CODE_22\", plot = False)\n",
    "    dict_look_up_23 = {\"w_20\":look_up_23_20, \n",
    "                       \"w_21\":look_up_23_21, \n",
    "                       \"w_22\":look_up_23_22\n",
    "                       }\n",
    "    with open(\"weights_homologate/dict_look_up_23.pkl\", \"wb\") as file:\n",
    "        pickle.dump(dict_look_up_23, file)\n",
    "else:         \n",
    "    with open(\"weights_homologate/dict_look_up_23.pkl\", 'rb') as file:\n",
    "        dict_look_up_23 = pickle.load(file)"
   ]
  },
  {
   "cell_type": "markdown",
   "metadata": {},
   "source": [
    "# Data gathering and consolidation per topic"
   ]
  },
  {
   "cell_type": "markdown",
   "metadata": {},
   "source": [
    "## Old frailty\n",
    "**Definition**. The vulnerable group of over-65s in poor health thus ties in with three heat-vulnerable groups: the elderly, people living in social isolation, and people in weak health.\n",
    "\n",
    "**Source**: https://www.klimaateffectatlas.nl/en/social-vulnerability-to-heat"
   ]
  },
  {
   "cell_type": "code",
   "execution_count": null,
   "metadata": {},
   "outputs": [],
   "source": [
    "elderly_path = os.path.join(os.getcwd(), \"fragility_elderly\", '50090NED_UntypedDataSet_18112024_154023.csv')\n",
    "dat_elderly = pd.read_csv(elderly_path, sep = ';')\n",
    "dat_elderly.head()\n",
    "elderly_cols = {\"WijkenEnBuurten\":\"WK_CODE_20\", \n",
    "                \"BrozeGezondheid_45\":\"p_fragile_health_65\"}\n",
    "dat_elderly = dat_elderly.rename(columns=elderly_cols)"
   ]
  },
  {
   "cell_type": "code",
   "execution_count": null,
   "metadata": {},
   "outputs": [],
   "source": [
    "dat_elderly[\"wijk_id\"] = dat_elderly[\"WK_CODE_20\"].str.contains('WK')\n",
    "dat_elderly = dat_elderly[(dat_elderly[\"wijk_id\"] == 1) & (dat_elderly[\"Marges\"] == \"MW00000\")]\n",
    "dat_elderly[\"WK_CODE_20\"] = dat_elderly[\"WK_CODE_20\"].str.strip()\n",
    "dat_elderly.WK_CODE_20.nunique()"
   ]
  },
  {
   "cell_type": "code",
   "execution_count": null,
   "metadata": {},
   "outputs": [],
   "source": [
    "dat_elderly.WK_CODE_20.duplicated().sum()"
   ]
  },
  {
   "cell_type": "code",
   "execution_count": null,
   "metadata": {},
   "outputs": [],
   "source": [
    "# sum(~dat_elderly.WK_CODE_20.isin(look_up_23_20_ext.WK_CODE_20))"
   ]
  },
  {
   "cell_type": "code",
   "execution_count": null,
   "metadata": {},
   "outputs": [],
   "source": [
    "look_up_23_20_ext = look_up_23_20.copy()\n",
    "print(look_up_23_20_ext.shape)\n",
    "look_up_23_20_ext = look_up_23_20_ext.merge(dat_elderly[[\"WK_CODE_20\", \"p_fragile_health_65\"]], how = \"left\", on = \"WK_CODE_20\")\n",
    "print(look_up_23_20_ext.shape)\n",
    "look_up_23_20_ext.tail()"
   ]
  },
  {
   "cell_type": "code",
   "execution_count": null,
   "metadata": {},
   "outputs": [],
   "source": [
    "look_up_23_20_ext[\"p_fragile_health_65\"] = look_up_23_20_ext[\"p_fragile_health_65\"].str.strip()\n",
    "look_up_23_20_ext[\"p_fragile_health_65\"] = np.where(look_up_23_20_ext[\"p_fragile_health_65\"] == \".\", np.NAN, look_up_23_20_ext[\"p_fragile_health_65\"])"
   ]
  },
  {
   "cell_type": "code",
   "execution_count": null,
   "metadata": {},
   "outputs": [],
   "source": [
    "look_up_23_20_ext[\"p_fragile_health_65\"] = pd.to_numeric(look_up_23_20_ext[\"p_fragile_health_65\"])\n",
    "look_up_23_20_ext.dtypes"
   ]
  },
  {
   "cell_type": "code",
   "execution_count": null,
   "metadata": {},
   "outputs": [],
   "source": [
    "# dat_elderly_g23 \n",
    "def weighted_average(df_2023, value, weight):\n",
    "   val = df_2023[value]\n",
    "   wt = df_2023[weight]\n",
    "   return (val * wt).sum() / wt.sum()\n",
    "\n",
    "dat_elderly_g23 = look_up_23_20_ext.groupby(\"WK_CODE_23\").apply(lambda group: weighted_average(group, \"p_fragile_health_65\", \"area_prop\")).reset_index(name = \"p_fragile_health_65\")"
   ]
  },
  {
   "cell_type": "code",
   "execution_count": null,
   "metadata": {},
   "outputs": [],
   "source": [
    "dat_elderly_g23.head()"
   ]
  },
  {
   "cell_type": "markdown",
   "metadata": {},
   "source": [
    "## Unemployment\n",
    "\n",
    "Using unemployment rate from Statline at the neighborhood level: https://opendata.cbs.nl/portal.html?_la=nl&_catalog=CBS&tableId=85485NED&_theme=790 \n",
    "\n",
    "net_labour_participation = working_population/. it is called Employment-to-Population Ratio"
   ]
  },
  {
   "cell_type": "code",
   "execution_count": null,
   "metadata": {},
   "outputs": [],
   "source": [
    "unemploy_path = os.path.join(os.getcwd(), \"unemployment\", 'labour_participation_2021.csv')\n",
    "dat_unemploy = pd.read_csv(unemploy_path, sep = ';')\n",
    "dat_unemploy = dat_unemploy[dat_unemploy[\"Leeftijd\"] == 52052] #\"15 tot 75 jaar\";\"\"\n",
    "dat_unemploy = dat_unemploy[dat_unemploy[\"WijkenEnBuurten\"].str[:2] == \"WK\"] \n",
    "dat_unemploy.shape"
   ]
  },
  {
   "cell_type": "code",
   "execution_count": null,
   "metadata": {},
   "outputs": [],
   "source": [
    "var_unemploy_1 = [\"WijkenEnBuurten\", \"BeroepsEnNietBeroepsbevolking_1\", \"WerkzameBeroepsbevolking_2\", \"NettoArbeidsparticipatie_3\", \"Werknemer_4\"]\n",
    "var_unemploy_2 = [\"work_not_population\", \"working_population\", \"net_labour_participation\", \"employed\"]\n",
    "unemploy_var = {\n",
    "    \"WijkenEnBuurten\":\"WK_CODE\", \n",
    "    \"BeroepsEnNietBeroepsbevolking_1\": \"work_not_population\", \n",
    "    \"WerkzameBeroepsbevolking_2\": \"working_population\", \n",
    "    \"NettoArbeidsparticipatie_3\": \"net_labour_participation\",\n",
    "    \"Werknemer_4\": \"employed\"\n",
    "}\n",
    "dat_unemploy = dat_unemploy[var_unemploy_1]\n",
    "dat_unemploy = dat_unemploy.rename(columns=unemploy_var)\n",
    "\n",
    "# dat_unemploy[\"unemployment_rate_GM\"] = np.where(dat_unemploy[\"unemployment_rate_GM\"] == '.', np.NAN , dat_unemploy[\"unemployment_rate_GM\"])\n",
    "\n",
    "# dat_unemploy[\"working_population\"] = dat_unemploy[\"working_population\"].str.strip()\n",
    "# dat_unemploy[\"working_population\"] = np.where(dat_unemploy[\"working_population\"] == '.', np.NAN , dat_unemploy[\"working_population\"])"
   ]
  },
  {
   "cell_type": "code",
   "execution_count": null,
   "metadata": {},
   "outputs": [],
   "source": [
    "def dat_str_to_float(column):\n",
    "    column = column.strip()\n",
    "    # print(column)\n",
    "    column = np.where(column == \".\", np.NAN, column)\n",
    "    column = column.astype(float)\n",
    "    return column"
   ]
  },
  {
   "cell_type": "code",
   "execution_count": null,
   "metadata": {},
   "outputs": [],
   "source": [
    "dat_unemploy[[\"net_labour_participation\", \"employed\"]] = dat_unemploy[[\"net_labour_participation\", \"employed\"]].applymap(lambda x: dat_str_to_float(x))"
   ]
  },
  {
   "cell_type": "code",
   "execution_count": null,
   "metadata": {},
   "outputs": [],
   "source": [
    "dat_unemploy[\"net_labour_participation\"] = dat_unemploy[\"net_labour_participation\"]/100\n",
    "dat_unemploy[\"employed\"] = dat_unemploy[\"employed\"]/100"
   ]
  },
  {
   "cell_type": "code",
   "execution_count": null,
   "metadata": {},
   "outputs": [],
   "source": [
    "dat_unemploy[\"WK_CODE\"] = dat_unemploy[\"WK_CODE\"].str.strip()"
   ]
  },
  {
   "cell_type": "markdown",
   "metadata": {},
   "source": [
    "## Buurtkaart 2021: Young children, Retired, Disability or permanent ill , Unemployed, Part-time employment, Housing tenure and market conditions"
   ]
  },
  {
   "cell_type": "code",
   "execution_count": null,
   "metadata": {},
   "outputs": [],
   "source": [
    "gdf_wijk_2021[[\"P_KOOPWON\", \"P_HUURWON\", \"P_HUURCORP\", \"P_HUUROVVH\", \"P_HUKO_ONB\"]]"
   ]
  },
  {
   "cell_type": "code",
   "execution_count": null,
   "metadata": {},
   "outputs": [],
   "source": [
    "\n",
    "buurt_kaart_var = [\n",
    "    \"WK_CODE\", \n",
    "    \"GM_NAAM\", \n",
    "    \"GM_CODE\", \n",
    "    \"geometry\", \n",
    "    \"AANT_INW\",     # Number of inhabitants [number]\n",
    "    \"WONINGEN\",\n",
    "    \"P_00_14_JR\", \n",
    "    \"P_15_24_JR\", \n",
    "    \"P_25_44_JR\", \n",
    "    \"P_45_64_JR\", \n",
    "    \"P_65_EO_JR\",   # Persons aged 65 and over [%]\n",
    "    \"P_HH_Z_K\",     # households without children \n",
    "    \"P_HH_M_K\",     # households with children \n",
    "    \"GEM_HH_GR\",    # Average household size [number]\n",
    "    # \"P_ACTIEF\",     # economically active actieven 15-75 jaar [%]\n",
    "    \"A_SOZ_OW\",     # Reliant on state pension\n",
    "    \"WW_UIT_TOT\",   # Unemployment \n",
    "    \"AO_UIT_TOT\",   # receive a disability benefit under several circumstances  \n",
    "    \"A_WMO_T\",      # Precarious part time\n",
    "    \"P_KOOPWON\",    # Owner-occupied homes percentage \n",
    "    \"P_HUURWON\",    # Rental properties total percentage \n",
    "    \"P_HUURCORP\",   # Rental properties owned by housing corporations  \n",
    "    \"G_GAS_HU\",     # Gas consumption m3 - Rental\n",
    "    \"G_GAS_KO\",     # Gas consumption m3 - Owner Occupied\n",
    "    \"G_ELE_HU\",    # Electricity consumption kWh - Rental\n",
    "    \"G_ELE_KO\",     # Electricity consumption kWh - Owner Occupied\n",
    "    \"G_GAS_TOT\",    # Gas consumption m3 kWh - Total\n",
    "    \"G_ELEK_TOT\",     # Electricity consumption kWh  - total\n",
    "]\n",
    "np.isin(buurt_kaart_var, gdf_wijk_2021.columns)\n",
    "buurt_kaart_cols = {    \n",
    "    \"WK_CODE\":\"WK_CODE_21\", \n",
    "    \"GM_NAAM\":\"GM_NAAM_21\", \n",
    "    \"AANT_INW\": \"AANT_INW_21\",              # Number of inhabitants [number]  \n",
    "    \"WONINGEN\":\"housing_stock\",\n",
    "    \"P_00_14_JR\": \"p_0_14\",\n",
    "    \"P_15_24_JR\": \"p_15_24\",\n",
    "    \"P_25_44_JR\": \"p_25_44\",\n",
    "    \"P_45_64_JR\": \"p_45_64\",   \n",
    "    \"P_65_EO_JR\": \"p_65_older\",             # Persons aged 65 and over [%]    \n",
    "    \"NUMBER_HH\": \"total_households\",        # Total households\n",
    "    \"P_HH_Z_K\":\"p_without_young_children\",  # households without children \n",
    "    \"P_HH_M_K\":\"p_with_young_children\",     # households with children \n",
    "    \"GEM_HH_GR\" : \"t_average_household_size\",\n",
    "    # \"P_ACTIEF\" : \"t_economic_active_pop\", \n",
    "    \"A_SOZ_OW\": \"t_pension\",                # Reliant on state pension\n",
    "    \"AO_UIT_TOT\": \"t_disability\",           # receive a disability benefit under several circumstances  \n",
    "    \"WW_UIT_TOT\":\"t_unemployment\",          # Unemployment \n",
    "    \"A_WMO_T\":\"t_precarious_part_time\",     # Precarious part time\n",
    "    \"P_KOOPWON\":\"p_owner_ocupied_home\",     # Owner-occupied homes\n",
    "    \"P_HUURCORP\":\"p_rental_corp_home\",      # Rental properties total\n",
    "    \"P_HUURWON\":\"p_rental_home\",       # Rental properties owned by housing corporations\n",
    "    \"G_GAS_HU\":\"t_gas_consum_rental\",       # Gas consumption m3 - Rental\n",
    "    \"G_GAS_KO\":\"t_gas_consum_owner\",        # Gas consumption m3 - Owner Occupied\n",
    "    \"G_ELE_HU\":\"t_elec_consum_rental\",      # Electricity consumption kWh - Rental\n",
    "    \"G_ELE_KO\":\"t_elec_consum_owner\",       # Electricity consumption kWh - Owner Occupied\n",
    "    \"G_GAS_TOT\":\"t_gas_consum_total\",       # Gas consumption m3 kWh - Total\n",
    "    \"G_ELEK_TOT\":\"t_elec_consum_total\"      # Electricity consumption kWh  - total   \n",
    "    }"
   ]
  },
  {
   "cell_type": "code",
   "execution_count": null,
   "metadata": {},
   "outputs": [],
   "source": [
    "id_wijken_21 = gdf_wijk_2021[[\"WK_CODE\", \"GM_CODE\",\"GM_NAAM\", \"geometry\", \"AANT_INW\"]]\n",
    "id_wijken_21 = id_wijken_21.rename(columns = {\"WK_CODE\":\"WK_CODE_21\", \"GM_CODE\":\"GM_CODE_21\", \"GM_NAAM\":\"GM_NAAM_21\", \"AANT_INW\": \"AANT_INW_21\"})"
   ]
  },
  {
   "cell_type": "code",
   "execution_count": null,
   "metadata": {},
   "outputs": [],
   "source": [
    "dat_vulnerability_buurtkaart  = gdf_wijk_2021[buurt_kaart_var]\n",
    "dat_vulnerability_buurtkaart = dat_vulnerability_buurtkaart.rename(columns=buurt_kaart_cols)\n",
    "# dat_vulnerability_buurtkaart.head()\n",
    "    "
   ]
  },
  {
   "cell_type": "code",
   "execution_count": null,
   "metadata": {},
   "outputs": [],
   "source": [
    "columns = dat_vulnerability_buurtkaart.columns\n",
    "for ii in range(4,len(dat_vulnerability_buurtkaart.columns)):\n",
    "    column = columns[ii]\n",
    "    dat_vulnerability_buurtkaart[column] = np.where(dat_vulnerability_buurtkaart[column] < 0, np.nan, dat_vulnerability_buurtkaart[column])\n",
    "    # print (dat_vulnerability_buurtkaart.columns[column])"
   ]
  },
  {
   "cell_type": "code",
   "execution_count": null,
   "metadata": {},
   "outputs": [],
   "source": [
    "print(dat_vulnerability_buurtkaart.shape)\n",
    "dat_vulnerability_buurtkaart = dat_vulnerability_buurtkaart.merge(dat_unemploy, left_on=\"WK_CODE_21\", right_on=\"WK_CODE\", how = \"left\")\n",
    "print(dat_vulnerability_buurtkaart.shape)"
   ]
  },
  {
   "cell_type": "code",
   "execution_count": null,
   "metadata": {},
   "outputs": [],
   "source": [
    "dat_vulnerability_buurtkaart[\"employed_population\"] =  dat_vulnerability_buurtkaart[\"employed\"] * dat_vulnerability_buurtkaart[\"working_population\"]\n",
    "dat_vulnerability_buurtkaart[\"p_unemployment_rate\"] = dat_vulnerability_buurtkaart[\"t_unemployment\"]/(dat_vulnerability_buurtkaart[\"t_unemployment\"] + dat_vulnerability_buurtkaart[\"employed_population\"]) * 100"
   ]
  },
  {
   "cell_type": "code",
   "execution_count": null,
   "metadata": {},
   "outputs": [],
   "source": [
    "dat_vulnerability_buurtkaart[\"t_unemployment\"].sum() / (dat_vulnerability_buurtkaart[\"t_unemployment\"].sum() + dat_vulnerability_buurtkaart[\"employed_population\"].sum())"
   ]
  },
  {
   "cell_type": "code",
   "execution_count": null,
   "metadata": {},
   "outputs": [],
   "source": [
    "dat_vulnerability_buurtkaart[\"t_0_14\"] = (dat_vulnerability_buurtkaart[\"p_0_14\"]/100) * dat_vulnerability_buurtkaart[\"AANT_INW_21\"]\n",
    "dat_vulnerability_buurtkaart[\"t_15_24\"] = (dat_vulnerability_buurtkaart[\"p_15_24\"]/100) * dat_vulnerability_buurtkaart[\"AANT_INW_21\"]\n",
    "dat_vulnerability_buurtkaart[\"t_25_44\"] = (dat_vulnerability_buurtkaart[\"p_25_44\"]/100) * dat_vulnerability_buurtkaart[\"AANT_INW_21\"]\n",
    "dat_vulnerability_buurtkaart[\"t_45_64\"] = (dat_vulnerability_buurtkaart[\"p_45_64\"]/100) * dat_vulnerability_buurtkaart[\"AANT_INW_21\"]\n",
    "dat_vulnerability_buurtkaart[\"t_65_older\"] = (dat_vulnerability_buurtkaart[\"p_65_older\"]/100) * dat_vulnerability_buurtkaart[\"AANT_INW_21\"]\n",
    "dat_vulnerability_buurtkaart[\"t_15_older\"] = (dat_vulnerability_buurtkaart[\"t_15_24\"] + dat_vulnerability_buurtkaart[\"t_25_44\"] +\n",
    "                                              dat_vulnerability_buurtkaart[\"t_45_64\"] + dat_vulnerability_buurtkaart[\"t_65_older\"])\n",
    "\n",
    "dat_vulnerability_buurtkaart[\"t_less_65\"] = (dat_vulnerability_buurtkaart[\"t_0_14\"] + dat_vulnerability_buurtkaart[\"t_15_24\"] + \n",
    "                                             dat_vulnerability_buurtkaart[\"t_25_44\"] + dat_vulnerability_buurtkaart[\"t_45_64\"] )\n"
   ]
  },
  {
   "cell_type": "code",
   "execution_count": null,
   "metadata": {},
   "outputs": [],
   "source": [
    "dat_vulnerability_buurtkaart[\"p_pension_coverage_rate\"] = np.where(dat_vulnerability_buurtkaart[\"t_65_older\"]  == 0, np.NAN, \n",
    "                                                     dat_vulnerability_buurtkaart[\"t_pension\"]/dat_vulnerability_buurtkaart[\"t_65_older\"] * 100)\n",
    "dat_vulnerability_buurtkaart[\"p_pension_coverage_rate\"] = np.where(dat_vulnerability_buurtkaart[\"p_pension_coverage_rate\"]>100, 100, dat_vulnerability_buurtkaart[\"p_pension_coverage_rate\"])"
   ]
  },
  {
   "cell_type": "code",
   "execution_count": null,
   "metadata": {},
   "outputs": [],
   "source": [
    "dat_vulnerability_buurtkaart[\"p_precarious_part_time\"] = dat_vulnerability_buurtkaart[\"t_precarious_part_time\"] / dat_vulnerability_buurtkaart[\"t_15_older\"] * 100"
   ]
  },
  {
   "cell_type": "code",
   "execution_count": null,
   "metadata": {},
   "outputs": [],
   "source": [
    "dat_vulnerability_buurtkaart[\"p_disability\"] = dat_vulnerability_buurtkaart[\"t_disability\"] / dat_vulnerability_buurtkaart[\"t_less_65\"] * 100"
   ]
  },
  {
   "cell_type": "code",
   "execution_count": null,
   "metadata": {},
   "outputs": [],
   "source": [
    "dat_vulnerability_buurtkaart[[\"t_pension\", \"p_65_older\", \"p_pension_coverage_rate\", \"t_65_older\", \"p_precarious_part_time\", \"p_disability\"]].describe()"
   ]
  },
  {
   "cell_type": "code",
   "execution_count": null,
   "metadata": {},
   "outputs": [],
   "source": [
    "#### calculate totals according population and total households, calculate according totals and then calculate parcentages accordingly. \n",
    "# I need to include 2023 total population and households, "
   ]
  },
  {
   "cell_type": "code",
   "execution_count": null,
   "metadata": {},
   "outputs": [],
   "source": [
    "sel_cols_21 = [\"WK_CODE_21\", 'p_without_young_children', \"p_with_young_children\", 'p_pension_coverage_rate', 'p_unemployment_rate', 'p_precarious_part_time', \"p_disability\", \n",
    "               'p_owner_ocupied_home', 'p_rental_home', 't_gas_consum_rental', 't_gas_consum_owner', 't_elec_consum_rental', 't_elec_consum_owner', 't_gas_consum_total',\n",
    "               't_elec_consum_total']"
   ]
  },
  {
   "cell_type": "code",
   "execution_count": null,
   "metadata": {},
   "outputs": [],
   "source": [
    "look_up_23_21_ext = look_up_23_21.copy()\n",
    "print(look_up_23_21_ext.shape)\n",
    "look_up_23_21_ext = look_up_23_21_ext.merge(dat_vulnerability_buurtkaart[sel_cols_21], how = \"left\", on = \"WK_CODE_21\")\n",
    "print(look_up_23_21_ext.shape)\n",
    "look_up_23_21_ext.tail()"
   ]
  },
  {
   "cell_type": "code",
   "execution_count": null,
   "metadata": {},
   "outputs": [],
   "source": [
    "columns_to_compute = sel_cols_21[1:]\n",
    "# ['young_children', 'pension',\n",
    "#        'unemployment', 'precarious_part_time', 'owner_ocupied_home',\n",
    "#        'rental_home', 'gas_consum_rental', 'gas_consum_owner',\n",
    "#        'elec_consum_rental', 'elec_consum_owner', 'gas_consum_total',\n",
    "#        'elec_consum_total']\n",
    "dat_buurt_kaart_g23 = (\n",
    "    look_up_23_21_ext.groupby(\"WK_CODE_23\")\n",
    "    .apply(lambda group: pd.Series(\n",
    "            {col: weighted_average(group, col, \"area_prop\") for col in columns_to_compute}))\n",
    "    .reset_index()\n",
    ")\n",
    "dat_buurt_kaart_g23.head()"
   ]
  },
  {
   "cell_type": "markdown",
   "metadata": {},
   "source": [
    "## Heating system"
   ]
  },
  {
   "cell_type": "code",
   "execution_count": null,
   "metadata": {},
   "outputs": [],
   "source": [
    "dat_heating_sys = pd.read_excel(os.path.join(os.getcwd(), heating_system), sheet_name = \"filter_wijk\")"
   ]
  },
  {
   "cell_type": "code",
   "execution_count": null,
   "metadata": {},
   "outputs": [],
   "source": [
    "heating_sys_cols = {    \n",
    "    \"Wijken en buurten\":\"WK_CODE_23\", \n",
    "    \"Individual CV\":\"p_individual_CV\", \n",
    "    \"Block heating\":\"p_block_heating\", \n",
    "    \"District heating with high gas consumption\": \"p_district_heat_high_gas_consum\",\n",
    "    \"District heating with low gas consumption\":\"p_district_heat_low_gas_consum\",\n",
    "    \"District heating without gas consumption\": \"p_district_heat_no_gas_consum\", \n",
    "    \"Electrically heated with high gas consumption\":\"p_elec_heat_high_gas_consum\",\n",
    "    \"Electrically heated with low gas consumption\":\"p_elec_heat_low_gas_consum\",\n",
    "    \"Electrically heated without gas consumption\":\"p_elec_heat_no_gas_consum\",\n",
    "    \"Total without gas consumption (excl unknown)\":\"p_total_no_gas\",\n",
    "    \"Type of installation unknown\":\"unknown\"\n",
    "    }"
   ]
  },
  {
   "cell_type": "code",
   "execution_count": null,
   "metadata": {},
   "outputs": [],
   "source": [
    "dat_heating_sys = dat_heating_sys.rename(columns=heating_sys_cols)\n",
    "dat_heating_sys.head()"
   ]
  },
  {
   "cell_type": "code",
   "execution_count": null,
   "metadata": {},
   "outputs": [],
   "source": [
    "dat_heating_sys[\"p_district_heat\"] = dat_heating_sys[[\"p_district_heat_high_gas_consum\", \"p_district_heat_low_gas_consum\", \"p_district_heat_no_gas_consum\"]].sum(axis = 1)\n",
    "dat_heating_sys[\"p_elec_heat\"] = dat_heating_sys[[\"p_elec_heat_high_gas_consum\", \"p_elec_heat_low_gas_consum\", \"p_elec_heat_no_gas_consum\"]].sum(axis = 1)\n",
    "dat_heating_sys[\"p_total_homes\"] = dat_heating_sys[[\"p_individual_CV\", \"p_block_heating\", \"p_district_heat\", \"p_elec_heat\"]].sum(axis = 1)\n",
    "print(dat_heating_sys[\"p_total_homes\"].describe())\n",
    "dat_heating_sys = dat_heating_sys[dat_heating_sys[\"Periode\"] == 2022]\n",
    "print(dat_heating_sys.shape)"
   ]
  },
  {
   "cell_type": "code",
   "execution_count": null,
   "metadata": {},
   "outputs": [],
   "source": [
    "dat_heating_sys_g23 = dat_heating_sys[[\"WK_CODE_23\", \n",
    "                                       \"p_individual_CV\", \"p_block_heating\", \"p_district_heat\", \"p_elec_heat\", \n",
    "                                       \"p_district_heat_high_gas_consum\", \"p_district_heat_low_gas_consum\", \"p_district_heat_no_gas_consum\", \n",
    "                                       \"p_elec_heat_high_gas_consum\", \"p_elec_heat_low_gas_consum\", \"p_elec_heat_no_gas_consum\"]]\n",
    "dat_heating_sys_g23.head()"
   ]
  },
  {
   "cell_type": "markdown",
   "metadata": {},
   "source": [
    "## Energetic efficiency "
   ]
  },
  {
   "cell_type": "code",
   "execution_count": null,
   "metadata": {},
   "outputs": [],
   "source": [
    "dat_energetic_efficiency = pd.read_csv(os.path.join(os.getcwd(), energetic_efficiency), header=0, delimiter=\";\")\n",
    "dat_energetic_efficiency.head()"
   ]
  },
  {
   "cell_type": "code",
   "execution_count": null,
   "metadata": {},
   "outputs": [],
   "source": [
    "list_split = []\n",
    "for string in dat_energetic_efficiency[\"Gemeenten\"]:\n",
    "    list_split.append(string.rsplit(\":\", 1))"
   ]
  },
  {
   "cell_type": "code",
   "execution_count": null,
   "metadata": {},
   "outputs": [],
   "source": [
    "df_split = pd.DataFrame(list_split)\n",
    "df_split = df_split.rename(columns = {0:\"GM_NAAM\", 1:\"WK_NAAM\"})\n",
    "sum(~df_split.GM_NAAM.isin(gdf_wijk_2022.GM_NAAM))\n",
    "df_split.GM_NAAM[~df_split.GM_NAAM.isin(gdf_wijk_2022.GM_NAAM)].unique()"
   ]
  },
  {
   "cell_type": "code",
   "execution_count": null,
   "metadata": {},
   "outputs": [],
   "source": [
    "# [string.str.contains(\":\") for string in df_split.GM_NAAM.str.contains(:)]\n",
    "def reprocess_split(df_split):\n",
    "    list_gnaam = []\n",
    "    list_wknaam = []\n",
    "    for ii in range(df_split.shape[0]):\n",
    "        ll = df_split[\"GM_NAAM\"].iloc[ii].rsplit(\":\", 1)\n",
    "        list_gnaam.append(ll[0])\n",
    "        list_wknaam.append(ll[1] +\":\"+df_split[\"WK_NAAM\"].iloc[ii])\n",
    "    # print(list_gnaam)    \n",
    "    # print(list_wkcode)    \n",
    "    df_split[\"new_gnaam\"] = list_gnaam\n",
    "    df_split[\"new_wknaam\"] = list_wknaam\n",
    "    return(df_split)\n",
    "        # list_split.append(string.rsplit(\":\", 1))\n",
    "df_split[\"id\"] = range(df_split.shape[0])\n",
    "df_split[\"to_process\"] = df_split.GM_NAAM.str.contains(\":\")\n",
    "dat_reprocess_string = reprocess_split(df_split[df_split.to_process]) \n",
    "    \n",
    "# df_split[df_split.to_process]\n",
    "# df_split[(~df_split.to_process) & (df_split.GM_NAAM == \"Utrecht\")]"
   ]
  },
  {
   "cell_type": "code",
   "execution_count": null,
   "metadata": {},
   "outputs": [],
   "source": [
    "df_split = df_split.merge(dat_reprocess_string[[\"id\", \"new_gnaam\", \"new_wknaam\"]], how = \"left\", on = \"id\")\n",
    "df_split.head()"
   ]
  },
  {
   "cell_type": "code",
   "execution_count": null,
   "metadata": {},
   "outputs": [],
   "source": [
    "new_gnaam = np.where(~df_split.new_gnaam.isna(), df_split.new_gnaam, df_split.GM_NAAM)\n",
    "new_wkcode = np.where(~df_split.new_gnaam.isna(), df_split.new_wknaam, df_split.WK_NAAM)\n",
    "df_split[\"GM_NAAM_23\"] = new_gnaam\n",
    "df_split[\"WK_NAAM_23\"] = new_wkcode"
   ]
  },
  {
   "cell_type": "code",
   "execution_count": null,
   "metadata": {},
   "outputs": [],
   "source": [
    "df_split[df_split.to_process]"
   ]
  },
  {
   "cell_type": "code",
   "execution_count": null,
   "metadata": {},
   "outputs": [],
   "source": [
    "print(sum(~df_split.GM_NAAM_23.isin(gdf_wijk_2022[\"GM_NAAM\"])))\n",
    "df_split.GM_NAAM[~df_split.GM_NAAM_23.isin(gdf_wijk_2023[\"GM_NAAM\"])].unique()\n",
    "#### here issues \n",
    "# 'Voorne aan Zee': not found \n",
    "# 'Onbekend': unknown "
   ]
  },
  {
   "cell_type": "code",
   "execution_count": null,
   "metadata": {},
   "outputs": [],
   "source": [
    "df_split[\"GM_NAAM_23\"] = np.where(df_split[\"GM_NAAM_23\"] == 'Den Haag', \"'s-Gravenhage\", df_split[\"GM_NAAM_23\"]) \n",
    "df_split.GM_NAAM_23[~df_split.GM_NAAM_23.isin(gdf_wijk_2023[\"GM_NAAM\"])].unique()"
   ]
  },
  {
   "cell_type": "code",
   "execution_count": null,
   "metadata": {},
   "outputs": [],
   "source": [
    "df_split[\"WK_NAAM_23\"] = df_split[\"WK_NAAM_23\"].apply(lambda x: x.decode('utf-8', errors='replace') if isinstance(x, bytes) else x)"
   ]
  },
  {
   "cell_type": "code",
   "execution_count": null,
   "metadata": {},
   "outputs": [],
   "source": [
    "# gdf_wijk_2021[gdf_wijk_2021[\"WK_NAAM\"].str.contains(\"Wijk 01: Houthem - Sint Gerlach\")]\n",
    "df_split[\"WK_NAAM_23\"] = df_split[\"WK_NAAM_23\"].str.strip()\n",
    "df_split.WK_NAAM_23[~df_split.WK_NAAM_23.isin(gdf_wijk_2023[\"WK_NAAM\"])].unique()"
   ]
  },
  {
   "cell_type": "code",
   "execution_count": null,
   "metadata": {},
   "outputs": [],
   "source": [
    "gdf_wijk_2023[\"WK_NAAM\"][~gdf_wijk_2023[\"WK_NAAM\"].isin(df_split.WK_NAAM_23)].unique()"
   ]
  },
  {
   "cell_type": "code",
   "execution_count": null,
   "metadata": {},
   "outputs": [],
   "source": [
    "mapping = {\n",
    "    'Babyloni?�nbroek': 'Babyloniënbroek',\n",
    "    'Chass?�buurt': 'Chassébuurt',\n",
    "    'Castelr?�': 'Castelré',\n",
    "    '1e Exlo?�rmond': '1e Exloërmond',\n",
    "    '2e Exlo?�rmond': '2e Exloërmond',\n",
    "    'Exlo?�rveen': 'Exloërveen',\n",
    "    's-Gravenpolder': \"'s-Gravenpolder\",\n",
    "    's-Heer Abtskerke': \"'s-Heer Abtskerke\",\n",
    "    's-Heerenhoek': \"'s-Heerenhoek\",\n",
    "    's Gravenmoer': \"'s Gravenmoer\",\n",
    "    'Skarsterl?�n': 'Skarsterlân',\n",
    "    's-Gravendeel': \"'s-Gravendeel\",\n",
    "    't Veld': \"'t Veld\",\n",
    "    't Goy': \"'t Goy\",\n",
    "    't Goy Buitengebied': \"'t Goy Buitengebied\",\n",
    "    't Heen': \"'t Heen\",\n",
    "    'Nijl?�n & De Zwette': 'Nijlân & De Zwette',\n",
    "    'Aldl?�n & De Hemrik': 'Aldlân & De Hemrik',\n",
    "    't Lien / De Rietvink': \"'t Lien / De Rietvink\",\n",
    "    'Wijk 03 Oh?� en Laak': 'Wijk 03 Ohé en Laak',\n",
    "    \"t Westend / 't Seuverick\": \"'t Westend / 't Seuverick\",\n",
    "    'Jonkersl?�n': 'Jonkerslân',\n",
    "    'Mari?�nheem': 'Mariënheem',\n",
    "    'Sint Odili?�nberg': 'Sint Odiliënberg',\n",
    "    'Wijk 02 M??nein': 'Wijk 02 Mûnein',\n",
    "    'Wijk 05 Earnew?�ld': 'Wijk 05 Earnewâld',\n",
    "    'Wijk onbekend': 'Wijk onbekend'\n",
    "}\n",
    "\n",
    "df_split[\"WK_NAAM_23\"] = df_split[\"WK_NAAM_23\"].replace(mapping)"
   ]
  },
  {
   "cell_type": "code",
   "execution_count": null,
   "metadata": {},
   "outputs": [],
   "source": [
    "print(df_split.WK_NAAM_23[~df_split.WK_NAAM_23.isin(gdf_wijk_2023[\"WK_NAAM\"])].unique())\n",
    "print(gdf_wijk_2023[\"WK_NAAM\"][~gdf_wijk_2023[\"WK_NAAM\"].isin(df_split.WK_NAAM_23)].unique())"
   ]
  },
  {
   "cell_type": "code",
   "execution_count": null,
   "metadata": {},
   "outputs": [],
   "source": [
    "print(dat_energetic_efficiency.shape)\n",
    "dat_energetic_efficiency = pd.concat([dat_energetic_efficiency, df_split], axis=1)\n",
    "print(dat_energetic_efficiency.shape)"
   ]
  },
  {
   "cell_type": "code",
   "execution_count": null,
   "metadata": {},
   "outputs": [],
   "source": [
    "print(dat_energetic_efficiency.shape)\n",
    "dat_energetic_efficiency = dat_energetic_efficiency.merge(gdf_wijk_2023[[\"WK_CODE\", \"WK_NAAM\", \"GM_CODE\", \"GM_NAAM\"]], left_on = [\"GM_NAAM_23\", \"WK_NAAM_23\"], right_on= [\"GM_NAAM\", \"WK_NAAM\"], how = \"left\")\n",
    "print(dat_energetic_efficiency.shape)"
   ]
  },
  {
   "cell_type": "code",
   "execution_count": null,
   "metadata": {},
   "outputs": [],
   "source": [
    "dat_energetic_efficiency_g23 = dat_energetic_efficiency.copy()"
   ]
  },
  {
   "cell_type": "code",
   "execution_count": null,
   "metadata": {},
   "outputs": [],
   "source": [
    "dat_energetic_efficiency_g23.iloc[:,7:15]"
   ]
  },
  {
   "cell_type": "code",
   "execution_count": null,
   "metadata": {},
   "outputs": [],
   "source": [
    "dat_energetic_efficiency_g23.columns"
   ]
  },
  {
   "cell_type": "code",
   "execution_count": null,
   "metadata": {},
   "outputs": [],
   "source": [
    "energ_eff_cols = {\n",
    "       'Percentage woningen met geregistreerde zonnepanelen|2021': \"p_homes_with_solar_panels\", ### Export again NaN \n",
    "       'Percentage woningen dat is voorzien van een geldig energielabel|2021': \"p_homes_valid_energy_label\",\n",
    "       'Percentage gelabelde woningen met geldig energielabel A t/m A++++|2021': \"p_homes_energy_label_A_Aplus\",\n",
    "       'Percentage gelabelde woningen met geldig energielabel B|2021': \"p_homes_energy_label_B\",\n",
    "       'Percentage gelabelde woningen met geldig energielabel C|2021': \"p_homes_energy_label_C\",\n",
    "       'Percentage gelabelde woningen met geldig energielabel D|2021': \"p_homes_energy_label_D\",\n",
    "       'Percentage gelabelde woningen met geldig energielabel E|2021': \"p_homes_energy_label_E\",\n",
    "       'Percentage gelabelde woningen met geldig energielabel F|2021': \"p_homes_energy_label_F\",\n",
    "       'Percentage gelabelde woningen met geldig energielabel G|2021': \"p_homes_energy_label_G\",\n",
    "       'Woningen met geregistreerd energielabel|2021' : \"t_homes_register_energy_label\",    \n",
    "       'Woningdichtheid (aantal woningen per hectare)|2021': \"housing_density\", \n",
    "       'Huurwoningen in bezit van woningcorporaties|2021': \"p_rental_own_hous_association\", \n",
    "       'GM_CODE': 'GM_CODE_23',\n",
    "       'WK_CODE': 'WK_CODE_23' \n",
    "}\n",
    "dat_energetic_efficiency_g23 = dat_energetic_efficiency_g23.rename(columns=energ_eff_cols)\n",
    "# cols_energetic_efficiency = ['WK_CODE_23', 'housing_density', 'p_rental_own_hous_association']\n",
    "# dat_energetic_efficiency_g23[cols_energetic_efficiency].head()\n",
    "### pending energy labels"
   ]
  },
  {
   "cell_type": "code",
   "execution_count": null,
   "metadata": {},
   "outputs": [],
   "source": [
    "dat_energetic_efficiency_g23.columns"
   ]
  },
  {
   "cell_type": "code",
   "execution_count": null,
   "metadata": {},
   "outputs": [],
   "source": [
    "def dat_str_to_float(column):\n",
    "    import re\n",
    "    # print(column)\n",
    "    column = str(column)\n",
    "    column = re.sub(r'[\\?\\-\\,]', '.', column)\n",
    "    column = np.where(column == \".\", np.NAN, column)\n",
    "    column = column.astype(float)\n",
    "    return column\n",
    "    "
   ]
  },
  {
   "cell_type": "code",
   "execution_count": null,
   "metadata": {},
   "outputs": [],
   "source": [
    "object_to_float = [ 'p_homes_with_solar_panels',  'p_homes_energy_label_A_Aplus',  'p_homes_energy_label_B',  'p_homes_energy_label_C',  'p_homes_energy_label_D',  'p_homes_energy_label_F',\n",
    " 'p_homes_energy_label_E',  'p_homes_energy_label_G',  'housing_density',  'p_rental_own_hous_association']\n",
    "dat_energetic_efficiency_g23[object_to_float] = dat_energetic_efficiency_g23[object_to_float].applymap(lambda x: dat_str_to_float(x))"
   ]
  },
  {
   "cell_type": "code",
   "execution_count": null,
   "metadata": {},
   "outputs": [],
   "source": [
    "# # dat_energetic_efficiency_g23[\"housing_density\"] = dat_energetic_efficiency_g23[\"housing_density\"].str.replace(',', '.').astype(float)\n",
    "# dat_energetic_efficiency_g23[\"p_rental_own_hous_association\"] = (\n",
    "#     dat_energetic_efficiency_g23[\"p_rental_own_hous_association\"]\n",
    "#     .str.replace('?', '', regex=False)\n",
    "#     .replace('', None)\n",
    "#     .astype(float)\n",
    "# )\n",
    "# dat_energetic_efficiency_g23[cols_energetic_efficiency].head()"
   ]
  },
  {
   "cell_type": "markdown",
   "metadata": {},
   "source": [
    "## Climatic and environmental variables"
   ]
  },
  {
   "cell_type": "code",
   "execution_count": null,
   "metadata": {},
   "outputs": [],
   "source": [
    "### files and folder paths \n",
    "energy_cost = \"energy_cost/Energiekosten - 2021 - Wijken (2023).csv\"\n",
    "energy_labels = \"energy_labels/Energielabels (geldige labels Rijksoverheid) - Wijken (2023)_2020_2024.csv\"\n",
    "fragility_elderly = \"fragility_elderly/50090NED_UntypedDataSet_18112024_154023.csv\"\n",
    "heating_system = \"heating system/Hoofdverwarmingsinstallaties_woningen_2022_2023.xlsx\"\n",
    "infrastructure = \"infrastructure/KEA_GroenGrijsPerBuurt_2023_03.xlsx\"\n",
    "renewable_energy_homes = \"renewable_energy_homes/Hernieuwbare energie-installaties - Wijken (2023).csv\"\n",
    "energetic_efficiency = \"climate_monitor/Inhoudelijke datasets per sector en thema - 2021 - Wijken.csv\"\n",
    "environmental_climatic = \"climatic_environmental/KEA_GroenGrijsPerBuurt_2023_03.xlsx\""
   ]
  },
  {
   "cell_type": "code",
   "execution_count": null,
   "metadata": {},
   "outputs": [],
   "source": [
    "dat_green_gray_infra = pd.read_excel(os.path.join(os.getcwd(), environmental_climatic), sheet_name = \"KEA_GroenGrijsPerBuurt\")\n",
    "dat_green_gray_infra.head()"
   ]
  },
  {
   "cell_type": "code",
   "execution_count": null,
   "metadata": {},
   "outputs": [],
   "source": [
    "gdf_buurt_2020.crs"
   ]
  },
  {
   "cell_type": "code",
   "execution_count": null,
   "metadata": {},
   "outputs": [],
   "source": [
    "sum(~gdf_buurt_2020.apply(lambda x: x.geometry.is_valid, axis=1))"
   ]
  },
  {
   "cell_type": "code",
   "execution_count": null,
   "metadata": {},
   "outputs": [],
   "source": [
    "gdf_buurt_2020['area_complete'] = gdf_buurt_2020.geometry.area"
   ]
  },
  {
   "cell_type": "code",
   "execution_count": null,
   "metadata": {},
   "outputs": [],
   "source": [
    "gdf_wijk_2020['area_complete'] = gdf_wijk_2020.geometry.area"
   ]
  },
  {
   "cell_type": "markdown",
   "metadata": {},
   "source": [
    "**PercentageBoom**:\tTotaal percentage boom per buurt (boom, exclusief agrarisch)\n",
    "\n",
    "**PercentageGrijs**: Totaal percentage grijs per buurt (totaal - groen - boom - water, exclusief agrarisch)\n",
    "\n",
    "**PercentageGroen**: Totaal percentage groen per buurt (groen + boom, exclusief agrarisch)\n"
   ]
  },
  {
   "cell_type": "code",
   "execution_count": null,
   "metadata": {},
   "outputs": [],
   "source": [
    "print(dat_green_gray_infra.shape)\n",
    "dat_green_gray_infra = dat_green_gray_infra.merge(gdf_buurt_2020[[\"BU_CODE\", \"WK_CODE\", \"GM_CODE\", \"GM_NAAM\", \"area_complete\"]], \n",
    "                                                  left_on = \"buurtcode\", right_on = \"BU_CODE\")\n",
    "print(dat_green_gray_infra.shape)"
   ]
  },
  {
   "cell_type": "code",
   "execution_count": null,
   "metadata": {},
   "outputs": [],
   "source": [
    "# # dat_elderly_g23 \n",
    "# def weighted_average(df_2023, value, weight):\n",
    "#    val = df_2023[value]\n",
    "#    wt = df_2023[weight]\n",
    "#    return (val * wt).sum() / wt.sum()"
   ]
  },
  {
   "cell_type": "code",
   "execution_count": null,
   "metadata": {},
   "outputs": [],
   "source": [
    "# dat_green_gray_infra[\"p_green_buurt\"] = (dat_green_gray_infra[\"PercentageGroen\"]/100) * dat_green_gray_infra[\"area_complete\"]\n",
    "# dat_green_gray_infra[\"p_grey_buurt\"] = (dat_green_gray_infra[\"PercentageGrijs\"]/100) * dat_green_gray_infra[\"area_complete\"]"
   ]
  },
  {
   "cell_type": "code",
   "execution_count": null,
   "metadata": {},
   "outputs": [],
   "source": [
    "dat_green_gray_infra = (\n",
    "    dat_green_gray_infra.groupby(\"WK_CODE\")\n",
    "    .apply(lambda group: pd.Series(\n",
    "            {col: weighted_average(group, col, \"area_complete\") for col in [\"PercentageGroen\", \"PercentageGrijs\"]}))\n",
    "    .reset_index()\n",
    ")\n",
    "dat_green_gray_infra.head()"
   ]
  },
  {
   "cell_type": "code",
   "execution_count": null,
   "metadata": {},
   "outputs": [],
   "source": [
    "dat_green_gray_infra[[\"PercentageGroen\", \"PercentageGrijs\"]].describe()"
   ]
  },
  {
   "cell_type": "code",
   "execution_count": null,
   "metadata": {},
   "outputs": [],
   "source": [
    "# print(dat_green_gray_infra.shape)\n",
    "# dat_green_gray_infra = dat_green_gray_infra.merge(gdf_wijk_2020[[\"WK_CODE\", \"area_complete\"]],  on = \"WK_CODE\")\n",
    "# print(dat_green_gray_infra.shape)"
   ]
  },
  {
   "cell_type": "code",
   "execution_count": null,
   "metadata": {},
   "outputs": [],
   "source": [
    "# lll = dat_green_gray_infra[dat_green_gray_infra[\"total_green_buurt\"] > dat_green_gray_infra[\"area_complete\"]]\n",
    "# gdf_wijk_2020[gdf_wijk_2020.WK_CODE.isin(lll.WK_CODE)]"
   ]
  },
  {
   "cell_type": "code",
   "execution_count": null,
   "metadata": {},
   "outputs": [],
   "source": [
    "# dat_green_gray_infra[\"p_green_wijk\"] = dat_green_gray_infra[\"total_green_buurt\"] / dat_green_gray_infra[\"area_complete\"] \n",
    "# dat_green_gray_infra[\"p_grey_wijk\"] = dat_green_gray_infra[\"total_grey_buurt\"] / dat_green_gray_infra[\"area_complete\"] "
   ]
  },
  {
   "cell_type": "code",
   "execution_count": null,
   "metadata": {},
   "outputs": [],
   "source": [
    "# dat_green_gray_infra[dat_green_gray_infra.p_green_wijk > 1]"
   ]
  },
  {
   "cell_type": "code",
   "execution_count": null,
   "metadata": {},
   "outputs": [],
   "source": [
    "dat_green_gray_infra = dat_green_gray_infra.rename(columns = {\"PercentageGroen\":\"p_green\", \"PercentageGrijs\":\"p_gray\"})"
   ]
  },
  {
   "cell_type": "code",
   "execution_count": null,
   "metadata": {},
   "outputs": [],
   "source": [
    "print(look_up_23_20_ext.shape)\n",
    "look_up_23_20_ext = look_up_23_20_ext.merge(dat_green_gray_infra[[\"WK_CODE\", \"p_green\", \"p_gray\"]], how = \"left\", \n",
    "                                            left_on = \"WK_CODE_20\", right_on = \"WK_CODE\")\n",
    "print(look_up_23_20_ext.shape)"
   ]
  },
  {
   "cell_type": "code",
   "execution_count": null,
   "metadata": {},
   "outputs": [],
   "source": [
    "dat_green_gray_g23 = (\n",
    "    look_up_23_20_ext.groupby(\"WK_CODE_23\")\n",
    "    .apply(lambda group: pd.Series(\n",
    "            {col: weighted_average(group, col, \"area_prop\") for col in [\"p_green\", \"p_gray\"]}))\n",
    "    .reset_index()\n",
    ")\n",
    "dat_green_gray_g23.head()"
   ]
  },
  {
   "cell_type": "code",
   "execution_count": null,
   "metadata": {},
   "outputs": [],
   "source": [
    "dat_green_gray_g23.plot.scatter(\"p_green\", \"p_gray\")\n",
    "# plt.show()"
   ]
  },
  {
   "cell_type": "markdown",
   "metadata": {},
   "source": [
    "## Inequality and GINI"
   ]
  },
  {
   "cell_type": "code",
   "execution_count": null,
   "metadata": {},
   "outputs": [],
   "source": [
    "### files and folder paths \n",
    "energy_cost = \"energy_cost/Energiekosten - 2021 - Wijken (2023).csv\"\n",
    "energy_labels = \"energy_labels/Energielabels (geldige labels Rijksoverheid) - Wijken (2023)_2020_2024.csv\"\n",
    "fragility_elderly = \"fragility_elderly/50090NED_UntypedDataSet_18112024_154023.csv\"\n",
    "heating_system = \"heating system/Hoofdverwarmingsinstallaties_woningen_2022_2023.xlsx\"\n",
    "infrastructure = \"infrastructure/KEA_GroenGrijsPerBuurt_2023_03.xlsx\"\n",
    "renewable_energy_homes = \"renewable_energy_homes/Hernieuwbare energie-installaties - Wijken (2023).csv\"\n",
    "energetic_efficiency = \"climate_monitor/Inhoudelijke datasets per sector en thema - 2021 - Wijken.csv\"\n",
    "environmental_climatic = \"climatic_environmental/KEA_GroenGrijsPerBuurt_2023_03_Processed.xlsx\"\n",
    "inequality = \"income_inequality/VSO Tabel Hoofdstuk 7 2021.xlsx\""
   ]
  },
  {
   "cell_type": "code",
   "execution_count": null,
   "metadata": {},
   "outputs": [],
   "source": [
    "dat_gini_g23 = pd.read_excel(os.path.join(os.getcwd(), inequality), sheet_name = \"GINI\")\n",
    "dat_gini_g23 = dat_gini_g23[dat_gini_g23[\"BU_CODE\"] == \"Totaal\"]"
   ]
  },
  {
   "cell_type": "code",
   "execution_count": null,
   "metadata": {},
   "outputs": [],
   "source": [
    "dat_gini_g23[\"WK_CODE_23\"] = \"WK\" + dat_gini_g23[\"GM_CODE\"] + dat_gini_g23[\"WK_CODE\"]\n",
    "dat_gini_g23.head()"
   ]
  },
  {
   "cell_type": "code",
   "execution_count": null,
   "metadata": {},
   "outputs": [],
   "source": [
    "dat_gini_g23 = dat_gini_g23[[\"WK_CODE_23\", \"GINI\"]]\n",
    "dat_gini_g23.head()"
   ]
  },
  {
   "cell_type": "markdown",
   "metadata": {},
   "source": [
    "## Climatic HDD and CDD "
   ]
  },
  {
   "cell_type": "code",
   "execution_count": null,
   "metadata": {},
   "outputs": [],
   "source": [
    "# # download HDD and CDD\n",
    "# download_dataset_file(\n",
    "# session,\n",
    "# base_url,\n",
    "# dataset_name, \n",
    "# dataset_version, \n",
    "# filename = 'jaarlijks-cdd-climatology-ANN-2020_gridded.nc', \n",
    "# directory = download_directory,\n",
    "# overwrite = True\n",
    "# )"
   ]
  },
  {
   "cell_type": "code",
   "execution_count": null,
   "metadata": {},
   "outputs": [],
   "source": [
    "# download_dataset_file(\n",
    "# session,\n",
    "# base_url,\n",
    "# dataset_name, \n",
    "# dataset_version, \n",
    "# filename = 'jaarlijks-hdd-climatology-ANN-2020_gridded.nc', \n",
    "# directory = download_directory,\n",
    "# overwrite = True\n",
    "# )"
   ]
  },
  {
   "cell_type": "markdown",
   "metadata": {},
   "source": [
    "### CDD"
   ]
  },
  {
   "cell_type": "code",
   "execution_count": null,
   "metadata": {},
   "outputs": [],
   "source": [
    "# Open the CDD file \n",
    "file_path = \"./climatic_environmental/jaarlijks-cdd-climatology-ANN-2020_gridded.nc\"\n",
    "dat_cdd = xr.open_dataset(file_path)"
   ]
  },
  {
   "cell_type": "code",
   "execution_count": null,
   "metadata": {},
   "outputs": [],
   "source": [
    "dat_cdd"
   ]
  },
  {
   "cell_type": "code",
   "execution_count": null,
   "metadata": {},
   "outputs": [],
   "source": [
    "dat_cdd = dat_cdd.to_dataframe().reset_index()"
   ]
  },
  {
   "cell_type": "code",
   "execution_count": null,
   "metadata": {},
   "outputs": [],
   "source": [
    "dat_cdd.interpolatedObs.isna().value_counts()"
   ]
  },
  {
   "cell_type": "code",
   "execution_count": null,
   "metadata": {},
   "outputs": [],
   "source": [
    "dat_cdd = dat_cdd[~dat_cdd.interpolatedObs.isna()]\n",
    "print(dat_cdd.shape)\n",
    "dat_cdd.head()"
   ]
  },
  {
   "cell_type": "code",
   "execution_count": null,
   "metadata": {},
   "outputs": [],
   "source": [
    "dat_cdd[\"x\"] = pd.to_numeric(dat_cdd[\"x\"], errors=\"coerce\")\n",
    "dat_cdd[\"y\"] = pd.to_numeric(dat_cdd[\"y\"], errors=\"coerce\")"
   ]
  },
  {
   "cell_type": "code",
   "execution_count": null,
   "metadata": {},
   "outputs": [],
   "source": [
    "dat_cdd = dat_cdd[[\"x\", \"y\", \"interpolatedObs\"]]\n",
    "dat_cdd_proj = dat_cdd.copy()"
   ]
  },
  {
   "cell_type": "code",
   "execution_count": null,
   "metadata": {},
   "outputs": [],
   "source": [
    "from pyproj import Proj, transform\n",
    "\n",
    "# Define the input CRS (from the Proj4 string)\n",
    "input_crs = Proj(\"+proj=sterea +lat_0=52.15616055555555 +lon_0=5.38763888888889 \"\n",
    "                 \"+k=0.9999079 +x_0=155000 +y_0=463000 +ellps=bessel \"\n",
    "                 \"+towgs84=565.4171,50.3319,465.5524,-0.398957388243134,\"\n",
    "                 \"0.343987817378283,-1.87740163998045,4.0725 +units=m +no_defs\")\n",
    "dat_cdd_proj = gpd.GeoDataFrame(dat_cdd_proj, geometry=gpd.points_from_xy(dat_cdd_proj[\"x\"], dat_cdd_proj[\"y\"]))"
   ]
  },
  {
   "cell_type": "code",
   "execution_count": null,
   "metadata": {},
   "outputs": [],
   "source": [
    "dat_cdd_proj.set_crs(\n",
    "            \"+proj=sterea +lat_0=52.15616055555555 +lon_0=5.38763888888889 \"\n",
    "            \"+k=0.9999079 +x_0=155000 +y_0=463000 +ellps=bessel \"\n",
    "            \"+towgs84=565.4171,50.3319,465.5524,-0.398957388243134,\"\n",
    "            \"0.343987817378283,-1.87740163998045,4.0725 +units=m +no_defs\", \n",
    "            inplace=True)"
   ]
  },
  {
   "cell_type": "code",
   "execution_count": null,
   "metadata": {},
   "outputs": [],
   "source": [
    "dat_cdd_proj = dat_cdd_proj.to_crs(epsg=28992)"
   ]
  },
  {
   "cell_type": "code",
   "execution_count": null,
   "metadata": {},
   "outputs": [],
   "source": [
    "dat_cdd_proj = gpd.sjoin(dat_cdd_proj, id_wijken_23[[\"WK_CODE_23\", \"GM_CODE_23\", \"geometry\"]], how = \"left\", predicate = \"within\")\n",
    "dat_cdd_proj.head()"
   ]
  },
  {
   "cell_type": "code",
   "execution_count": null,
   "metadata": {},
   "outputs": [],
   "source": [
    "print(sum(dat_cdd_proj.WK_CODE_23.isnull())/dat_cdd_proj.shape[0])\n",
    "dat_cdd_proj = dat_cdd_proj[~dat_cdd_proj[\"WK_CODE_23\"].isnull()]"
   ]
  },
  {
   "cell_type": "code",
   "execution_count": null,
   "metadata": {},
   "outputs": [],
   "source": [
    "dat_cdd_g23 = (dat_cdd_proj.\n",
    "               groupby([\"WK_CODE_23\", \"GM_CODE_23\"])[\"interpolatedObs\"].\n",
    "               mean().\n",
    "               reset_index().\n",
    "               rename(columns = {\"interpolatedObs\":\"CDD\"})\n",
    "               )"
   ]
  },
  {
   "cell_type": "markdown",
   "metadata": {},
   "source": [
    "### HDD"
   ]
  },
  {
   "cell_type": "code",
   "execution_count": null,
   "metadata": {},
   "outputs": [],
   "source": [
    "# Open the CDD file \n",
    "file_path = \"./climatic_environmental/jaarlijks-hdd-climatology-ANN-2020_gridded.nc\"\n",
    "dat_hdd = xr.open_dataset(file_path)"
   ]
  },
  {
   "cell_type": "code",
   "execution_count": null,
   "metadata": {},
   "outputs": [],
   "source": [
    "dat_hdd"
   ]
  },
  {
   "cell_type": "code",
   "execution_count": null,
   "metadata": {},
   "outputs": [],
   "source": [
    "dat_hdd = dat_hdd.to_dataframe().reset_index()"
   ]
  },
  {
   "cell_type": "code",
   "execution_count": null,
   "metadata": {},
   "outputs": [],
   "source": [
    "dat_hdd.interpolatedObs.isna().value_counts()"
   ]
  },
  {
   "cell_type": "code",
   "execution_count": null,
   "metadata": {},
   "outputs": [],
   "source": [
    "dat_hdd.describe()"
   ]
  },
  {
   "cell_type": "code",
   "execution_count": null,
   "metadata": {},
   "outputs": [],
   "source": [
    "dat_hdd = dat_hdd[~dat_hdd.interpolatedObs.isna()]\n",
    "print(dat_hdd.shape)\n",
    "dat_hdd.head()"
   ]
  },
  {
   "cell_type": "code",
   "execution_count": null,
   "metadata": {},
   "outputs": [],
   "source": [
    "dat_hdd[\"x\"] = pd.to_numeric(dat_hdd[\"x\"], errors=\"coerce\")\n",
    "dat_hdd[\"y\"] = pd.to_numeric(dat_hdd[\"y\"], errors=\"coerce\")"
   ]
  },
  {
   "cell_type": "code",
   "execution_count": null,
   "metadata": {},
   "outputs": [],
   "source": [
    "dat_hdd = dat_hdd[[\"x\", \"y\", \"interpolatedObs\"]]\n",
    "dat_hdd_proj = dat_hdd.copy()"
   ]
  },
  {
   "cell_type": "code",
   "execution_count": null,
   "metadata": {},
   "outputs": [],
   "source": [
    "from pyproj import Proj, transform\n",
    "\n",
    "# Define the input CRS (from the Proj4 string)\n",
    "dat_hdd_proj = gpd.GeoDataFrame(dat_hdd_proj, geometry=gpd.points_from_xy(dat_hdd_proj[\"x\"], dat_hdd_proj[\"y\"]))"
   ]
  },
  {
   "cell_type": "code",
   "execution_count": null,
   "metadata": {},
   "outputs": [],
   "source": [
    "dat_hdd_proj.set_crs(\n",
    "            \"+proj=sterea +lat_0=52.15616055555555 +lon_0=5.38763888888889 +k=0.9999079 +x_0=155000 +y_0=463000 +ellps=bessel +towgs84=565.4171,50.3319,465.5524,-0.398957388243134,0.343987817378283,-1.87740163998045,4.0725 +units=m +no_defs\", \n",
    "            inplace=True)"
   ]
  },
  {
   "cell_type": "code",
   "execution_count": null,
   "metadata": {},
   "outputs": [],
   "source": [
    "dat_hdd_proj = dat_hdd_proj.to_crs(epsg=28992)"
   ]
  },
  {
   "cell_type": "code",
   "execution_count": null,
   "metadata": {},
   "outputs": [],
   "source": [
    "dat_hdd_proj = gpd.sjoin(dat_hdd_proj, id_wijken_23[[\"WK_CODE_23\", \"GM_CODE_23\", \"geometry\"]], how = \"left\", predicate = \"within\")\n",
    "dat_hdd_proj.head()"
   ]
  },
  {
   "cell_type": "code",
   "execution_count": null,
   "metadata": {},
   "outputs": [],
   "source": [
    "print(sum(dat_hdd_proj.WK_CODE_23.isnull())/dat_hdd_proj.shape[0])\n",
    "dat_hdd_proj = dat_hdd_proj[~dat_hdd_proj[\"WK_CODE_23\"].isnull()]"
   ]
  },
  {
   "cell_type": "code",
   "execution_count": null,
   "metadata": {},
   "outputs": [],
   "source": [
    "dat_hdd_g23 = (dat_hdd_proj.\n",
    "               groupby([\"WK_CODE_23\", \"GM_CODE_23\"])[\"interpolatedObs\"].\n",
    "               mean().\n",
    "               reset_index().\n",
    "               rename(columns = {\"interpolatedObs\":\"HDD\"})\n",
    "               )"
   ]
  },
  {
   "cell_type": "markdown",
   "metadata": {},
   "source": [
    "## Neighborhood characteristics -- Wijktyppologie \n"
   ]
  },
  {
   "cell_type": "code",
   "execution_count": null,
   "metadata": {},
   "outputs": [],
   "source": [
    "### files and folder paths \n",
    "energy_cost = \"energy_cost/Energiekosten - 2021 - Wijken (2023).csv\"\n",
    "energy_labels = \"energy_labels/Energielabels (geldige labels Rijksoverheid) - Wijken (2023)_2020_2024.csv\"\n",
    "fragility_elderly = \"fragility_elderly/50090NED_UntypedDataSet_18112024_154023.csv\"\n",
    "heating_system = \"heating system/Hoofdverwarmingsinstallaties_woningen_2022_2023.xlsx\"\n",
    "infrastructure = \"infrastructure/KEA_GroenGrijsPerBuurt_2023_03.xlsx\"\n",
    "renewable_energy_homes = \"renewable_energy_homes/Hernieuwbare energie-installaties - Wijken (2023).csv\"\n",
    "energetic_efficiency = \"climate_monitor/Inhoudelijke datasets per sector en thema - 2021 - Wijken.csv\"\n",
    "environmental_climatic = \"climatic_environmental/KEA_GroenGrijsPerBuurt_2023_03_Processed.xlsx\"\n",
    "inequality = \"income_inequality/VSO Tabel Hoofdstuk 7 2021.xlsx\"\n",
    "wijk_typology = \"neighborhood_typology/Buurt_typologie.csv\""
   ]
  },
  {
   "cell_type": "code",
   "execution_count": null,
   "metadata": {},
   "outputs": [],
   "source": [
    "dat_wijk_typ = pd.read_csv(os.path.join(os.getcwd(), wijk_typology), header=0, sep = \",\")\n",
    "dat_wijk_typ.WijktypeDef.value_counts()"
   ]
  },
  {
   "cell_type": "code",
   "execution_count": null,
   "metadata": {},
   "outputs": [],
   "source": [
    "col_wijk_typo = {\n",
    "    'Historische binnenstad':\"Historic city block\", \n",
    "    'Groen':\"Green\", \n",
    "    'Naoorlogse woonwijk':\"Post_war residential\",\n",
    "    'Sub-urbane uitbreiding - VINEX':\"Sub_urban extension_VINEX\", \n",
    "    'Bloemkoolwijk':\"Cauliflower_neighbourhood\",\n",
    "    'Vooroorlogse woonwijk':\"Pre_war residential\", \n",
    "    'Villa':\"Villa\", \n",
    "    'Tuinstad hoogbouw':\"Garden city high-rise\", \n",
    "    'Bedrijven':\"Business\",\n",
    "    'Vernieuwd':\"Renewed\", \n",
    "    'Hoogbouw':\"High-rise\", \n",
    "    'Tuindorp':\"Garden village\", \n",
    "    'Stedelijk bouwblok':\"Urban building block\",\n",
    "    'Volkswijk':\"Working_class area\", \n",
    "    'Tuinstad laagbouw':\"Garden city low-rise\", \n",
    "    'Buitengebied':\"Rural area\"\n",
    "    }\n",
    "list(col_wijk_typo.keys())\n",
    "list(col_wijk_typo.values())"
   ]
  },
  {
   "cell_type": "code",
   "execution_count": null,
   "metadata": {},
   "outputs": [],
   "source": [
    "dat_wijk_typ.WijktypeDef = dat_wijk_typ.WijktypeDef.replace(list(col_wijk_typo.keys()), list(col_wijk_typo.values()))\n",
    "dat_wijk_typ.WijktypeDef.value_counts()"
   ]
  },
  {
   "cell_type": "code",
   "execution_count": null,
   "metadata": {},
   "outputs": [],
   "source": [
    "sum(~gdf_buurt_2022.BU_CODE.isin(dat_wijk_typ.BU_CODE))/len(gdf_buurt_2022.BU_CODE)"
   ]
  },
  {
   "cell_type": "code",
   "execution_count": null,
   "metadata": {},
   "outputs": [],
   "source": [
    "sum(~dat_wijk_typ.BU_CODE.isin(gdf_buurt_2022.BU_CODE))\n",
    "dat_wijk_typ = dat_wijk_typ.merge(gdf_buurt_2022[[\"BU_CODE\", \"WK_CODE\"]], on = \"BU_CODE\", how = \"left\")\n",
    "dat_wijk_typ = dat_wijk_typ.groupby(\"WK_CODE\").WijktypeDef.value_counts().reset_index()\n",
    "dat_wijk_typ.head(n = 5)"
   ]
  },
  {
   "cell_type": "code",
   "execution_count": null,
   "metadata": {},
   "outputs": [],
   "source": [
    "idx_pred_type = dat_wijk_typ.groupby(\"WK_CODE\")[\"count\"].idxmax()"
   ]
  },
  {
   "cell_type": "code",
   "execution_count": null,
   "metadata": {},
   "outputs": [],
   "source": [
    "dat_wijk_typ = dat_wijk_typ.iloc[idx_pred_type, :]"
   ]
  },
  {
   "cell_type": "code",
   "execution_count": null,
   "metadata": {},
   "outputs": [],
   "source": [
    "sum(~dat_wijk_typ.WK_CODE.isin(id_wijken_23.WK_CODE_23))"
   ]
  },
  {
   "cell_type": "code",
   "execution_count": null,
   "metadata": {},
   "outputs": [],
   "source": [
    "print(dat_wijk_typ.shape)\n",
    "dat_wijk_typ2 = dat_wijk_typ.merge(look_up_23_22, left_on = \"WK_CODE\", right_on = \"WK_CODE_22\", how = \"left\")\n",
    "print(dat_wijk_typ2.shape)"
   ]
  },
  {
   "cell_type": "code",
   "execution_count": null,
   "metadata": {},
   "outputs": [],
   "source": [
    "dat_wijk_typ2[dat_wijk_typ2.WK_CODE_23.isin(dat_wijk_typ2.WK_CODE_23[dat_wijk_typ2.WK_CODE_23.duplicated()])]"
   ]
  },
  {
   "cell_type": "code",
   "execution_count": null,
   "metadata": {},
   "outputs": [],
   "source": [
    "idx_pred_wijk23 = dat_wijk_typ2.groupby(\"WK_CODE_23\")[\"area_prop\"].idxmax()\n",
    "dat_wijk_typ_g23 = dat_wijk_typ2.iloc[idx_pred_wijk23, :]\n",
    "dat_wijk_typ_g23 = dat_wijk_typ_g23[[\"WK_CODE_23\", \"WijktypeDef\"]]\n",
    "dat_wijk_typ_g23 = dat_wijk_typ_g23.rename(columns={\"WijktypeDef\":\"wijk_predominant_typology\"})\n",
    "dat_wijk_typ_g23.head()"
   ]
  },
  {
   "cell_type": "markdown",
   "metadata": {},
   "source": [
    "## Construction and house typology \n",
    "https://www.arcgis.com/sharing/rest/content/items/fa01ef63321e482e9b2c55620e554ffc/info/metadata/metadata.xml?format=default&output=html\n",
    "The Housing Typing dataset only contains buildings that contain at least one residential object with the purpose of use “residential function”, hereinafter referred to as “homes”. These buildings are divided into the following categories in the analysis: Apartment. This is a dwelling to which multiple residential objects are related, regardless of the purpose of use of these residential objects. However, as for all properties in this dataset, at least one of these residential objects must have the purpose of use 'residential function'. Detached house. This is a dwelling that is not connected to another property with a residential object. Intermediate or semi-detached house. This dwelling is connected to multiple properties with a residential object. This category also includes semi-detached houses, these are houses that are connected by means of their garages instead of their main building. Corner house. This is the first or last house in a series of properties. This house is itself connected to a single property with a residential object, but this other property is connected to multiple other properties. Semi-detached.This property is connected to a single property with a residential object and this other property is only connected to the first property. The analysis was performed using ArcGIS tools in ArcGIS"
   ]
  },
  {
   "cell_type": "code",
   "execution_count": null,
   "metadata": {},
   "outputs": [],
   "source": [
    "os.getcwd()"
   ]
  },
  {
   "cell_type": "code",
   "execution_count": null,
   "metadata": {},
   "outputs": [],
   "source": [
    "dat_housing_char = pd.read_csv(\"BAG/main_woning_verblijf_for_R2.csv\", sep = \",\", header=0)"
   ]
  },
  {
   "cell_type": "code",
   "execution_count": null,
   "metadata": {},
   "outputs": [],
   "source": [
    "dat_housing_char[\"house_function\"] = np.where(dat_housing_char[\"main__pand_gebruiksdoel\"].str.contains(\"woonfunctie\"),\n",
    "                                             \"woonfunctie\", np.NAN) "
   ]
  },
  {
   "cell_type": "code",
   "execution_count": null,
   "metadata": {},
   "outputs": [],
   "source": [
    "dat_housing_char = dat_housing_char[(dat_housing_char[\"house_function\"] == \"woonfunctie\") & (dat_housing_char[\"main__pand_status\"] == \"Pand in gebruik\")]"
   ]
  },
  {
   "cell_type": "code",
   "execution_count": null,
   "metadata": {},
   "outputs": [],
   "source": [
    "dat_housing_char.groupby(\"main__pand_status\").main__pand_aantal_verblijfsobjecten.sum()"
   ]
  },
  {
   "cell_type": "code",
   "execution_count": null,
   "metadata": {},
   "outputs": [],
   "source": [
    "dat_housing_char.groupby(\"L0Woningtypering_Woningtypering\").main__pand_aantal_verblijfsobjecten.sum()"
   ]
  },
  {
   "cell_type": "code",
   "execution_count": null,
   "metadata": {},
   "outputs": [],
   "source": [
    "8045600 - dat_housing_char.main__pand_aantal_verblijfsobjecten.sum()"
   ]
  },
  {
   "cell_type": "code",
   "execution_count": null,
   "metadata": {},
   "outputs": [],
   "source": [
    "dat_housing_char.main__pand_status.value_counts()"
   ]
  },
  {
   "cell_type": "code",
   "execution_count": null,
   "metadata": {},
   "outputs": [],
   "source": [
    "dict_housing_typo = {\n",
    "    'appartement':'apartment', \n",
    "    'tussenwoning/geschakeld': 'terraced_house_semi_detached', \n",
    "    'hoekwoning':'corner_house', \n",
    "    'twee-onder-een-kap': 'semi_detached',\n",
    "    'vrijstaande woning':'detached'\n",
    "}\n",
    "dat_housing_char[\"t_housing_type\"] = dat_housing_char[\"L0Woningtypering_Woningtypering\"].replace(list(dict_housing_typo.keys()), list(dict_housing_typo.values()))"
   ]
  },
  {
   "cell_type": "code",
   "execution_count": null,
   "metadata": {},
   "outputs": [],
   "source": [
    "dat_housing_char = dat_housing_char.rename(columns = {\"main__pand_aantal_verblijfsobjecten\":\"total_residential_units\"})"
   ]
  },
  {
   "cell_type": "code",
   "execution_count": null,
   "metadata": {},
   "outputs": [],
   "source": [
    "house_year_cut = [-np.inf, \n",
    "                  1924, \n",
    "                  1947, \n",
    "                  1963, \n",
    "                  1981, \n",
    "                #   1995, \n",
    "                  2002, \n",
    "                  2015, \n",
    "                  np.inf]\n",
    "dat_housing_char.main__pand_bouwjaar.value_counts()"
   ]
  },
  {
   "cell_type": "code",
   "execution_count": null,
   "metadata": {},
   "outputs": [],
   "source": [
    "dat_housing_char[\"t_construction_year\"] = pd.cut(dat_housing_char['main__pand_bouwjaar'], house_year_cut, labels = [\"Before 1924\", \"1925-1947\", \"1948-1963\", \"1964-1981\", \"1982-2002\", \"2003-2015\", \"After 2015\"], right = True)\n",
    "dat_housing_char[\"t_construction_year\"].value_counts()"
   ]
  },
  {
   "cell_type": "code",
   "execution_count": null,
   "metadata": {},
   "outputs": [],
   "source": [
    "geometry_housing_char = dat_housing_char.geom_string.str.rsplit(\" \")"
   ]
  },
  {
   "cell_type": "code",
   "execution_count": null,
   "metadata": {},
   "outputs": [],
   "source": [
    "dat_housing_char[\"x\"] = [ii[0] for ii in geometry_housing_char]\n",
    "dat_housing_char[\"y\"] = [ii[1] for ii in geometry_housing_char]"
   ]
  },
  {
   "cell_type": "code",
   "execution_count": null,
   "metadata": {},
   "outputs": [],
   "source": [
    "dat_housing_char[\"x\"] = dat_housing_char[\"x\"].astype(float)\n",
    "dat_housing_char[\"y\"] = dat_housing_char[\"y\"].astype(float)"
   ]
  },
  {
   "cell_type": "code",
   "execution_count": null,
   "metadata": {},
   "outputs": [],
   "source": [
    "dat_housing_char_geo = dat_housing_char[[\"t_housing_type\", \"t_construction_year\", \"total_residential_units\", \"x\", \"y\"]]\n",
    "dat_housing_char_geo = gpd.GeoDataFrame(dat_housing_char_geo, geometry = gpd.points_from_xy(dat_housing_char_geo.x , dat_housing_char_geo.y, crs = \"EPSG:28992\"))\n",
    "# dat_housing_char_geo = dat_housing_char_geo.to_crs(\"EPSG:28992\")"
   ]
  },
  {
   "cell_type": "code",
   "execution_count": null,
   "metadata": {},
   "outputs": [],
   "source": [
    "dat_housing_char_geo= dat_housing_char_geo.sjoin(id_wijken_23, predicate = \"within\", how = \"left\")\n",
    "dat_housing_char_geo.head()"
   ]
  },
  {
   "cell_type": "code",
   "execution_count": null,
   "metadata": {},
   "outputs": [],
   "source": [
    "inter_one = dat_housing_char_geo.groupby([\"WK_CODE_23\",\"t_housing_type\"])[\"total_residential_units\"].sum().reset_index()#.rename(columns = {\"count\":\"total\"})\n",
    "inter_one.head()"
   ]
  },
  {
   "cell_type": "code",
   "execution_count": null,
   "metadata": {},
   "outputs": [],
   "source": [
    "inter_one = dat_housing_char_geo.groupby([\"WK_CODE_23\",\"t_housing_type\"])[\"total_residential_units\"].sum().reset_index()#.rename(columns = {\"count\":\"total\"})\n",
    "inter_one[\"share\"] = (inter_one['total_residential_units'] / inter_one.groupby('WK_CODE_23')['total_residential_units'].transform('sum')) * 100\n",
    "inter_one = (pd.pivot_table(inter_one, values = \"share\", index = \"WK_CODE_23\", columns = [\"t_housing_type\"]).\n",
    "             reset_index().\n",
    "             add_prefix('p_h_type_').\n",
    "             rename(columns={\"p_h_type_WK_CODE_23\":\"WK_CODE_23\"}))\n",
    "print(inter_one.shape)\n",
    "\n",
    "inter_two = dat_housing_char_geo.groupby([\"WK_CODE_23\",\"t_construction_year\",])[\"total_residential_units\"].sum().reset_index()#.rename(columns = {\"count\":\"total\"})\n",
    "inter_two[\"share\"] = (inter_two['total_residential_units'] / inter_two.groupby('WK_CODE_23')['total_residential_units'].transform('sum')) * 100\n",
    "inter_two = (pd.pivot_table(inter_two, values = \"share\", index = \"WK_CODE_23\", columns = [\"t_construction_year\"]).\n",
    "             reset_index().\n",
    "             add_prefix('p_h_year_cons_').\n",
    "             rename(columns={\"p_h_year_cons_WK_CODE_23\":\"WK_CODE_23\"}))\n",
    "print(inter_two.shape)\n"
   ]
  },
  {
   "cell_type": "code",
   "execution_count": null,
   "metadata": {},
   "outputs": [],
   "source": [
    "inter_total = dat_housing_char_geo.groupby([\"WK_CODE_23\"])[\"total_residential_units\"].sum().reset_index()#.rename(columns = {\"count\":\"total\"})\n",
    "inter_total.head()"
   ]
  },
  {
   "cell_type": "code",
   "execution_count": null,
   "metadata": {},
   "outputs": [],
   "source": [
    "dat_housing_char_g23 = inter_one.merge(inter_two, on = \"WK_CODE_23\")\n",
    "dat_housing_char_g23 = dat_housing_char_g23.merge(inter_total, on = \"WK_CODE_23\" ,how = \"left\")\n",
    "print(dat_housing_char_g23.shape)\n",
    "dat_housing_char_g23.head()"
   ]
  },
  {
   "cell_type": "markdown",
   "metadata": {},
   "source": [
    "# Save all intermediate tables"
   ]
  },
  {
   "cell_type": "code",
   "execution_count": null,
   "metadata": {},
   "outputs": [],
   "source": [
    "save_intermediate = True\n",
    "if (save_intermediate):\n",
    "    print(\"Saving\")\n",
    "    dict_inter_tables = {\n",
    "        \"dat_elderly_g23\" : dat_elderly_g23, \n",
    "        \"dat_buurt_kaart_g23\" : dat_buurt_kaart_g23,\n",
    "        \"dat_heating_sys_g23\" : dat_heating_sys_g23,\n",
    "        \"dat_energetic_efficiency_g23\" : dat_energetic_efficiency_g23, \n",
    "        \"dat_green_gray_g23\" : dat_green_gray_g23, \n",
    "        \"dat_gini_g23\" : dat_gini_g23,\n",
    "        \"dat_cdd_g23\" : dat_cdd_g23,\n",
    "        \"dat_hdd_g23\" : dat_hdd_g23, \n",
    "        \"dat_wijk_typ_g23\":dat_wijk_typ_g23,\n",
    "        \"dat_housing_char_g23\":dat_housing_char_g23 \n",
    "    }\n",
    "    with open(\"00_intermediate_data/dict_intermediate_tables.pkl\", \"wb\") as file:\n",
    "        pickle.dump(dict_inter_tables, file)\n",
    "else: \n",
    "    print(\"Loading\")\n",
    "    with open(\"00_intermediate_data/dict_intermediate_tables.pkl\", \"rb\") as file:\n",
    "        dict_inter_tables = pickle.load(file)\n",
    "        dat_elderly_g23 = dict_inter_tables[\"dat_elderly_g23\"] \n",
    "        dat_buurt_kaart_g23 = dict_inter_tables[\"dat_buurt_kaart_g23\"] \n",
    "        dat_heating_sys_g23 = dict_inter_tables[\"dat_heating_sys_g23\"] \n",
    "        dat_energetic_efficiency_g23 = dict_inter_tables[\"dat_energetic_efficiency_g23\"]  \n",
    "        dat_green_gray_g23 = dict_inter_tables[\"dat_green_gray_g23\"]  \n",
    "        dat_gini_g23 = dict_inter_tables[\"dat_gini_g23\"]\n",
    "        dat_cdd_g23 = dict_inter_tables[\"dat_cdd_g23\"] \n",
    "        dat_hdd_g23 = dict_inter_tables[\"dat_hdd_g23\"]  \n",
    "        dat_wijk_typ_g23 = dict_inter_tables[\"dat_wijk_typ_g23\"]\n",
    "        dat_housing_char_g23 = dict_inter_tables[\"dat_housing_char_g23\"]\n",
    "    "
   ]
  },
  {
   "cell_type": "markdown",
   "metadata": {},
   "source": [
    "# Merging all tables into 2023 geography"
   ]
  },
  {
   "cell_type": "markdown",
   "metadata": {},
   "source": [
    "## Energy poverty (rental and owner occupied considered)"
   ]
  },
  {
   "cell_type": "code",
   "execution_count": null,
   "metadata": {},
   "outputs": [],
   "source": [
    "# Energy Poverty\n",
    "with open(\"energy_poverty/dict_ep_wijken.pkl\", 'rb') as file:\n",
    "    dict_ep_wijken = pickle.load(file)\n",
    "ep_wijken_21 = dict_ep_wijken[\"21\"]\n",
    "ep_wijken_21.head(n = 3)"
   ]
  },
  {
   "cell_type": "code",
   "execution_count": null,
   "metadata": {},
   "outputs": [],
   "source": [
    "ep_wijken_21 = ep_wijken_21[\n",
    "    ['Regiocode', \"year\", 'property_type', 'total_households', 'LIHE_AndOr_LILEK',\n",
    "    'LIHE_AndOr_LIZLEK', 'HEQ', 'LIHE', 'LILEK', 'LIZLEK ', 'LEKWI',\n",
    "    'ZLEKWI', 'LI', 'HE', 'LEK', 'ZLEK', 'standardize_residual_income',\n",
    "    'average_energy_ratio']\n",
    "    ]"
   ]
  },
  {
   "cell_type": "code",
   "execution_count": null,
   "metadata": {},
   "outputs": [],
   "source": [
    "def_wijken_23 = gdf_wijk_2023[[\"WK_CODE\", \"GM_NAAM\",  \"GM_CODE\", \"WK_NAAM\", \"geometry\", \"AANT_INW\"]]\n",
    "def_wijken_23 = def_wijken_23.rename(columns = {\"WK_CODE\":\"WK_CODE_23\", \n",
    "                                                \"WK_NAAM\":\"WK_NAAM_23\",\n",
    "                                                \"GM_CODE\":\"GM_CODE_23\",  \n",
    "                                                \"GM_NAAM\":\"GM_NAAM_23\",\n",
    "                                                \"AANT_INW\": \"AANT_INW_23\"})"
   ]
  },
  {
   "cell_type": "code",
   "execution_count": null,
   "metadata": {},
   "outputs": [],
   "source": [
    "#### Merging ###################3\n",
    "# Energy Poverty \n",
    "print(def_wijken_23.shape)\n",
    "def_wijken_23 = def_wijken_23.merge(ep_wijken_21, left_on= 'WK_CODE_23', right_on='Regiocode', how = 'left')\n",
    "print(def_wijken_23.shape)"
   ]
  },
  {
   "cell_type": "code",
   "execution_count": null,
   "metadata": {},
   "outputs": [],
   "source": [
    "# elderly \n",
    "print(def_wijken_23.shape)\n",
    "def_wijken_23 = def_wijken_23.merge(dat_elderly_g23, on = 'WK_CODE_23', how = 'left')\n",
    "print(def_wijken_23.shape)"
   ]
  },
  {
   "cell_type": "code",
   "execution_count": null,
   "metadata": {},
   "outputs": [],
   "source": [
    "# buurtkaart \n",
    "print(def_wijken_23.shape)\n",
    "def_wijken_23 = def_wijken_23.merge(dat_buurt_kaart_g23, on = 'WK_CODE_23', how = 'left')\n",
    "print(def_wijken_23.shape)"
   ]
  },
  {
   "cell_type": "code",
   "execution_count": null,
   "metadata": {},
   "outputs": [],
   "source": [
    "# heating system \n",
    "print(def_wijken_23.shape)\n",
    "def_wijken_23 = def_wijken_23.merge(dat_heating_sys_g23, on = 'WK_CODE_23', how = 'left')\n",
    "print(def_wijken_23.shape)"
   ]
  },
  {
   "cell_type": "code",
   "execution_count": null,
   "metadata": {},
   "outputs": [],
   "source": [
    "# Energetic efficiency\n",
    "print(def_wijken_23.shape)\n",
    "def_wijken_23 = def_wijken_23.merge(dat_energetic_efficiency_g23, on = 'WK_CODE_23', how = 'left')\n",
    "print(def_wijken_23.shape)"
   ]
  },
  {
   "cell_type": "code",
   "execution_count": null,
   "metadata": {},
   "outputs": [],
   "source": [
    "# Climatic and environmental: Infrastructure \n",
    "print(def_wijken_23.shape)\n",
    "def_wijken_23 = def_wijken_23.merge(dat_green_gray_g23, on = 'WK_CODE_23', how = 'left')\n",
    "print(def_wijken_23.shape)\n"
   ]
  },
  {
   "cell_type": "code",
   "execution_count": null,
   "metadata": {},
   "outputs": [],
   "source": [
    "# GINI\n",
    "print(def_wijken_23.shape)\n",
    "def_wijken_23 = def_wijken_23.merge(dat_gini_g23, on = 'WK_CODE_23', how = 'left')\n",
    "print(def_wijken_23.shape)"
   ]
  },
  {
   "cell_type": "code",
   "execution_count": null,
   "metadata": {},
   "outputs": [],
   "source": [
    "def_wijken_23[\"GINI\"] = np.where(def_wijken_23[\"GINI\"] == \".\", np.NAN, \n",
    "                                 np.where(def_wijken_23[\"GINI\"] == '>0,50', 0.51, def_wijken_23[\"GINI\"]))\n",
    "def_wijken_23[\"GINI\"] = def_wijken_23[\"GINI\"].astype(float)"
   ]
  },
  {
   "cell_type": "code",
   "execution_count": null,
   "metadata": {},
   "outputs": [],
   "source": [
    "# Climatic HDD and CDD\n",
    "print(def_wijken_23.shape)\n",
    "def_wijken_23 = def_wijken_23.merge(dat_cdd_g23[[\"WK_CODE_23\", \"CDD\"]], on = 'WK_CODE_23', how = 'left')\n",
    "def_wijken_23 = def_wijken_23.merge(dat_hdd_g23[[\"WK_CODE_23\", \"HDD\"]], on = 'WK_CODE_23', how = 'left')\n",
    "print(def_wijken_23.shape)"
   ]
  },
  {
   "cell_type": "code",
   "execution_count": null,
   "metadata": {},
   "outputs": [],
   "source": [
    "## urbanity degree \n",
    "print(def_wijken_23.shape)\n",
    "def_wijken_23 = def_wijken_23.merge(gdf_wijk_2023[[\"STED\", \"WK_CODE\"]], left_on = 'WK_CODE_23', right_on=\"WK_CODE\",how = 'left')\n",
    "print(def_wijken_23.shape)\n",
    "def_wijken_23[\"STED\"] = np.where(def_wijken_23[\"STED\"] == -99999999, np.NAN, def_wijken_23[\"STED\"])   "
   ]
  },
  {
   "cell_type": "code",
   "execution_count": null,
   "metadata": {},
   "outputs": [],
   "source": [
    "# Wijk typology \n",
    "print(def_wijken_23.shape)\n",
    "def_wijken_23 = def_wijken_23.merge(dat_wijk_typ_g23, on = 'WK_CODE_23', how = 'left')\n",
    "print(def_wijken_23.shape)"
   ]
  },
  {
   "cell_type": "code",
   "execution_count": null,
   "metadata": {},
   "outputs": [],
   "source": [
    "# housing characteristics \n",
    "\n",
    "print(def_wijken_23.shape)\n",
    "def_wijken_23 = def_wijken_23.merge(dat_housing_char_g23, on = 'WK_CODE_23', how = 'left')\n",
    "print(def_wijken_23.shape)\n"
   ]
  },
  {
   "cell_type": "code",
   "execution_count": null,
   "metadata": {},
   "outputs": [],
   "source": [
    "def_wijken_23 = def_wijken_23.drop(columns = \"WK_CODE\")"
   ]
  },
  {
   "cell_type": "code",
   "execution_count": null,
   "metadata": {},
   "outputs": [],
   "source": [
    "numeric_def_types = pd.DataFrame(def_wijken_23.dtypes).reset_index()\n",
    "numeric_def_types = list(numeric_def_types[numeric_def_types.iloc[:, 1] == \"float\"][\"index\"])"
   ]
  },
  {
   "cell_type": "markdown",
   "metadata": {},
   "source": [
    "## Calculate additional variables of interest"
   ]
  },
  {
   "cell_type": "code",
   "execution_count": null,
   "metadata": {},
   "outputs": [],
   "source": [
    "def_wijken_23[\"p_low_house_energy_eff\"] = def_wijken_23[\"p_homes_energy_label_E\"] + def_wijken_23[\"p_homes_energy_label_F\"] + def_wijken_23[\"p_homes_energy_label_G\"]\n",
    "def_wijken_23[\"p_medium_house_energy_eff\"] = def_wijken_23[\"p_homes_energy_label_C\"] + def_wijken_23[\"p_homes_energy_label_D\"]\n",
    "def_wijken_23[\"p_high_house_energy_eff\"] = def_wijken_23[\"p_homes_energy_label_B\"]\n",
    "def_wijken_23[\"p_very_high_house_energy_eff\"] = def_wijken_23[\"p_homes_energy_label_A_Aplus\"]"
   ]
  },
  {
   "cell_type": "code",
   "execution_count": null,
   "metadata": {},
   "outputs": [],
   "source": [
    "def_wijken_23 = def_wijken_23.rename(columns = {\"fragile_health_65\":\"p_fragile_health_65\"})\n",
    "\n",
    "def_wijken_23[\"p_unemployment_rate\"] = def_wijken_23[\"p_unemployment_rate\"] * 100 \n",
    "def_wijken_23[\"p_pension_coverage_rate\"] = def_wijken_23[\"p_pension_coverage_rate\"] * 100 \n",
    "def_wijken_23[\"p_precarious_part_time\"] = def_wijken_23[\"p_precarious_part_time\"] * 100 "
   ]
  },
  {
   "cell_type": "code",
   "execution_count": null,
   "metadata": {},
   "outputs": [],
   "source": [
    "def_wijken_23_toplot = def_wijken_23.copy()"
   ]
  },
  {
   "cell_type": "code",
   "execution_count": null,
   "metadata": {},
   "outputs": [],
   "source": [
    "cols_interest = ['HEQ', 'LIHE', 'standardize_residual_income', 'average_energy_ratio', \n",
    "                 'p_fragile_health_65', 'p_with_young_children', \n",
    "                 'p_pension_coverage_rate', 'p_unemployment_rate',  'p_precarious_part_time','p_disability', \n",
    "                 'p_owner_ocupied_home', 'p_rental_home', \n",
    "                 't_gas_consum_rental', 't_gas_consum_owner', 't_elec_consum_rental', 't_elec_consum_owner', 't_gas_consum_total', 't_elec_consum_total', \n",
    "                 'p_individual_CV', 'p_block_heating', 'p_district_heat', 'p_elec_heat', \n",
    "                 'p_homes_with_solar_panels',\n",
    "                 'housing_density', 'p_rental_own_hous_association',\n",
    "                 'p_green', 'p_gray', 'GINI',\n",
    "                 \"HDD\", \"CDD\", 'p_h_type_apartment',\n",
    "                'p_h_type_corner_house', 'p_h_type_detached', 'p_h_type_semi_detached',\n",
    "                'p_h_type_terraced_house_semi_detached', 'p_h_year_cons_Before 1924',\n",
    "                'p_h_year_cons_1925-1947', 'p_h_year_cons_1948-1963',\n",
    "                'p_h_year_cons_1964-1981', 'p_h_year_cons_1982-2002',\n",
    "                'p_h_year_cons_2003-2015', 'p_h_year_cons_After 2015',\n",
    "                'p_low_house_energy_eff', 'p_medium_house_energy_eff',\n",
    "                'p_high_house_energy_eff', 'p_very_high_house_energy_eff'\n",
    "                 ]"
   ]
  },
  {
   "cell_type": "code",
   "execution_count": null,
   "metadata": {},
   "outputs": [],
   "source": [
    "def_wijken_23_toplot[cols_interest].describe()"
   ]
  },
  {
   "cell_type": "code",
   "execution_count": null,
   "metadata": {},
   "outputs": [],
   "source": [
    "for column in cols_interest:\n",
    "    def_wijken_23_toplot[column] = np.where(def_wijken_23_toplot[column] < 0, np.nan, def_wijken_23_toplot[column])"
   ]
  },
  {
   "cell_type": "code",
   "execution_count": null,
   "metadata": {},
   "outputs": [],
   "source": [
    "quartiles_cols_interest = {}\n",
    "for column in cols_interest:\n",
    "    quartiles_cols_interest[column] = def_wijken_23_toplot[column].quantile([0.25, 0.5, 0.75])\n",
    "    quartiles_cols_interest[column] = list(quartiles_cols_interest[column] )\n",
    "    len_quartiles = set(quartiles_cols_interest[column])\n",
    "    if len(len_quartiles) < 3:\n",
    "        print(column)\n",
    "        continue \n",
    "    def_wijken_23_toplot[column] = pd.qcut(def_wijken_23_toplot[column], q = 4, labels = [\"Low\", \"Middle_Low\", \"Middle_High\", \"High\"])"
   ]
  },
  {
   "cell_type": "markdown",
   "metadata": {},
   "source": [
    "# Export data (csv and shp)"
   ]
  },
  {
   "cell_type": "code",
   "execution_count": null,
   "metadata": {},
   "outputs": [],
   "source": [
    "\n",
    "def_wijken_23.to_csv(\"00_intermediate_data/def_wijken_23.csv\", sep = \"|\", index=False)\n",
    "def_wijken_23_toplot.to_csv(\"00_intermediate_data/def_wijken_23_quartiles.csv\", sep = \"|\", index=False)\n",
    "with open(\"00_intermediate_data/quartiles_cols_interest.json\", \"w\") as file:\n",
    "    json.dump(quartiles_cols_interest, file)"
   ]
  },
  {
   "cell_type": "code",
   "execution_count": null,
   "metadata": {},
   "outputs": [],
   "source": [
    "import pyogrio\n",
    "def_wijken_23.to_file(\"00_intermediate_data/def_wijken_23.shp\") "
   ]
  },
  {
   "cell_type": "markdown",
   "metadata": {},
   "source": [
    "# Exploratory maps"
   ]
  },
  {
   "cell_type": "code",
   "execution_count": null,
   "metadata": {},
   "outputs": [],
   "source": [
    "cols_interest2 = ['HEQ',\n",
    " 'LIHE',\n",
    " 'standardize_residual_income',\n",
    " 'average_energy_ratio',\n",
    " 'p_fragile_health_65',\n",
    " 'p_with_young_children',\n",
    " 'p_pension_coverage_rate',\n",
    " 'p_unemployment_rate',\n",
    " 'p_precarious_part_time',\n",
    " 'p_disability', \n",
    " 'p_owner_ocupied_home',\n",
    " 'p_rental_home',\n",
    " 't_gas_consum_rental',\n",
    " 't_gas_consum_owner',\n",
    " 't_elec_consum_rental',\n",
    " 't_elec_consum_owner',\n",
    " 't_gas_consum_total',\n",
    " 't_elec_consum_total',\n",
    " 'p_individual_CV',\n",
    "#  'p_block_heating',\n",
    "#  'p_district_heat',\n",
    " 'p_elec_heat',\n",
    " 'p_homes_with_solar_panels',\n",
    " 'p_low_house_energy_eff',\n",
    " 'p_medium_house_energy_eff',\n",
    " 'p_high_house_energy_eff',\n",
    " 'p_very_high_house_energy_eff',\n",
    " 'housing_density',\n",
    " 'p_rental_own_hous_association',\n",
    " 'p_green',\n",
    " 'p_gray',\n",
    " 'GINI',\n",
    " 'HDD',\n",
    " 'CDD',\n",
    "'p_h_type_apartment', \n",
    "'p_h_type_corner_house', \n",
    "'p_h_type_detached', \n",
    "'p_h_type_semi_detached',\n",
    "'p_h_type_terraced_house_semi_detached', \n",
    "'p_h_year_cons_Before 1924',\n",
    "'p_h_year_cons_1925-1947', \n",
    "'p_h_year_cons_1948-1963',\n",
    "'p_h_year_cons_1964-1981', \n",
    "'p_h_year_cons_1982-2002',\n",
    "'p_h_year_cons_2003-2015', \n",
    "'p_h_year_cons_After 2015'\n",
    "]"
   ]
  },
  {
   "cell_type": "code",
   "execution_count": null,
   "metadata": {},
   "outputs": [],
   "source": [
    "# Define color scale (blue to red)\n",
    "cmap = plt.cm.get_cmap(\"coolwarm\") \n",
    "# Dynamically calculate rows and columns based on the number of plots\n",
    "ncols = 2\n",
    "nrows = math.ceil(len(cols_interest2) / ncols)  # Calculate rows needed\n",
    "nrows"
   ]
  },
  {
   "cell_type": "code",
   "execution_count": null,
   "metadata": {},
   "outputs": [],
   "source": [
    "fig, ax = plt.subplots(nrows=nrows, ncols=ncols, figsize=(15, 4 * nrows))\n",
    "ax = ax.flatten()\n",
    "for i, col in enumerate(cols_interest2):\n",
    "    if col in [\"p_block_heating\", \"p_district_heat\"]:\n",
    "        continue\n",
    "    # if i in [0, 1]:\n",
    "    def_wijken_23_toplot.plot(ax=ax[i], cmap=cmap, column=col, legend=True, \n",
    "                                legend_kwds={\n",
    "        'loc': 'upper left',   # Position the legend in the upper left\n",
    "        'fontsize': 7,         # Adjust font size for better readability\n",
    "        'frameon': False        # Optional: Add a frame to the legend\n",
    "    })\n",
    "    # else:\n",
    "    #     def_wijken_23_toplot.plot(ax=ax[i], cmap=cmap, column=col, legend=False)\n",
    "    ax[i].set_title(col)\n",
    "# plt.legend(loc='upper left')\n",
    "plt.tight_layout()  # Adjust layout to prevent overlap\n",
    "plt.show()"
   ]
  }
 ],
 "metadata": {
  "kernelspec": {
   "display_name": "ai_developer",
   "language": "python",
   "name": "python3"
  },
  "language_info": {
   "codemirror_mode": {
    "name": "ipython",
    "version": 3
   },
   "file_extension": ".py",
   "mimetype": "text/x-python",
   "name": "python",
   "nbconvert_exporter": "python",
   "pygments_lexer": "ipython3",
   "version": "3.12.5"
  }
 },
 "nbformat": 4,
 "nbformat_minor": 2
}
