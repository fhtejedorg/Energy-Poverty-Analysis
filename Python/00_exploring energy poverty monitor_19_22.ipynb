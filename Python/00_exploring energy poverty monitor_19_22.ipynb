{
 "cells": [
  {
   "cell_type": "code",
   "execution_count": null,
   "metadata": {},
   "outputs": [],
   "source": [
    "import pandas as pd \n",
    "import os\n",
    "import geopandas as gpd \n",
    "import zipfile \n",
    "import matplotlib.pyplot as plt\n",
    "import folium\n",
    "import pickle \n",
    "import seaborn as sns\n",
    "sns.set_theme()\n",
    "import numpy as np \n",
    "import pyogrio\n",
    "pyogrio.list_drivers()  \n",
    "import folium"
   ]
  },
  {
   "cell_type": "code",
   "execution_count": null,
   "metadata": {},
   "outputs": [],
   "source": [
    "os.chdir(\"C:/Users/tejed002/OneDrive - Wageningen University & Research/PhD-WUR/01_WUR-Research/05_Papers/02_Paper_energy_poverty/Data/Raw/\")\n",
    "os.listdir()"
   ]
  },
  {
   "cell_type": "code",
   "execution_count": null,
   "metadata": {},
   "outputs": [],
   "source": [
    "#energy_poverty = pd.read_excel(\"Energy Poverty Monitor/MonitorEnergiearmoede2019-2022_def.xlsx\", sheet_name='Tabel 3', skiprows=3, nrows = 351175)\n",
    "buurt_2019_2022 = pd.read_csv(\"ShapeFiles/buurt_homologation_2019_2022.csv\", sep = \"|\", header=0)"
   ]
  },
  {
   "cell_type": "code",
   "execution_count": null,
   "metadata": {},
   "outputs": [],
   "source": [
    "# dict_energy_poverty = {\"energy_poverty\": energy_poverty}\n",
    "# with open(\"Energy Poverty Monitor/energy_poverty.pkl\", \"wb\") as file:\n",
    "#     pickle.dump(dict_energy_poverty, file)\n",
    "with open(\"Energy Poverty Monitor/energy_poverty.pkl\", 'rb') as file:\n",
    "    dict_energy_poverty = pickle.load(file)\n",
    "energy_poverty = dict_energy_poverty[\"energy_poverty\"]"
   ]
  },
  {
   "cell_type": "code",
   "execution_count": null,
   "metadata": {},
   "outputs": [],
   "source": [
    "fua = gpd.read_file(\"ShapeFiles/fuas/fuas.shp\")\n",
    "fua = fua[fua.iso3 == \"NLD\"]"
   ]
  },
  {
   "cell_type": "code",
   "execution_count": null,
   "metadata": {},
   "outputs": [],
   "source": [
    "with open('ShapeFiles/00_Processed/dict_gdf.pkl', 'rb') as file:\n",
    "    dict_gdf = pickle.load(file)"
   ]
  },
  {
   "cell_type": "code",
   "execution_count": null,
   "metadata": {},
   "outputs": [],
   "source": [
    "with open('ShapeFiles/00_Processed/dict_wijk_gdf.pkl', 'rb') as file:\n",
    "    dict_wijk_gdf = pickle.load(file)"
   ]
  },
  {
   "cell_type": "code",
   "execution_count": null,
   "metadata": {},
   "outputs": [],
   "source": [
    "dict_wijk_gdf[\"2022\"].shape"
   ]
  },
  {
   "cell_type": "code",
   "execution_count": null,
   "metadata": {},
   "outputs": [],
   "source": [
    "with open('ShapeFiles/00_Processed/dict_gemeente_gdf.pkl', 'rb') as file:\n",
    "    dict_gemeente_gdf = pickle.load(file)"
   ]
  },
  {
   "cell_type": "code",
   "execution_count": null,
   "metadata": {},
   "outputs": [],
   "source": [
    "years = [2019, 2020, 2021, 2022, 2023]\n",
    "for year in years:\n",
    "    gdf_1 = dict_gdf[str(year)]\n",
    "    gdf_1 = gdf_1[gdf_1[\"H2O\"] == \"NEE\"]\n",
    "    dict_gdf[str(year)] = gdf_1\n",
    "    \n",
    "    gdf_2 = dict_wijk_gdf[str(year)]\n",
    "    gdf_2 = gdf_2[gdf_2[\"H2O\"] == \"NEE\"]\n",
    "    dict_wijk_gdf[str(year)] = gdf_2\n",
    "    \n",
    "    gdf_3 = dict_gemeente_gdf[str(year)]\n",
    "    gdf_3 = gdf_3[gdf_3[\"H2O\"] == \"NEE\"]\n",
    "    dict_gemeente_gdf[str(year)] = gdf_3"
   ]
  },
  {
   "cell_type": "code",
   "execution_count": null,
   "metadata": {},
   "outputs": [],
   "source": [
    "# columns_buurten = [\"BU_CODE\", \"BU_NAAM\", \"WK_CODE\", \"GM_CODE\", \"GM_NAAM\", \"WK_CODE\", \"GM_CODE\", \"GM_NAAM\", \"IND_WBI\", 'JRSTATCODE', 'JAAR', 'geometry']"
   ]
  },
  {
   "cell_type": "code",
   "execution_count": null,
   "metadata": {},
   "outputs": [],
   "source": [
    "gdf_buurt = [f\"gdf_buurt_{ii}\" for ii in years]\n",
    "gdf_wijk = [f\"gdf_wijk_{ii}\" for ii in years]\n",
    "gdf_gemeente = [f\"gdf_gemeente_{ii}\" for ii in years]"
   ]
  },
  {
   "cell_type": "code",
   "execution_count": null,
   "metadata": {},
   "outputs": [],
   "source": [
    "for name, value in zip(gdf_buurt, dict_gdf.values()):\n",
    "    globals()[name] = value"
   ]
  },
  {
   "cell_type": "code",
   "execution_count": null,
   "metadata": {},
   "outputs": [],
   "source": [
    "for name, value in zip(gdf_wijk, dict_wijk_gdf.values()):\n",
    "    globals()[name] = value"
   ]
  },
  {
   "cell_type": "code",
   "execution_count": null,
   "metadata": {},
   "outputs": [],
   "source": [
    "for name, value in zip(gdf_gemeente, dict_gemeente_gdf.values()):\n",
    "    globals()[name] = value"
   ]
  },
  {
   "cell_type": "code",
   "execution_count": null,
   "metadata": {},
   "outputs": [],
   "source": [
    "column_names = {\n",
    "    'Soort eigendom woning': 'property_type',\n",
    "    'Totaal huishoudens1 (aantal)': 'total_households',\n",
    "    'Energiearmoede volgens LIHE en/of LILEK2 (%)': 'LIHE_AndOr_LILEK',\n",
    "    'Energiearmoede volgens LIHE en/of LIZLEK2 (%)': 'LIHE_AndOr_LIZLEK',\n",
    "    'Energiearmoede volgens HEq2 (%)': 'HEQ',\n",
    "    'Energiearmoede volgens LIHE2 (%)': 'LIHE',\n",
    "    'Energiearmoede volgens LILEK2 (%)': 'LILEK',\n",
    "    'Energiearmoede volgens LIZLEK2 (%)': 'LIZLEK ',\n",
    "    'Energiearmoede volgens LEKWI2 (%)': 'LEKWI',\n",
    "    'Energiearmoede volgens ZLEKWI2 (%)': 'ZLEKWI',\n",
    "    'Laag inkomen, LI2 (%)': 'LI',\n",
    "    'Hoge energiekosten, HE2 (%)': 'HE',\n",
    "    'Lage energetische kwaliteit, LEK2 (%)': 'LEK',\n",
    "    'Zeer lage energetische kwaliteit, ZLEK2 (%)': 'ZLEK',\n",
    "    'Gestandaardiseerd residueel inkomen \\n(x 1 000 euro)': 'standardize_residual_income',\n",
    "    'Gemiddelde energiequote (%)': 'average_energy_ratio',\n",
    "    \"Jaar\" : \"year\",\n",
    "    }\n",
    "\n",
    "property_type = {\n",
    "    'Totaal':\"Totaal\", \n",
    "     'Koop':\"Owner\", # Buy \n",
    "     'Huur (corporatie)': \"Rental_Corporation\", # rent(other)\n",
    "     'Huur (overig)': \"Rental_other\", # rent(other) \n",
    "     'Onbekend': \"Unknown\" # \"unknown\"\n",
    "     } "
   ]
  },
  {
   "cell_type": "code",
   "execution_count": null,
   "metadata": {},
   "outputs": [],
   "source": [
    "energy_poverty = energy_poverty.rename(columns = column_names)\n",
    "energy_poverty['property_type'] = energy_poverty['property_type'].replace(property_type)\n",
    "energy_poverty.head()"
   ]
  },
  {
   "cell_type": "markdown",
   "metadata": {},
   "source": [
    "# Total energy poverty"
   ]
  },
  {
   "cell_type": "code",
   "execution_count": null,
   "metadata": {},
   "outputs": [],
   "source": [
    "energy_poverty_22 = energy_poverty[energy_poverty['year'] == 2022]\n",
    "energy_poverty_21 = energy_poverty[energy_poverty['year'] == 2021]\n",
    "energy_poverty_20 = energy_poverty[energy_poverty['year'] == 2020]\n",
    "energy_poverty_19 = energy_poverty[energy_poverty['year'] == 2019]\n"
   ]
  },
  {
   "cell_type": "code",
   "execution_count": null,
   "metadata": {},
   "outputs": [],
   "source": [
    "ep_geemente_19 = energy_poverty_19[(energy_poverty_19[\"property_type\"] == \"Totaal\") & (energy_poverty_19[\"Buurt\"] == \"Totaal\") & (energy_poverty_19[\"Wijk\"] == \"Totaal\") & (energy_poverty_19[\"Gemeente\"] != \"Totaal\")]\n",
    "ep_geemente_20 = energy_poverty_20[(energy_poverty_20[\"property_type\"] == \"Totaal\") & (energy_poverty_20[\"Buurt\"] == \"Totaal\") & (energy_poverty_20[\"Wijk\"] == \"Totaal\") & (energy_poverty_20[\"Gemeente\"] != \"Totaal\")]\n",
    "ep_geemente_21 = energy_poverty_21[(energy_poverty_21[\"property_type\"] == \"Totaal\") & (energy_poverty_21[\"Buurt\"] == \"Totaal\") & (energy_poverty_21[\"Wijk\"] == \"Totaal\") & (energy_poverty_21[\"Gemeente\"] != \"Totaal\")]\n",
    "ep_geemente_22 = energy_poverty_22[(energy_poverty_22[\"property_type\"] == \"Totaal\") & (energy_poverty_22[\"Buurt\"] == \"Totaal\") & (energy_poverty_22[\"Wijk\"] == \"Totaal\") & (energy_poverty_22[\"Gemeente\"] != \"Totaal\")]\n"
   ]
  },
  {
   "cell_type": "code",
   "execution_count": null,
   "metadata": {},
   "outputs": [],
   "source": [
    "ep_buurten_19 = energy_poverty_19[(energy_poverty_19[\"property_type\"] == \"Totaal\") & (energy_poverty_19[\"Buurt\"] != \"Totaal\")]\n",
    "ep_buurten_20 = energy_poverty_20[(energy_poverty_20[\"property_type\"] == \"Totaal\") & (energy_poverty_20[\"Buurt\"] != \"Totaal\")]\n",
    "ep_buurten_21 = energy_poverty_21[(energy_poverty_21[\"property_type\"] == \"Totaal\") & (energy_poverty_21[\"Buurt\"] != \"Totaal\")]\n",
    "ep_buurten_22 = energy_poverty_22[(energy_poverty_22[\"property_type\"] == \"Totaal\") & (energy_poverty_22[\"Buurt\"] != \"Totaal\")]"
   ]
  },
  {
   "cell_type": "code",
   "execution_count": null,
   "metadata": {},
   "outputs": [],
   "source": [
    "print(sum(~ep_buurten_19.LIHE_AndOr_LILEK.isna())/len(ep_buurten_19.LIHE_AndOr_LILEK))\n",
    "print(sum(~ep_buurten_20.LIHE_AndOr_LILEK.isna())/len(ep_buurten_20.LIHE_AndOr_LILEK))\n",
    "print(sum(~ep_buurten_21.LIHE_AndOr_LILEK.isna())/len(ep_buurten_21.LIHE_AndOr_LILEK))\n",
    "print(sum(~ep_buurten_22.LIHE_AndOr_LILEK.isna())/len(ep_buurten_22.LIHE_AndOr_LILEK))\n"
   ]
  },
  {
   "cell_type": "code",
   "execution_count": null,
   "metadata": {},
   "outputs": [],
   "source": [
    "os.getcwd()"
   ]
  },
  {
   "cell_type": "code",
   "execution_count": null,
   "metadata": {},
   "outputs": [],
   "source": [
    "ep_wijken_19 = energy_poverty_19[(energy_poverty_19[\"property_type\"] == \"Totaal\") & (energy_poverty_19[\"Buurt\"] == \"Totaal\") & (energy_poverty_19[\"Wijk\"] != \"Totaal\")]\n",
    "ep_wijken_20 = energy_poverty_20[(energy_poverty_20[\"property_type\"] == \"Totaal\") & (energy_poverty_20[\"Buurt\"] == \"Totaal\") & (energy_poverty_20[\"Wijk\"] != \"Totaal\")]\n",
    "ep_wijken_21 = energy_poverty_21[(energy_poverty_21[\"property_type\"] == \"Totaal\") & (energy_poverty_21[\"Buurt\"] == \"Totaal\") & (energy_poverty_21[\"Wijk\"] != \"Totaal\")]\n",
    "ep_wijken_22 = energy_poverty_22[(energy_poverty_22[\"property_type\"] == \"Totaal\") & (energy_poverty_22[\"Buurt\"] == \"Totaal\") & (energy_poverty_22[\"Wijk\"] != \"Totaal\")]\n",
    "\n",
    "dict_ep_wijken = {\n",
    "    \"19\": ep_wijken_19,\n",
    "    \"20\": ep_wijken_20,\n",
    "    \"21\": ep_wijken_21,\n",
    "    \"22\": ep_wijken_22,\n",
    "}\n",
    "# C:\\Users\\tejed002\\OneDrive - Wageningen University & Research\\PhD-WUR\\01_WUR-Research\\05_Papers\\02_Paper_energy_poverty\\analysis\\data\\wijken\\energy_poverty\n",
    "with open(\"../../analysis/data/wijken/energy_poverty/dict_ep_wijken.pkl\", \"wb\") as file:\n",
    "    pickle.dump(dict_ep_wijken, file)"
   ]
  },
  {
   "cell_type": "markdown",
   "metadata": {},
   "source": [
    "# Rental and owner "
   ]
  },
  {
   "cell_type": "code",
   "execution_count": null,
   "metadata": {},
   "outputs": [],
   "source": [
    "energy_poverty_19[\"property_type\"].unique()\n",
    "list_property = ['Owner', 'Rental_Corporation', 'Rental_other']"
   ]
  },
  {
   "cell_type": "code",
   "execution_count": null,
   "metadata": {},
   "outputs": [],
   "source": [
    "for property in list_property:\n",
    "    ep_geemente_19 = energy_poverty_19[(energy_poverty_19[\"property_type\"] == property) & (energy_poverty_19[\"Buurt\"] == \"Totaal\") & (energy_poverty_19[\"Wijk\"] == \"Totaal\") & (energy_poverty_19[\"Gemeente\"] != \"Totaal\")]\n",
    "    ep_geemente_20 = energy_poverty_20[(energy_poverty_20[\"property_type\"] == property) & (energy_poverty_20[\"Buurt\"] == \"Totaal\") & (energy_poverty_20[\"Wijk\"] == \"Totaal\") & (energy_poverty_20[\"Gemeente\"] != \"Totaal\")]\n",
    "    ep_geemente_21 = energy_poverty_21[(energy_poverty_21[\"property_type\"] == property) & (energy_poverty_21[\"Buurt\"] == \"Totaal\") & (energy_poverty_21[\"Wijk\"] == \"Totaal\") & (energy_poverty_21[\"Gemeente\"] != \"Totaal\")]\n",
    "    ep_geemente_22 = energy_poverty_22[(energy_poverty_22[\"property_type\"] == property) & (energy_poverty_22[\"Buurt\"] == \"Totaal\") & (energy_poverty_22[\"Wijk\"] == \"Totaal\") & (energy_poverty_22[\"Gemeente\"] != \"Totaal\")]\n",
    "    \n",
    "    ep_buurten_19 = energy_poverty_19[(energy_poverty_19[\"property_type\"] == property) & (energy_poverty_19[\"Buurt\"] != \"Totaal\")]\n",
    "    ep_buurten_20 = energy_poverty_20[(energy_poverty_20[\"property_type\"] == property) & (energy_poverty_20[\"Buurt\"] != \"Totaal\")]\n",
    "    ep_buurten_21 = energy_poverty_21[(energy_poverty_21[\"property_type\"] == property) & (energy_poverty_21[\"Buurt\"] != \"Totaal\")]\n",
    "    ep_buurten_22 = energy_poverty_22[(energy_poverty_22[\"property_type\"] == property) & (energy_poverty_22[\"Buurt\"] != \"Totaal\")]\n",
    "    \n",
    "    ep_wijken_19 = energy_poverty_19[(energy_poverty_19[\"property_type\"] == property) & (energy_poverty_19[\"Buurt\"] == \"Totaal\") & (energy_poverty_19[\"Wijk\"] != \"Totaal\")]\n",
    "    ep_wijken_20 = energy_poverty_20[(energy_poverty_20[\"property_type\"] == property) & (energy_poverty_20[\"Buurt\"] == \"Totaal\") & (energy_poverty_20[\"Wijk\"] != \"Totaal\")]\n",
    "    ep_wijken_21 = energy_poverty_21[(energy_poverty_21[\"property_type\"] == property) & (energy_poverty_21[\"Buurt\"] == \"Totaal\") & (energy_poverty_21[\"Wijk\"] != \"Totaal\")]\n",
    "    ep_wijken_22 = energy_poverty_22[(energy_poverty_22[\"property_type\"] == property) & (energy_poverty_22[\"Buurt\"] == \"Totaal\") & (energy_poverty_22[\"Wijk\"] != \"Totaal\")]\n",
    "    \n",
    "    dict_ep_geemente = {\n",
    "        \"19\": ep_geemente_19,\n",
    "        \"20\": ep_geemente_20,\n",
    "        \"21\": ep_geemente_21,\n",
    "        \"22\": ep_geemente_22,\n",
    "    }\n",
    "    dict_ep_buurt = {\n",
    "        \"19\": ep_buurten_19,\n",
    "        \"20\": ep_buurten_20,\n",
    "        \"21\": ep_buurten_21,\n",
    "        \"22\": ep_buurten_22,\n",
    "    }\n",
    "    dict_ep_wijken = {\n",
    "        \"19\": ep_wijken_19,\n",
    "        \"20\": ep_wijken_20,\n",
    "        \"21\": ep_wijken_21,\n",
    "        \"22\": ep_wijken_22,\n",
    "    }\n",
    "    # C:\\Users\\tejed002\\OneDrive - Wageningen University & Research\\PhD-WUR\\01_WUR-Research\\05_Papers\\02_Paper_energy_poverty\\analysis\\data\\wijken\\energy_poverty\n",
    "    path_export_gm = \"../../analysis/data/wijken/energy_poverty/\" + \"dict_ep_gemeente_\" + property + \".pkl\"\n",
    "    path_export_bu = \"../../analysis/data/wijken/energy_poverty/\" + \"dict_ep_buurt_\" + property + \".pkl\"\n",
    "    path_export_wi = \"../../analysis/data/wijken/energy_poverty/\" + \"dict_ep_wijken_\" + property + \".pkl\"\n",
    "    print(path_export_gm)\n",
    "    with open(path_export_gm, \"wb\") as file:\n",
    "        pickle.dump(dict_ep_geemente, file)\n",
    "        \n",
    "    with open(path_export_bu, \"wb\") as file:\n",
    "        pickle.dump(dict_ep_buurt, file)\n",
    "    \n",
    "    with open(path_export_wi, \"wb\") as file:\n",
    "        pickle.dump(dict_ep_wijken, file)"
   ]
  },
  {
   "cell_type": "code",
   "execution_count": null,
   "metadata": {},
   "outputs": [],
   "source": [
    "ep_geemente_19 = energy_poverty_19[(energy_poverty_19[\"property_type\"] == \"Totaal\") & (energy_poverty_19[\"Buurt\"] == \"Totaal\") & (energy_poverty_19[\"Wijk\"] == \"Totaal\") & (energy_poverty_19[\"Gemeente\"] != \"Totaal\")]\n",
    "ep_geemente_20 = energy_poverty_20[(energy_poverty_20[\"property_type\"] == \"Totaal\") & (energy_poverty_20[\"Buurt\"] == \"Totaal\") & (energy_poverty_20[\"Wijk\"] == \"Totaal\") & (energy_poverty_20[\"Gemeente\"] != \"Totaal\")]\n",
    "ep_geemente_21 = energy_poverty_21[(energy_poverty_21[\"property_type\"] == \"Totaal\") & (energy_poverty_21[\"Buurt\"] == \"Totaal\") & (energy_poverty_21[\"Wijk\"] == \"Totaal\") & (energy_poverty_21[\"Gemeente\"] != \"Totaal\")]\n",
    "ep_geemente_22 = energy_poverty_22[(energy_poverty_22[\"property_type\"] == \"Totaal\") & (energy_poverty_22[\"Buurt\"] == \"Totaal\") & (energy_poverty_22[\"Wijk\"] == \"Totaal\") & (energy_poverty_22[\"Gemeente\"] != \"Totaal\")]\n"
   ]
  },
  {
   "cell_type": "code",
   "execution_count": null,
   "metadata": {},
   "outputs": [],
   "source": [
    "ep_buurten_19 = energy_poverty_19[(energy_poverty_19[\"property_type\"] == \"Totaal\") & (energy_poverty_19[\"Buurt\"] != \"Totaal\")]\n",
    "ep_buurten_20 = energy_poverty_20[(energy_poverty_20[\"property_type\"] == \"Totaal\") & (energy_poverty_20[\"Buurt\"] != \"Totaal\")]\n",
    "ep_buurten_21 = energy_poverty_21[(energy_poverty_21[\"property_type\"] == \"Totaal\") & (energy_poverty_21[\"Buurt\"] != \"Totaal\")]\n",
    "ep_buurten_22 = energy_poverty_22[(energy_poverty_22[\"property_type\"] == \"Totaal\") & (energy_poverty_22[\"Buurt\"] != \"Totaal\")]"
   ]
  },
  {
   "cell_type": "code",
   "execution_count": null,
   "metadata": {},
   "outputs": [],
   "source": [
    "print(sum(~ep_buurten_19.LIHE_AndOr_LILEK.isna())/len(ep_buurten_19.LIHE_AndOr_LILEK))\n",
    "print(sum(~ep_buurten_20.LIHE_AndOr_LILEK.isna())/len(ep_buurten_20.LIHE_AndOr_LILEK))\n",
    "print(sum(~ep_buurten_21.LIHE_AndOr_LILEK.isna())/len(ep_buurten_21.LIHE_AndOr_LILEK))\n",
    "print(sum(~ep_buurten_22.LIHE_AndOr_LILEK.isna())/len(ep_buurten_22.LIHE_AndOr_LILEK))\n"
   ]
  },
  {
   "cell_type": "code",
   "execution_count": null,
   "metadata": {},
   "outputs": [],
   "source": [
    "os.getcwd()"
   ]
  },
  {
   "cell_type": "code",
   "execution_count": null,
   "metadata": {},
   "outputs": [],
   "source": [
    "ep_wijken_19 = energy_poverty_19[(energy_poverty_19[\"property_type\"] == \"Totaal\") & (energy_poverty_19[\"Buurt\"] == \"Totaal\") & (energy_poverty_19[\"Wijk\"] != \"Totaal\")]\n",
    "ep_wijken_20 = energy_poverty_20[(energy_poverty_20[\"property_type\"] == \"Totaal\") & (energy_poverty_20[\"Buurt\"] == \"Totaal\") & (energy_poverty_20[\"Wijk\"] != \"Totaal\")]\n",
    "ep_wijken_21 = energy_poverty_21[(energy_poverty_21[\"property_type\"] == \"Totaal\") & (energy_poverty_21[\"Buurt\"] == \"Totaal\") & (energy_poverty_21[\"Wijk\"] != \"Totaal\")]\n",
    "ep_wijken_22 = energy_poverty_22[(energy_poverty_22[\"property_type\"] == \"Totaal\") & (energy_poverty_22[\"Buurt\"] == \"Totaal\") & (energy_poverty_22[\"Wijk\"] != \"Totaal\")]\n",
    "\n",
    "dict_ep_wijken = {\n",
    "    \"19\": ep_wijken_19,\n",
    "    \"20\": ep_wijken_20,\n",
    "    \"21\": ep_wijken_21,\n",
    "    \"22\": ep_wijken_22,\n",
    "}\n",
    "# C:\\Users\\tejed002\\OneDrive - Wageningen University & Research\\PhD-WUR\\01_WUR-Research\\05_Papers\\02_Paper_energy_poverty\\analysis\\data\\wijken\\energy_poverty\n",
    "with open(\"../../analysis/data/wijken/energy_poverty/dict_ep_wijken.pkl\", \"wb\") as file:\n",
    "    pickle.dump(dict_ep_wijken, file)"
   ]
  },
  {
   "cell_type": "code",
   "execution_count": null,
   "metadata": {},
   "outputs": [],
   "source": []
  },
  {
   "cell_type": "markdown",
   "metadata": {},
   "source": [
    "# Processing"
   ]
  },
  {
   "cell_type": "code",
   "execution_count": null,
   "metadata": {},
   "outputs": [],
   "source": [
    "ep_wijken = pd.concat([ep_wijken_19, ep_wijken_20, ep_wijken_21, ep_wijken_22])"
   ]
  },
  {
   "cell_type": "code",
   "execution_count": null,
   "metadata": {},
   "outputs": [],
   "source": [
    "####### Exploration LIHE, HEQ, and LIHE_AndOr_LILEK foor all the years\n",
    "ep_wijken_dict = {\n",
    "    19: ep_wijken_19,\n",
    "    20: ep_wijken_20,\n",
    "    21: ep_wijken_21,\n",
    "    22: ep_wijken_22\n",
    "}\n",
    "\n",
    "# Loop through each DataFrame by year and calculate the proportion of non-NaN values in LIHE\n",
    "for indicator in [\"LIHE\", \"HEQ\", \"LIHE_AndOr_LILEK\"]:\n",
    "    print(f\"-------{indicator}-----------------\")\n",
    "    for year, df in ep_wijken_dict.items():\n",
    "        proportion_non_nan = sum(~df[indicator].isna()) / len(df[indicator])\n",
    "        print(f\"Year 20{year}: {proportion_non_nan:.2f}\")"
   ]
  },
  {
   "cell_type": "code",
   "execution_count": null,
   "metadata": {},
   "outputs": [],
   "source": [
    "print(ep_wijken_22.Regiocode.nunique())\n",
    "print(ep_wijken_19.Regiocode.nunique())\n",
    "print(len(ep_wijken_22.Wijk))\n",
    "ep_wijken_22.Wijk[ep_wijken_22.Wijk.duplicated()]\n",
    "ep_wijken_22[ep_wijken_22.Wijk.isin([\"Wijk 02 Zuid\"])]"
   ]
  },
  {
   "cell_type": "code",
   "execution_count": null,
   "metadata": {},
   "outputs": [],
   "source": [
    "print(gdf_buurt_2023.shape)\n",
    "gdf_buurt_2023 = gdf_buurt_2023.merge(ep_buurten_22, left_on='BU_CODE', right_on='Regiocode', how = 'left')\n",
    "print(gdf_buurt_2023.shape)"
   ]
  },
  {
   "cell_type": "code",
   "execution_count": null,
   "metadata": {},
   "outputs": [],
   "source": [
    "print(gdf_wijk_2023.shape)\n",
    "gdf_wijk_2023 = gdf_wijk_2023.merge(ep_wijken_22, left_on='WK_CODE', right_on='Regiocode', how = 'left')\n",
    "print(gdf_wijk_2023.shape)"
   ]
  },
  {
   "cell_type": "code",
   "execution_count": null,
   "metadata": {},
   "outputs": [],
   "source": [
    "print(gdf_wijk_2022.shape)\n",
    "gdf_wijk_2022 = gdf_wijk_2022.merge(ep_wijken_22, left_on='WK_CODE', right_on='Regiocode', how = 'left')\n",
    "print(gdf_wijk_2022.shape)"
   ]
  },
  {
   "cell_type": "code",
   "execution_count": null,
   "metadata": {},
   "outputs": [],
   "source": [
    "#gdf_gemeente_19_22.to_file('gdf_gemeente_19_22.gpkg', driver='GPKG')\n",
    "gdf_wijk_2023.to_file('../../analysis/data/wijken/gdf_wijk_2023.gpkg', driver='GPKG')\n",
    "gdf_wijk_2023.to_file('../../analysis/data/wijken/gdf_wijk_2023.shp')\n",
    "gdf_wijk_2022.to_file('../../analysis/data/wijken/gdf_wijk_2022.shp')"
   ]
  },
  {
   "cell_type": "code",
   "execution_count": null,
   "metadata": {},
   "outputs": [],
   "source": [
    "gdf_wijk_2023.LIHE.describe()\n",
    "print(sum(gdf_wijk_2023.LIHE.isna())/len(gdf_wijk_2023.LIHE))\n",
    "print(sum(gdf_wijk_2023.HEQ.isna())/len(gdf_wijk_2023.HEQ))\n",
    "print(sum(gdf_wijk_2023.LIHE_AndOr_LILEK.isna())/len(gdf_wijk_2023.LIHE_AndOr_LILEK))"
   ]
  },
  {
   "cell_type": "code",
   "execution_count": null,
   "metadata": {},
   "outputs": [],
   "source": [
    "year_2019 = ep_geemente_19[['Regiocode', 'LIHE_AndOr_LILEK', 'total_households']]\n",
    "year_2020 = ep_geemente_20[['Regiocode', 'LIHE_AndOr_LILEK', 'total_households']]\n",
    "year_2021 = ep_geemente_21[['Regiocode', 'LIHE_AndOr_LILEK', 'total_households']]\n",
    "year_2022 = ep_geemente_22[['Regiocode', 'LIHE_AndOr_LILEK', 'total_households']]     \n",
    "\n",
    "year_2019 = year_2019.add_suffix('_2019') \n",
    "year_2020 = year_2020.add_suffix('_2020') \n",
    "year_2021 = year_2021.add_suffix('_2021') \n",
    "year_2022 = year_2022.add_suffix('_2022')          "
   ]
  },
  {
   "cell_type": "code",
   "execution_count": null,
   "metadata": {},
   "outputs": [],
   "source": [
    "print(year_2019.LIHE_AndOr_LILEK_2019.describe())\n",
    "print(year_2020.LIHE_AndOr_LILEK_2020.describe())"
   ]
  },
  {
   "cell_type": "code",
   "execution_count": null,
   "metadata": {},
   "outputs": [],
   "source": [
    "print(year_2021.LIHE_AndOr_LILEK_2021.describe())\n",
    "print(year_2022.LIHE_AndOr_LILEK_2022.describe())"
   ]
  },
  {
   "cell_type": "code",
   "execution_count": null,
   "metadata": {},
   "outputs": [],
   "source": [
    "print(gdf_gemeente_2023.shape)\n",
    "gdf_gemeente_19_22 = gdf_gemeente_2023.merge(year_2019, left_on='GM_CODE', right_on='Regiocode_2019', how = 'left')\n",
    "gdf_gemeente_19_22 = gdf_gemeente_19_22.merge(year_2020, left_on='GM_CODE', right_on='Regiocode_2020', how = 'left')\n",
    "gdf_gemeente_19_22 = gdf_gemeente_19_22.merge(year_2021, left_on='GM_CODE', right_on='Regiocode_2021', how = 'left')\n",
    "gdf_gemeente_19_22 = gdf_gemeente_19_22.merge(year_2022, left_on='GM_CODE', right_on='Regiocode_2022', how = 'left')\n",
    "print(gdf_gemeente_19_22.shape)"
   ]
  },
  {
   "cell_type": "code",
   "execution_count": null,
   "metadata": {},
   "outputs": [],
   "source": [
    "gdf_gemeente_2023.AANT_INW.sum()"
   ]
  },
  {
   "cell_type": "code",
   "execution_count": null,
   "metadata": {},
   "outputs": [],
   "source": [
    "#gdf_gemeente_19_22.to_file('gdf_gemeente_19_22.gpkg', driver='GPKG')\n",
    "gdf_wijk_2023.to_file('gdf_wijk_2023.gpkg', driver='GPKG')\n"
   ]
  },
  {
   "cell_type": "code",
   "execution_count": null,
   "metadata": {},
   "outputs": [],
   "source": [
    "fua = fua.to_crs(gdf_wijk_2023.crs)"
   ]
  },
  {
   "cell_type": "code",
   "execution_count": null,
   "metadata": {},
   "outputs": [],
   "source": [
    "gdf_wijk_2023['id'] = gdf_wijk_2023.index.astype(str) \n",
    "gdf_wijk_2023['id']"
   ]
  },
  {
   "cell_type": "code",
   "execution_count": null,
   "metadata": {},
   "outputs": [],
   "source": [
    "if gdf_wijk_2023.crs != \"EPSG:3857\":\n",
    "    gdf_wijk_2023 = gdf_wijk_2023.to_crs(epsg=3857)\n",
    "print(gdf_wijk_2023.crs)"
   ]
  },
  {
   "cell_type": "code",
   "execution_count": null,
   "metadata": {},
   "outputs": [],
   "source": [
    "# Add the GeoDataFrame as a GeoJSON layer to the folium map with transparency\n",
    "# Define your style function for transparency (optional, only needed if adding GeoJson)\n",
    "style_function = lambda x: {\n",
    "    'fillColor': '#ff7800',  # Default fill color (will be overridden by Choropleth)\n",
    "    'color': 'black',        # Boundary color\n",
    "    'weight': 1,             # Boundary width\n",
    "    'fillOpacity': 0.5       # Transparency for GeoJson layer\n",
    "}\n",
    "\n",
    "m = folium.Map(location=[52.1326, 5.2913], zoom_start=8)\n",
    "\n",
    "\n",
    "folium.Choropleth(\n",
    "    geo_data=gdf_wijk_2023.to_json(),        # Convert GeoDataFrame to GeoJSON format\n",
    "    name='choropleth',\n",
    "    data=gdf_wijk_2023,                      # GeoDataFrame as data source\n",
    "    columns=['id', 'LIHE_AndOr_LILEK'],           # Columns to use (replace 'id' with the column uniquely identifying each geometry)\n",
    "    key_on='feature.properties.id',# Key to match in GeoJSON (adjust if your unique identifier column is named differently)\n",
    "    fill_color='YlOrRd',           # Color scale (e.g., 'YlOrRd', 'BuPu', 'RdYlGn')\n",
    "    fill_opacity=0.7,              # Transparency of the fill\n",
    "    line_opacity=0.2,              # Transparency of the borders\n",
    "    legend_name='Column W Values'  # Legend title\n",
    ").add_to(m)\n",
    "\n",
    "folium.GeoJson(gdf_wijk_2023.to_json(), style_function=style_function).add_to(m)\n",
    "folium.LayerControl().add_to(m)\n",
    "m"
   ]
  },
  {
   "cell_type": "code",
   "execution_count": null,
   "metadata": {},
   "outputs": [],
   "source": [
    "# Quick plot\n",
    "# ax = gdf_wijk_2023[gdf_wijk_2023[\"GM_NAAM\"] == 'Wageningen'].plot(figsize=(10, 10), edgecolor='k', linewidth=0.5, legend=True, color = \"gray\")\n",
    "# gdf_wijk_2023[gdf_wijk_2023[\"GM_NAAM\"] == 'Wageningen'].plot(ax = ax, column = 'LIHE_AndOr_LILEK', figsize=(10, 10), edgecolor='k', linewidth=0.5, legend=True, cmap=\"plasma\")\n",
    "\n",
    "ax = gdf_wijk_2023.plot(figsize=(10, 10), edgecolor='k', linewidth=0.5, legend=True, color = \"gray\")\n",
    "gdf_wijk_2023.plot(ax = ax, column = 'LIHE', figsize=(10, 10), edgecolor='k', linewidth=0.5, legend=True, cmap=\"plasma\")\n",
    "# Set the title and display the plot\n",
    "plt.title(f\"Plot of NL - Buurten\", fontsize=15)\n",
    "plt.xlabel(\"Longitude\")\n",
    "plt.ylabel(\"Latitude\")\n",
    "plt.grid(True)\n",
    "plt.show()"
   ]
  },
  {
   "cell_type": "code",
   "execution_count": null,
   "metadata": {},
   "outputs": [],
   "source": [
    "# Quick plot\n",
    "ax = gdf_buurt_2023.plot(figsize=(10, 10), edgecolor='k', linewidth=0.5, legend=True, color = \"gray\")\n",
    "fua.plot(ax = ax, figsize=(10, 10), edgecolor='k', linewidth=0.5, legend=True, color = \"blue\")\n",
    "#ax = gdf_20[gdf_20[\"BU_NAAM\"] == \"Verspreide huizen Sleen\"].plot(figsize=(10, 10), edgecolor='k', linewidth=2.5)\n",
    "# gdf_22[gdf_22[\"BU_CODE\"] == \"BU01145109\"].plot(ax= ax, figsize=(10, 10), edgecolor='k', linewidth=0.5, color = 'red')\n",
    "#gdf_22[gdf_22[\"BU_NAAM\"] == \"Verspreide huizen Sleen\"].plot(ax= ax, figsize=(10, 10), edgecolor='k', linewidth=0.5, color = 'green')\n",
    "\n",
    "# Set the title and display the plot\n",
    "plt.title(f\"Plot of NL - Buurten\", fontsize=15)\n",
    "plt.xlabel(\"Longitude\")\n",
    "plt.ylabel(\"Latitude\")\n",
    "plt.grid(True)\n",
    "plt.show()"
   ]
  },
  {
   "cell_type": "code",
   "execution_count": null,
   "metadata": {},
   "outputs": [],
   "source": [
    "# Quick plot\n",
    "ax = gdf_buurt_2023.plot(figsize=(10, 10), edgecolor='k', linewidth=0.5, legend=True, color = \"gray\")\n",
    "gdf_buurt_2023.plot(ax = ax, column = 'LIHE_AndOr_LILEK', figsize=(10, 10), edgecolor='k', linewidth=0.5, legend=True, cmap=\"plasma\")\n",
    "#ax = gdf_20[gdf_20[\"BU_NAAM\"] == \"Verspreide huizen Sleen\"].plot(figsize=(10, 10), edgecolor='k', linewidth=2.5)\n",
    "# gdf_22[gdf_22[\"BU_CODE\"] == \"BU01145109\"].plot(ax= ax, figsize=(10, 10), edgecolor='k', linewidth=0.5, color = 'red')\n",
    "#gdf_22[gdf_22[\"BU_NAAM\"] == \"Verspreide huizen Sleen\"].plot(ax= ax, figsize=(10, 10), edgecolor='k', linewidth=0.5, color = 'green')\n",
    "\n",
    "# Set the title and display the plot\n",
    "plt.title(f\"Plot of NL - Buurten\", fontsize=15)\n",
    "plt.xlabel(\"Longitude\")\n",
    "plt.ylabel(\"Latitude\")\n",
    "plt.grid(True)\n",
    "plt.show()"
   ]
  },
  {
   "cell_type": "code",
   "execution_count": null,
   "metadata": {},
   "outputs": [],
   "source": [
    "# Quick plot\n",
    "ax = gdf_wijk_2023.plot(figsize=(10, 10), edgecolor='k', linewidth=0.5, legend=True, color = \"gray\")\n",
    "gdf_wijk_2023.plot(ax = ax, column = 'LIHE_AndOr_LILEK', figsize=(10, 10), edgecolor='k', linewidth=0.5, legend=True, cmap=\"plasma\")\n",
    "#ax = gdf_20[gdf_20[\"BU_NAAM\"] == \"Verspreide huizen Sleen\"].plot(figsize=(10, 10), edgecolor='k', linewidth=2.5)\n",
    "# gdf_22[gdf_22[\"BU_CODE\"] == \"BU01145109\"].plot(ax= ax, figsize=(10, 10), edgecolor='k', linewidth=0.5, color = 'red')\n",
    "#gdf_22[gdf_22[\"BU_NAAM\"] == \"Verspreide huizen Sleen\"].plot(ax= ax, figsize=(10, 10), edgecolor='k', linewidth=0.5, color = 'green')\n",
    "\n",
    "# Set the title and display the plot\n",
    "plt.title(f\"Plot of NL\", fontsize=15)\n",
    "plt.xlabel(\"Longitude\")\n",
    "plt.ylabel(\"Latitude\")\n",
    "plt.grid(True)\n",
    "plt.show()"
   ]
  },
  {
   "cell_type": "code",
   "execution_count": null,
   "metadata": {},
   "outputs": [],
   "source": [
    "### which geemente have more missing wijken missing \n",
    "missing_geemente = gdf_wijk_2023.groupby([\"GM_CODE\", \"GM_NAAM\"])\n",
    "missing_geemente = missing_geemente[\"LIHE_AndOr_LILEK\"].agg(NA_count = lambda x: x.isna().sum(), \n",
    "                                                   NA_perc=lambda x: (x.isna().sum() / len(x) * 100),\n",
    "                                                   Total = lambda x: len(x)).reset_index()\n",
    "missing_geemente"
   ]
  },
  {
   "cell_type": "code",
   "execution_count": null,
   "metadata": {},
   "outputs": [],
   "source": [
    "print(gdf_gemeente_2023.shape)\n",
    "gdf_gemeente_2023 = gdf_gemeente_2023.merge(missing_geemente, left_on='GM_CODE', right_on='GM_CODE', how = 'left')\n",
    "print(gdf_gemeente_2023.shape)"
   ]
  },
  {
   "cell_type": "code",
   "execution_count": null,
   "metadata": {},
   "outputs": [],
   "source": [
    "# Quick plot\n",
    "ax = gdf_gemeente_2023[gdf_gemeente_2023[\"NA_perc\"]<10].plot(figsize=(10, 10), edgecolor='k', linewidth=0.5, legend=True, color = \"blue\")\n",
    "gdf_gemeente_2023[gdf_gemeente_2023[\"NA_perc\"]>10].plot(ax = ax, column = 'NA_perc', figsize=(10, 10), edgecolor='k', linewidth=0.5, legend=True, cmap=\"Reds\")\n",
    "#ax = gdf_20[gdf_20[\"BU_NAAM\"] == \"Verspreide huizen Sleen\"].plot(figsize=(10, 10), edgecolor='k', linewidth=2.5)\n",
    "# gdf_22[gdf_22[\"BU_CODE\"] == \"BU01145109\"].plot(ax= ax, figsize=(10, 10), edgecolor='k', linewidth=0.5, color = 'red')\n",
    "#gdf_22[gdf_22[\"BU_NAAM\"] == \"Verspreide huizen Sleen\"].plot(ax= ax, figsize=(10, 10), edgecolor='k', linewidth=0.5, color = 'green')\n",
    "\n",
    "# Set the title and display the plot\n",
    "plt.title(f\"Plot of NL\", fontsize=15)\n",
    "plt.xlabel(\"Longitude\")\n",
    "plt.ylabel(\"Latitude\")\n",
    "plt.grid(True)\n",
    "plt.show()"
   ]
  },
  {
   "cell_type": "code",
   "execution_count": null,
   "metadata": {},
   "outputs": [],
   "source": [
    "# plotting histogram for carat using distplot()\n",
    "print(gdf_gemeente_2023.NA_perc.describe())\n",
    "sns.histplot(gdf_gemeente_2023.NA_perc, kde=True)"
   ]
  },
  {
   "cell_type": "code",
   "execution_count": null,
   "metadata": {},
   "outputs": [],
   "source": [
    "print(energy_poverty_22.Regiocode.isin(gdf_buurt_2022.BU_CODE).value_counts())\n",
    "print(gdf_buurt_2023.BU_CODE.isin(energy_poverty_22.Regiocode).value_counts())\n",
    "print(gdf_buurt_2022.BU_NAAM.isin(energy_poverty_22.Buurt).value_counts())\n"
   ]
  },
  {
   "cell_type": "code",
   "execution_count": null,
   "metadata": {},
   "outputs": [],
   "source": [
    "#### Checking in the FUA missing values \n",
    "gdf_buurt_2023_fua = gpd.sjoin(gdf_buurt_2023, fua, predicate='within')\n",
    "gdf_wijk_2023_fua_within = gpd.sjoin(gdf_wijk_2023, fua,  predicate='within')\n",
    "gdf_gemeente_2023_fua = gpd.sjoin(gdf_gemeente_2023, fua, how='left', predicate='intersects')\n",
    "fua_buurt_2023 = gpd.sjoin(fua, gdf_buurt_2023, predicate='intersects')"
   ]
  },
  {
   "cell_type": "code",
   "execution_count": null,
   "metadata": {},
   "outputs": [],
   "source": [
    "gdf_wijk_2023_fua.geometry.intersection"
   ]
  },
  {
   "cell_type": "code",
   "execution_count": null,
   "metadata": {},
   "outputs": [],
   "source": [
    "# Perform the spatial join with the 'intersects' predicate\n",
    "gdf_wijk_2023_fua = gpd.sjoin(gdf_wijk_2023, fua, predicate='intersects')\n",
    "# Merge the original 'fua' geometries back into the result to align geometries\n",
    "gdf_wijk_2023_fua = gdf_wijk_2023_fua.merge(fua[['geometry']], left_on='index_right', right_index=True, suffixes=('', '_fua'))\n",
    "\n",
    "# Now calculate the intersection\n",
    "gdf_wijk_2023_fua['intersection'] = gdf_wijk_2023_fua.geometry.intersection(gdf_wijk_2023_fua['geometry_fua'])\n",
    "\n",
    "# # # Calculate the area of the original geometries in gdf_wijk_2023\n",
    "gdf_wijk_2023_fua['area_wijk'] = gdf_wijk_2023_fua.geometry.area\n",
    "\n",
    "# # # Calculate the area of the intersection geometries\n",
    "gdf_wijk_2023_fua['intersection_area'] = gdf_wijk_2023_fua['intersection'].area\n",
    "\n",
    "# # Calculate percentage of overlap (intersection area / original area)\n",
    "gdf_wijk_2023_fua['overlap_percentage'] = (gdf_wijk_2023_fua['intersection_area'] / gdf_wijk_2023_fua['area_wijk']) * 100\n",
    "\n",
    "# # Filter the spatial join to keep only those geometries that are 'within' a certain overlap percentage\n",
    "# # For example, keeping only those with at least 70% overlap\n",
    "threshold = 90  # Set your desired percentage threshold here\n",
    "gdf_wijk_2023_fua_filtered = gdf_wijk_2023_fua[gdf_wijk_2023_fua['overlap_percentage'] >= threshold]"
   ]
  },
  {
   "cell_type": "code",
   "execution_count": null,
   "metadata": {},
   "outputs": [],
   "source": [
    "gdf_wijk_2023_fua['overlap_percentage'].describe().round()"
   ]
  },
  {
   "cell_type": "code",
   "execution_count": null,
   "metadata": {},
   "outputs": [],
   "source": [
    "# Quick plot\n",
    "ax = gdf_wijk_2023.plot(figsize=(10, 10), edgecolor='k', linewidth=0.01, legend=True, color = \"white\")\n",
    "# gdf_gemeente_2023_fua[~gdf_gemeente_2023_fua.fuaname_en.isna()].plot(ax = ax, column = 'NA_perc', figsize=(10, 10), edgecolor='k', linewidth=0.5, legend=True, cmap=\"Reds\")\n",
    "#fua.plot(ax = ax,  figsize=(10, 10), edgecolor='k', linewidth=0.5, legend=True, color=\"red\", alpha = 0.3)\n",
    "gdf_wijk_2023_fua.plot(ax = ax,  figsize=(10, 10), edgecolor='k', linewidth=0.5, legend=True, color=\"red\", alpha = 0.3)\n",
    "gdf_wijk_2023_fua_filtered.plot(ax = ax,  figsize=(10, 10), edgecolor='k', linewidth=0.5, legend=True, color=\"blue\", alpha = 0.3)\n",
    "#gdf_buurt_2023_fua[~gdf_buurt_2023_fua.fuaname_en.isna()].plot(ax = ax,  figsize=(10, 10), edgecolor='k', linewidth=0.5, legend=True, color=\"red\")\n",
    "#ax = gdf_20[gdf_20[\"BU_NAAM\"] == \"Verspreide huizen Sleen\"].plot(figsize=(10, 10), edgecolor='k', linewidth=2.5)\n",
    "# gdf_22[gdf_22[\"BU_CODE\"] == \"BU01145109\"].plot(ax= ax, figsize=(10, 10), edgecolor='k', linewidth=0.5, color = 'red')\n",
    "#gdf_22[gdf_22[\"BU_NAAM\"] == \"Verspreide huizen Sleen\"].plot(ax= ax, figsize=(10, 10), edgecolor='k', linewidth=0.5, color = 'green')\n",
    "\n",
    "# Set the title and display the plot\n",
    "plt.title(f\"Plot of NL\", fontsize=15)\n",
    "plt.xlabel(\"Longitude\")\n",
    "plt.ylabel(\"Latitude\")\n",
    "\n",
    "# plt.xlim([min_longitude, max_longitude])  # Replace with your desired x-range (longitude)\n",
    "# plt.ylim([min_latitude, max_latitude])    # Replace with your desired y-range (latitude)\n",
    "\n",
    "plt.grid(True)\n",
    "plt.show()"
   ]
  },
  {
   "cell_type": "code",
   "execution_count": null,
   "metadata": {},
   "outputs": [],
   "source": [
    "# Quick plot\n",
    "ax = gdf_wijk_2023.plot(figsize=(10, 10), edgecolor='k', linewidth=0.01, legend=True, color = \"white\")\n",
    "# gdf_gemeente_2023_fua[~gdf_gemeente_2023_fua.fuaname_en.isna()].plot(ax = ax, column = 'NA_perc', figsize=(10, 10), edgecolor='k', linewidth=0.5, legend=True, cmap=\"Reds\")\n",
    "#fua.plot(ax = ax,  figsize=(10, 10), edgecolor='k', linewidth=0.5, legend=True, color=\"red\", alpha = 0.3)\n",
    "gdf_wijk_2023[gdf_wijk_2023[\"STED\"].isin([1,2,3])].plot(ax = ax,  figsize=(10, 10), edgecolor='k', linewidth=0.001, legend=True, color=\"blue\", alpha = 0.3)\n",
    "gdf_wijk_2023_fua_filtered.plot(ax = ax,  figsize=(10, 10), edgecolor='k', linewidth=0.001, legend=True, color=\"red\", alpha = 0.3)\n",
    "# gdf_buurt_2023_fua.plot(ax = ax,  figsize=(10, 10), edgecolor='k', linewidth=0.5, legend=True, color=\"blue\", alpha = 0.3)\n",
    "#gdf_buurt_2023_fua[~gdf_buurt_2023_fua.fuaname_en.isna()].plot(ax = ax,  figsize=(10, 10), edgecolor='k', linewidth=0.5, legend=True, color=\"red\")\n",
    "#ax = gdf_20[gdf_20[\"BU_NAAM\"] == \"Verspreide huizen Sleen\"].plot(figsize=(10, 10), edgecolor='k', linewidth=2.5)\n",
    "# gdf_22[gdf_22[\"BU_CODE\"] == \"BU01145109\"].plot(ax= ax, figsize=(10, 10), edgecolor='k', linewidth=0.5, color = 'red')\n",
    "#gdf_22[gdf_22[\"BU_NAAM\"] == \"Verspreide huizen Sleen\"].plot(ax= ax, figsize=(10, 10), edgecolor='k', linewidth=0.5, color = 'green')\n",
    "\n",
    "# Set the title and display the plot\n",
    "plt.title(f\"Plot of NL\", fontsize=15)\n",
    "plt.xlabel(\"Longitude\")\n",
    "plt.ylabel(\"Latitude\")\n",
    "\n",
    "# plt.xlim([min_longitude, max_longitude])  # Replace with your desired x-range (longitude)\n",
    "# plt.ylim([min_latitude, max_latitude])    # Replace with your desired y-range (latitude)\n",
    "\n",
    "plt.grid(True)\n",
    "plt.show()"
   ]
  },
  {
   "cell_type": "code",
   "execution_count": null,
   "metadata": {},
   "outputs": [],
   "source": [
    "print(len(gdf_wijk_2023_fua.index.unique()))\n",
    "print(len(gdf_wijk_2023_fua.index))\n",
    "print(len(gdf_wijk_2023.index.unique()))\n",
    "print(len(gdf_wijk_2023.index))\n",
    "gdf_wijk_2023_fua[gdf_wijk_2023_fua.index.duplicated()]\n",
    "\n",
    "gdf_wijk_2023_fua[gdf_wijk_2023_fua.WK_CODE.isin([\"WK003459\"])]"
   ]
  },
  {
   "cell_type": "code",
   "execution_count": null,
   "metadata": {},
   "outputs": [],
   "source": [
    "print(fua_buurt_2023.shape)\n",
    "print(fua.shape)\n",
    "print(gdf_wijk_2023.shape)\n",
    "print(gdf_wijk_2023_fua.shape)"
   ]
  },
  {
   "cell_type": "code",
   "execution_count": null,
   "metadata": {},
   "outputs": [],
   "source": [
    "gdf_wijk_2023_fua.head()"
   ]
  },
  {
   "cell_type": "code",
   "execution_count": null,
   "metadata": {},
   "outputs": [],
   "source": [
    "# Quick plot\n",
    "ax = gdf_buurt_2023.plot(figsize=(10, 10), edgecolor='k', linewidth=0.01, legend=True, color = \"white\")\n",
    "# gdf_gemeente_2023_fua[~gdf_gemeente_2023_fua.fuaname_en.isna()].plot(ax = ax, column = 'NA_perc', figsize=(10, 10), edgecolor='k', linewidth=0.5, legend=True, cmap=\"Reds\")\n",
    "#fua.plot(ax = ax,  figsize=(10, 10), edgecolor='k', linewidth=0.5, legend=True, color=\"red\", alpha = 0.3)\n",
    "gdf_wijk_2023_fua.plot(ax = ax,  figsize=(10, 10), edgecolor='k', linewidth=0.5, legend=True, color=\"red\", alpha = 0.3)\n",
    "gdf_buurt_2023_fua.plot(ax = ax,  figsize=(10, 10), edgecolor='k', linewidth=0.5, legend=True, color=\"blue\", alpha = 0.3)\n",
    "#gdf_buurt_2023_fua[~gdf_buurt_2023_fua.fuaname_en.isna()].plot(ax = ax,  figsize=(10, 10), edgecolor='k', linewidth=0.5, legend=True, color=\"red\")\n",
    "#ax = gdf_20[gdf_20[\"BU_NAAM\"] == \"Verspreide huizen Sleen\"].plot(figsize=(10, 10), edgecolor='k', linewidth=2.5)\n",
    "# gdf_22[gdf_22[\"BU_CODE\"] == \"BU01145109\"].plot(ax= ax, figsize=(10, 10), edgecolor='k', linewidth=0.5, color = 'red')\n",
    "#gdf_22[gdf_22[\"BU_NAAM\"] == \"Verspreide huizen Sleen\"].plot(ax= ax, figsize=(10, 10), edgecolor='k', linewidth=0.5, color = 'green')\n",
    "\n",
    "# Set the title and display the plot\n",
    "plt.title(f\"Plot of NL\", fontsize=15)\n",
    "plt.xlabel(\"Longitude\")\n",
    "plt.ylabel(\"Latitude\")\n",
    "\n",
    "# plt.xlim([min_longitude, max_longitude])  # Replace with your desired x-range (longitude)\n",
    "# plt.ylim([min_latitude, max_latitude])    # Replace with your desired y-range (latitude)\n",
    "\n",
    "plt.grid(True)\n",
    "plt.show()"
   ]
  },
  {
   "cell_type": "code",
   "execution_count": null,
   "metadata": {},
   "outputs": [],
   "source": [
    "# Quick plot\n",
    "ax = gdf_buurt_2023.plot(figsize=(10, 10), edgecolor='k', linewidth=0.01, legend=True, color = \"white\")\n",
    "# gdf_gemeente_2023_fua[~gdf_gemeente_2023_fua.fuaname_en.isna()].plot(ax = ax, column = 'NA_perc', figsize=(10, 10), edgecolor='k', linewidth=0.5, legend=True, cmap=\"Reds\")\n",
    "#fua.plot(ax = ax,  figsize=(10, 10), edgecolor='k', linewidth=0.5, legend=True, color=\"red\", alpha = 0.3)\n",
    "gdf_wijk_2023_fua.plot(ax = ax,  figsize=(10, 10), edgecolor='k', linewidth=0.5, legend=True, color=\"red\", alpha = 0.3)\n",
    "gdf_buurt_2023_fua.plot(ax = ax,  figsize=(10, 10), edgecolor='k', linewidth=0.5, legend=True, color=\"blue\", alpha = 0.3)\n",
    "#gdf_buurt_2023_fua[~gdf_buurt_2023_fua.fuaname_en.isna()].plot(ax = ax,  figsize=(10, 10), edgecolor='k', linewidth=0.5, legend=True, color=\"red\")\n",
    "#ax = gdf_20[gdf_20[\"BU_NAAM\"] == \"Verspreide huizen Sleen\"].plot(figsize=(10, 10), edgecolor='k', linewidth=2.5)\n",
    "# gdf_22[gdf_22[\"BU_CODE\"] == \"BU01145109\"].plot(ax= ax, figsize=(10, 10), edgecolor='k', linewidth=0.5, color = 'red')\n",
    "#gdf_22[gdf_22[\"BU_NAAM\"] == \"Verspreide huizen Sleen\"].plot(ax= ax, figsize=(10, 10), edgecolor='k', linewidth=0.5, color = 'green')\n",
    "\n",
    "# Set the title and display the plot\n",
    "plt.title(f\"Plot of NL\", fontsize=15)\n",
    "plt.xlabel(\"Longitude\")\n",
    "plt.ylabel(\"Latitude\")\n",
    "\n",
    "# plt.xlim([min_longitude, max_longitude])  # Replace with your desired x-range (longitude)\n",
    "# plt.ylim([min_latitude, max_latitude])    # Replace with your desired y-range (latitude)\n",
    "\n",
    "plt.grid(True)\n",
    "plt.show()"
   ]
  },
  {
   "cell_type": "code",
   "execution_count": null,
   "metadata": {},
   "outputs": [],
   "source": [
    "gdf_buurt_2023.STED.unique()"
   ]
  },
  {
   "cell_type": "code",
   "execution_count": null,
   "metadata": {},
   "outputs": [],
   "source": [
    "# Quick plot\n",
    "ax = gdf_wijk_2023.plot(figsize=(10, 10), edgecolor='k', linewidth=0.01, legend=True, color = \"white\")\n",
    "# gdf_gemeente_2023_fua[~gdf_gemeente_2023_fua.fuaname_en.isna()].plot(ax = ax, column = 'NA_perc', figsize=(10, 10), edgecolor='k', linewidth=0.5, legend=True, cmap=\"Reds\")\n",
    "#fua.plot(ax = ax,  figsize=(10, 10), edgecolor='k', linewidth=0.5, legend=True, color=\"red\", alpha = 0.3)\n",
    "gdf_wijk_2023[gdf_wijk_2023[\"STED\"].isin([1,2])].plot(ax = ax,  figsize=(10, 10), edgecolor='k', linewidth=0.001, legend=True, color=\"blue\", alpha = 0.3)\n",
    "gdf_wijk_2023_fua.plot(ax = ax,  figsize=(10, 10), edgecolor='k', linewidth=0.001, legend=True, color=\"red\", alpha = 0.3)\n",
    "# gdf_buurt_2023_fua.plot(ax = ax,  figsize=(10, 10), edgecolor='k', linewidth=0.5, legend=True, color=\"blue\", alpha = 0.3)\n",
    "#gdf_buurt_2023_fua[~gdf_buurt_2023_fua.fuaname_en.isna()].plot(ax = ax,  figsize=(10, 10), edgecolor='k', linewidth=0.5, legend=True, color=\"red\")\n",
    "#ax = gdf_20[gdf_20[\"BU_NAAM\"] == \"Verspreide huizen Sleen\"].plot(figsize=(10, 10), edgecolor='k', linewidth=2.5)\n",
    "# gdf_22[gdf_22[\"BU_CODE\"] == \"BU01145109\"].plot(ax= ax, figsize=(10, 10), edgecolor='k', linewidth=0.5, color = 'red')\n",
    "#gdf_22[gdf_22[\"BU_NAAM\"] == \"Verspreide huizen Sleen\"].plot(ax= ax, figsize=(10, 10), edgecolor='k', linewidth=0.5, color = 'green')\n",
    "\n",
    "# Set the title and display the plot\n",
    "plt.title(f\"Plot of NL\", fontsize=15)\n",
    "plt.xlabel(\"Longitude\")\n",
    "plt.ylabel(\"Latitude\")\n",
    "\n",
    "# plt.xlim([min_longitude, max_longitude])  # Replace with your desired x-range (longitude)\n",
    "# plt.ylim([min_latitude, max_latitude])    # Replace with your desired y-range (latitude)\n",
    "\n",
    "plt.grid(True)\n",
    "plt.show()"
   ]
  },
  {
   "cell_type": "code",
   "execution_count": null,
   "metadata": {},
   "outputs": [],
   "source": [
    "# Quick plot\n",
    "ax = gdf_22.plot(column = ' LIHE_AndOR _LILEK', figsize=(10, 10), edgecolor='k', linewidth=0.5, legend=True, cmap=\"plasma\")\n",
    "#ax = gdf_20[gdf_20[\"BU_NAAM\"] == \"Verspreide huizen Sleen\"].plot(figsize=(10, 10), edgecolor='k', linewidth=2.5)\n",
    "# gdf_22[gdf_22[\"BU_CODE\"] == \"BU01145109\"].plot(ax= ax, figsize=(10, 10), edgecolor='k', linewidth=0.5, color = 'red')\n",
    "#gdf_22[gdf_22[\"BU_NAAM\"] == \"Verspreide huizen Sleen\"].plot(ax= ax, figsize=(10, 10), edgecolor='k', linewidth=0.5, color = 'green')\n",
    "\n",
    "# Set the title and display the plot\n",
    "plt.title(f\"Plot of NL\", fontsize=15)\n",
    "plt.xlabel(\"Longitude\")\n",
    "plt.ylabel(\"Latitude\")\n",
    "plt.grid(True)\n",
    "plt.show()"
   ]
  },
  {
   "cell_type": "code",
   "execution_count": null,
   "metadata": {},
   "outputs": [],
   "source": []
  },
  {
   "cell_type": "code",
   "execution_count": null,
   "metadata": {},
   "outputs": [],
   "source": [
    "energy_poverty_22.head()"
   ]
  },
  {
   "cell_type": "code",
   "execution_count": null,
   "metadata": {},
   "outputs": [],
   "source": [
    "gdf_22[~gdf_22.GM_NAAM.isin(energy_poverty_22.Gemeente)][\"GM_NAAM\"]"
   ]
  },
  {
   "cell_type": "code",
   "execution_count": null,
   "metadata": {},
   "outputs": [],
   "source": [
    "gdf_22[gdf_22['BU_NAAM'] == \"Zaagpoortbuurt\"]"
   ]
  },
  {
   "cell_type": "code",
   "execution_count": null,
   "metadata": {},
   "outputs": [],
   "source": [
    "gdf_21[gdf_21['BU_NAAM'] == \"Zaagpoortbuurt\"]"
   ]
  },
  {
   "cell_type": "code",
   "execution_count": null,
   "metadata": {},
   "outputs": [],
   "source": [
    "gdf_20[gdf_20['BU_NAAM'] == \"Zaagpoortbuurt\"]"
   ]
  },
  {
   "cell_type": "code",
   "execution_count": null,
   "metadata": {},
   "outputs": [],
   "source": [
    "gdf_19[gdf_19['BU_NAAM'] == \"Zaagpoortbuurt\"]"
   ]
  }
 ],
 "metadata": {
  "kernelspec": {
   "display_name": "arcgispro-py3-clone",
   "language": "python",
   "name": "python3"
  },
  "language_info": {
   "codemirror_mode": {
    "name": "ipython",
    "version": 3
   },
   "file_extension": ".py",
   "mimetype": "text/x-python",
   "name": "python",
   "nbconvert_exporter": "python",
   "pygments_lexer": "ipython3",
   "version": "3.11.8"
  }
 },
 "nbformat": 4,
 "nbformat_minor": 2
}
