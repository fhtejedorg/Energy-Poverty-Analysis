{
 "cells": [
  {
   "cell_type": "code",
   "execution_count": 8,
   "metadata": {},
   "outputs": [],
   "source": [
    "import pandas as pd \n",
    "import os\n",
    "import geopandas as gpd \n",
    "import zipfile \n",
    "import matplotlib.pyplot as plt\n",
    "import folium\n",
    "import pickle \n",
    "import numpy as np "
   ]
  },
  {
   "cell_type": "code",
   "execution_count": 9,
   "metadata": {},
   "outputs": [],
   "source": [
    "os.chdir(\"C:/Users/tejed002/OneDrive - Wageningen University & Research/PhD-WUR/01_WUR-Research/05_Papers/02_Paper_energy_poverty/Data/Raw\")"
   ]
  },
  {
   "cell_type": "code",
   "execution_count": null,
   "metadata": {},
   "outputs": [],
   "source": [
    "# with zipfile.ZipFile('ShapeFiles/WijkBuurtkaart_2019_v3.zip', 'r') as zip_ref:\n",
    "#        zip_ref.extractall(\"ShapeFiles/WijkBuurtkaart_2019\")\n",
    "# with zipfile.ZipFile('ShapeFiles/WijkBuurtkaart_2020_v3.zip', 'r') as zip_ref:\n",
    "#        zip_ref.extractall(\"ShapeFiles/WijkBuurtkaart_2020\")\n",
    "# with zipfile.ZipFile('ShapeFiles/WijkBuurtkaart_2021_v3.zip', 'r') as zip_ref:\n",
    "#     zip_ref.extractall(\"ShapeFiles/WijkBuurtkaart_2021\")\n",
    "# with zipfile.ZipFile('ShapeFiles/WijkBuurtkaart_2022_v2.zip', 'r') as zip_ref:\n",
    "#        zip_ref.extractall(\"ShapeFiles/WijkBuurtkaart_2022\")"
   ]
  },
  {
   "cell_type": "code",
   "execution_count": null,
   "metadata": {},
   "outputs": [],
   "source": [
    "buurt_traceable = {}\n",
    "for year in [\"2021_2022\", \"2020_2021\", \"2019_2020\"]:\n",
    "    buurt_traceable[year] = pd.read_excel(\"C:/Users/tejed002/OneDrive - Wageningen University & Research/PhD-WUR/01_WUR-Research/05_Papers/02_Paper_energy_poverty/Data/Raw/buurten_consistency_table_2019_2022.xlsx\", sheet_name = year)                                   "
   ]
  },
  {
   "cell_type": "code",
   "execution_count": 4,
   "metadata": {},
   "outputs": [],
   "source": [
    "dict_wijk_gdf = {}\n",
    "dict_gdf = {}\n",
    "dict_gemeente_gdf = {}\n",
    "years = [2019, 2020, 2021, 2022, 2023]"
   ]
  },
  {
   "cell_type": "code",
   "execution_count": 5,
   "metadata": {},
   "outputs": [
    {
     "name": "stdout",
     "output_type": "stream",
     "text": [
      "ShapeFiles/WijkBuurtkaart_2019/wijk_2019_v3.shp\n",
      "ShapeFiles/WijkBuurtkaart_2020/wijk_2020_v3.shp\n",
      "ShapeFiles/WijkBuurtkaart_2021/wijken_2021_v3.shp\n",
      "ShapeFiles/WijkBuurtkaart_2022/wijken_2022_v2.shp\n",
      "ShapeFiles/WijkBuurtkaart_2023/wijken_2023_v1.shp\n"
     ]
    }
   ],
   "source": [
    "for year in years:\n",
    "    if year in [2019, 2020, 2021]:\n",
    "        version = 3\n",
    "    elif year == 2022:\n",
    "        version = 2\n",
    "    else:\n",
    "        version = 1\n",
    "    if year in [2021, 2022, 2023]:\n",
    "        file_name = f\"ShapeFiles/WijkBuurtkaart_{year}/wijken_{year}_v{version}.shp\"\n",
    "    else:\n",
    "        file_name = f\"ShapeFiles/WijkBuurtkaart_{year}/wijk_{year}_v{version}.shp\" \n",
    "    print(file_name)\n",
    "    dict_wijk_gdf[str(year)] = gpd.read_file(file_name)"
   ]
  },
  {
   "cell_type": "code",
   "execution_count": 12,
   "metadata": {},
   "outputs": [
    {
     "data": {
      "text/plain": [
       "(3423, 161)"
      ]
     },
     "execution_count": 12,
     "metadata": {},
     "output_type": "execute_result"
    }
   ],
   "source": [
    "dict_wijk_gdf['2022'].shape"
   ]
  },
  {
   "cell_type": "code",
   "execution_count": null,
   "metadata": {},
   "outputs": [],
   "source": [
    "for year in years:\n",
    "    if year in [2019, 2020, 2021]:\n",
    "        version = 3\n",
    "    elif year == 2022:\n",
    "        version = 2\n",
    "    else:\n",
    "        version = 1\n",
    "    if year in [2021, 2022, 2023]:\n",
    "        file_name = f\"ShapeFiles/WijkBuurtkaart_{year}/gemeenten_{year}_v{version}.shp\"\n",
    "    else:\n",
    "        file_name = f\"ShapeFiles/WijkBuurtkaart_{year}/gemeente_{year}_v{version}.shp\" \n",
    "    print(file_name)\n",
    "    dict_gemeente_gdf[str(year)] = gpd.read_file(file_name)"
   ]
  },
  {
   "cell_type": "code",
   "execution_count": null,
   "metadata": {},
   "outputs": [],
   "source": [
    "for year in years:\n",
    "    if year in [2019, 2020, 2021]:\n",
    "        version = 3\n",
    "    elif year == 2022:\n",
    "        version = 3\n",
    "    else:\n",
    "        version == 2\n",
    "    file_name = f\"ShapeFiles/WijkBuurtkaart_{year}/buurten_{year}_v{version}.shp\"\n",
    "    dict_gdf[str(year)] = gpd.read_file(file_name)"
   ]
  },
  {
   "cell_type": "code",
   "execution_count": null,
   "metadata": {},
   "outputs": [
    {
     "data": {
      "text/plain": [
       "dict_keys([])"
      ]
     },
     "execution_count": 10,
     "metadata": {},
     "output_type": "execute_result"
    }
   ],
   "source": [
    "# Consolidate 2022 as the final Energy Poverty Monitor. \n",
    "# # Standardize all the neighborhoods for 2022, and bring all the other years to 2022\n",
    "# # Use the SHP file to do that, and the neighborhood change Excel file \n",
    "# # \n"
   ]
  },
  {
   "cell_type": "code",
   "execution_count": null,
   "metadata": {},
   "outputs": [],
   "source": [
    "with open(\"ShapeFiles/00_Processed/dict_gdf.pkl\", \"wb\") as file:\n",
    "    pickle.dump(dict_gdf, file)"
   ]
  },
  {
   "cell_type": "code",
   "execution_count": null,
   "metadata": {},
   "outputs": [],
   "source": [
    "with open(\"ShapeFiles/00_Processed/dict_wijk_gdf.pkl\", \"wb\") as file:\n",
    "    pickle.dump(dict_wijk_gdf, file)"
   ]
  },
  {
   "cell_type": "code",
   "execution_count": null,
   "metadata": {},
   "outputs": [],
   "source": [
    "with open(\"ShapeFiles/00_Processed/dict_gemeente_gdf.pkl\", \"wb\") as file:\n",
    "    pickle.dump(dict_gemeente_gdf, file)"
   ]
  },
  {
   "cell_type": "code",
   "execution_count": null,
   "metadata": {},
   "outputs": [],
   "source": [
    "years = [2019, 2020, 2021, 2022, 2023]\n",
    "for year in years:\n",
    "    gdf = dict_gdf[str(year)]\n",
    "    gdf = gdf[gdf[\"H2O\"] == \"NEE\"]\n",
    "    dict_gdf[str(year)] = gdf"
   ]
  },
  {
   "cell_type": "code",
   "execution_count": null,
   "metadata": {},
   "outputs": [],
   "source": [
    "columns_buurten = [\"BU_CODE\", \"BU_NAAM\", \"WK_CODE\", \"GM_CODE\", \"GM_NAAM\", \"WK_CODE\", \"GM_CODE\", \"GM_NAAM\", \"IND_WBI\", 'JRSTATCODE', 'JAAR', 'geometry']"
   ]
  },
  {
   "cell_type": "code",
   "execution_count": null,
   "metadata": {},
   "outputs": [],
   "source": [
    "gdf_22 = dict_gdf[\"2022\"][columns_buurten] \n",
    "gdf_21 = dict_gdf[\"2021\"][columns_buurten] \n",
    "gdf_20 = dict_gdf[\"2020\"][columns_buurten] \n",
    "gdf_19 = dict_gdf[\"2019\"][columns_buurten] \n",
    "buurt_2019_2022 = gdf_22[columns_buurten] \n",
    "buurt_2019_2022[\"year\"] = 2022"
   ]
  },
  {
   "cell_type": "code",
   "execution_count": null,
   "metadata": {},
   "outputs": [],
   "source": [
    "#### checking if homologation table has only unique change of codes\n",
    "print(buurt_traceable[\"2021_2022\"].BU_WK_CODE_2021.nunique())\n",
    "print(buurt_traceable[\"2021_2022\"].BU_WK_CODE_2022.nunique())\n",
    "\n",
    "print(buurt_traceable[\"2020_2021\"].BU_WK_CODE_2020.nunique())\n",
    "print(buurt_traceable[\"2020_2021\"].BU_WK_CODE_2021.nunique())\n",
    "\n",
    "print(buurt_traceable[\"2019_2020\"].BU_WK_CODE_2019.nunique())\n",
    "print(buurt_traceable[\"2019_2020\"].BU_WK_CODE_2020.nunique())\n"
   ]
  },
  {
   "cell_type": "code",
   "execution_count": null,
   "metadata": {},
   "outputs": [],
   "source": [
    "BU_CODE_2019 = gdf_19[[\"BU_CODE\"]]\n",
    "BU_CODE_2019 = BU_CODE_2019.rename(columns = {\"BU_CODE\" : \"BU_CODE_2019\"})\n",
    "BU_CODE_2019.head()\n",
    "\n",
    "BU_CODE_2020 = gdf_20[[\"BU_CODE\"]]\n",
    "BU_CODE_2020 = BU_CODE_2020.rename(columns = {\"BU_CODE\" : \"BU_CODE_2020\"})\n",
    "BU_CODE_2020.head()\n",
    "\n",
    "BU_CODE_2021 = gdf_21[[\"BU_CODE\"]]\n",
    "BU_CODE_2021 = BU_CODE_2021.rename(columns = {\"BU_CODE\" : \"BU_CODE_2021\"})\n",
    "BU_CODE_2021.head()"
   ]
  },
  {
   "cell_type": "code",
   "execution_count": null,
   "metadata": {},
   "outputs": [],
   "source": [
    "### Homologate neighborhoods that is possible with the Excel file. Then missing ones can be done with spatial join (sjoin)\n",
    "### 2021 --> 2022 \n",
    "buurt_2019_2022 =  pd.merge(buurt_2019_2022, BU_CODE_2021, left_on = \"BU_CODE\", right_on = \"BU_CODE_2021\", how = \"left\", indicator=True)"
   ]
  },
  {
   "cell_type": "code",
   "execution_count": null,
   "metadata": {},
   "outputs": [],
   "source": [
    "# BU_CODE_2021.BU_CODE_2021.isin(buurt_traceable[\"2021_2022\"].BU_WK_CODE_2021).value_counts()\n",
    "buurt_traceable[\"2021_2022\"].BU_WK_CODE_2021.isin(BU_CODE_2021.BU_CODE_2021).value_counts()\n"
   ]
  },
  {
   "cell_type": "code",
   "execution_count": null,
   "metadata": {},
   "outputs": [],
   "source": [
    "print(buurt_2019_2022[\"BU_CODE_2021\"].isna().value_counts())\n",
    "buurt_2019_2022 = pd.merge(buurt_2019_2022, buurt_traceable[\"2021_2022\"][[\"BU_WK_CODE_2021\", \"BU_WK_CODE_2022\"]], left_on = \"BU_CODE\", right_on = \"BU_WK_CODE_2022\", how = \"left\")\n",
    "buurt_2019_2022[\"BU_CODE_2021\"] = np.where(buurt_2019_2022[\"BU_CODE_2021\"].isna(), buurt_2019_2022[\"BU_WK_CODE_2021\"], buurt_2019_2022[\"BU_CODE_2021\"]) \n",
    "print(buurt_2019_2022[\"BU_CODE_2021\"].isna().value_counts())\n",
    "# miss21= buurt_2019_2022[~buurt_2019_2022.BU_CODE.isin(gdf_21.BU_CODE_2022)]\n",
    "# miss21.shape"
   ]
  },
  {
   "cell_type": "code",
   "execution_count": null,
   "metadata": {},
   "outputs": [],
   "source": [
    "buurt_2019_2022 =  buurt_2019_2022.drop(columns = [\"_merge\", \"BU_WK_CODE_2021\", \"BU_WK_CODE_2022\"])\n",
    "buurt_2019_2022.head()"
   ]
  },
  {
   "cell_type": "code",
   "execution_count": null,
   "metadata": {},
   "outputs": [],
   "source": [
    "### 2020 --> 2022 \n",
    "buurt_2019_2022 =  pd.merge(buurt_2019_2022, BU_CODE_2020, left_on = \"BU_CODE\", right_on = \"BU_CODE_2020\", how = \"left\", indicator=True)\n",
    "buurt_2019_2022.head()"
   ]
  },
  {
   "cell_type": "code",
   "execution_count": null,
   "metadata": {},
   "outputs": [],
   "source": [
    "buurt_2019_2022['_merge'].value_counts()"
   ]
  },
  {
   "cell_type": "code",
   "execution_count": null,
   "metadata": {},
   "outputs": [],
   "source": [
    "# BU_CODE_2021.BU_CODE_2021.isin(buurt_traceable[\"2021_2022\"].BU_WK_CODE_2021).value_counts()\n",
    "print(buurt_traceable[\"2020_2021\"].BU_WK_CODE_2020.isin(buurt_2019_2022[buurt_2019_2022['_merge'] == \"left_only\"].BU_CODE).value_counts())\n",
    "print(buurt_traceable[\"2020_2021\"].BU_WK_CODE_2021.isin(buurt_2019_2022[buurt_2019_2022['_merge'] == \"left_only\"].BU_CODE).value_counts())\n"
   ]
  },
  {
   "cell_type": "code",
   "execution_count": null,
   "metadata": {},
   "outputs": [],
   "source": [
    "print(buurt_2019_2022[\"BU_CODE_2020\"].isna().value_counts())\n",
    "buurt_2019_2022 = pd.merge(buurt_2019_2022, buurt_traceable[\"2020_2021\"][[\"BU_WK_CODE_2020\", \"BU_WK_CODE_2021\"]], left_on = \"BU_CODE\", right_on = \"BU_WK_CODE_2021\", how = \"left\")\n",
    "buurt_2019_2022[\"BU_CODE_2020\"] = np.where(buurt_2019_2022[\"BU_CODE_2020\"].isna(), buurt_2019_2022[\"BU_WK_CODE_2020\"], buurt_2019_2022[\"BU_CODE_2020\"]) \n",
    "print(buurt_2019_2022[\"BU_CODE_2020\"].isna().value_counts())\n"
   ]
  },
  {
   "cell_type": "code",
   "execution_count": null,
   "metadata": {},
   "outputs": [],
   "source": [
    "buurt_2019_2022 = buurt_2019_2022.drop(columns = [\"BU_WK_CODE_2020\", \"BU_WK_CODE_2021\"]) "
   ]
  },
  {
   "cell_type": "code",
   "execution_count": null,
   "metadata": {},
   "outputs": [],
   "source": [
    "print(buurt_traceable[\"2021_2022\"].BU_WK_CODE_2022.isin(buurt_2019_2022[buurt_2019_2022[\"BU_CODE_2020\"].isna()].BU_CODE).value_counts())\n",
    "print(buurt_traceable[\"2021_2022\"].BU_WK_CODE_2021.isin(buurt_2019_2022[buurt_2019_2022[\"BU_CODE_2020\"].isna()].BU_CODE).value_counts())"
   ]
  },
  {
   "cell_type": "code",
   "execution_count": null,
   "metadata": {},
   "outputs": [],
   "source": [
    "print(buurt_2019_2022[\"BU_CODE_2020\"].isna().value_counts())\n",
    "buurt_2019_2022 = pd.merge(buurt_2019_2022, buurt_traceable[\"2021_2022\"][[\"BU_WK_CODE_2022\", \"BU_WK_CODE_2021\"]], left_on = \"BU_CODE\", right_on = \"BU_WK_CODE_2022\", how = \"left\")\n",
    "buurt_2019_2022[\"BU_CODE_2020\"] = np.where(buurt_2019_2022[\"BU_CODE_2020\"].isna(), buurt_2019_2022[\"BU_WK_CODE_2021\"], buurt_2019_2022[\"BU_CODE_2020\"]) \n",
    "print(buurt_2019_2022[\"BU_CODE_2020\"].isna().value_counts())"
   ]
  },
  {
   "cell_type": "code",
   "execution_count": null,
   "metadata": {},
   "outputs": [],
   "source": [
    "print(buurt_2019_2022[\"BU_CODE_2020\"].isin(gdf_20[\"BU_CODE\"]).value_counts())\n",
    "### Delete inconsistencies \n",
    "buurt_2019_2022[\"BU_CODE_2020\"] = np.where(~buurt_2019_2022[\"BU_CODE_2020\"].isin(gdf_20[\"BU_CODE\"]), pd.NA, buurt_2019_2022[\"BU_CODE_2020\"]) \n",
    "print(buurt_2019_2022[\"BU_CODE_2020\"].isin(gdf_20[\"BU_CODE\"]).value_counts())"
   ]
  },
  {
   "cell_type": "code",
   "execution_count": null,
   "metadata": {},
   "outputs": [],
   "source": [
    "buurt_2019_2022 = buurt_2019_2022.drop(columns = [\"_merge\", \"BU_WK_CODE_2022\", \"BU_WK_CODE_2021\"])"
   ]
  },
  {
   "cell_type": "code",
   "execution_count": null,
   "metadata": {},
   "outputs": [],
   "source": [
    "### 2019 -- 2022 \n",
    "buurt_2019_2022 =  pd.merge(buurt_2019_2022, BU_CODE_2019, left_on = \"BU_CODE\", right_on = \"BU_CODE_2019\", how = \"left\", indicator=True)\n",
    "buurt_2019_2022.head()"
   ]
  },
  {
   "cell_type": "code",
   "execution_count": null,
   "metadata": {},
   "outputs": [],
   "source": [
    "# BU_CODE_2021.BU_CODE_2021.isin(buurt_traceable[\"2021_2022\"].BU_WK_CODE_2021).value_counts()\n",
    "print(buurt_traceable[\"2019_2020\"].BU_WK_CODE_2019.isin(buurt_2019_2022[buurt_2019_2022['_merge'] == \"left_only\"].BU_CODE).value_counts())\n",
    "print(buurt_traceable[\"2019_2020\"].BU_WK_CODE_2020.isin(buurt_2019_2022[buurt_2019_2022['_merge'] == \"left_only\"].BU_CODE).value_counts())"
   ]
  },
  {
   "cell_type": "code",
   "execution_count": null,
   "metadata": {},
   "outputs": [],
   "source": [
    "print(buurt_2019_2022[\"BU_CODE_2019\"].isna().value_counts())\n",
    "buurt_2019_2022 = pd.merge(buurt_2019_2022, buurt_traceable[\"2019_2020\"][[\"BU_WK_CODE_2019\", \"BU_WK_CODE_2020\"]], left_on = \"BU_CODE\", right_on = \"BU_WK_CODE_2020\", how = \"left\")\n",
    "buurt_2019_2022[\"BU_CODE_2019\"] = np.where(buurt_2019_2022[\"BU_CODE_2019\"].isna(), buurt_2019_2022[\"BU_WK_CODE_2019\"], buurt_2019_2022[\"BU_CODE_2019\"]) \n",
    "print(buurt_2019_2022[\"BU_CODE_2019\"].isna().value_counts())\n"
   ]
  },
  {
   "cell_type": "code",
   "execution_count": null,
   "metadata": {},
   "outputs": [],
   "source": [
    "buurt_2019_2022 = buurt_2019_2022.drop(columns = [\"BU_WK_CODE_2019\", \"BU_WK_CODE_2020\"]) "
   ]
  },
  {
   "cell_type": "code",
   "execution_count": null,
   "metadata": {},
   "outputs": [],
   "source": [
    "print(buurt_traceable[\"2021_2022\"].BU_WK_CODE_2022.isin(buurt_2019_2022[buurt_2019_2022[\"BU_CODE_2019\"].isna()].BU_CODE).value_counts())\n",
    "print(buurt_traceable[\"2021_2022\"].BU_WK_CODE_2021.isin(buurt_2019_2022[buurt_2019_2022[\"BU_CODE_2019\"].isna()].BU_CODE).value_counts())"
   ]
  },
  {
   "cell_type": "code",
   "execution_count": null,
   "metadata": {},
   "outputs": [],
   "source": [
    "print(buurt_2019_2022[\"BU_CODE_2019\"].isna().value_counts())\n",
    "buurt_2019_2022 = pd.merge(buurt_2019_2022, buurt_traceable[\"2021_2022\"][[\"BU_WK_CODE_2022\", \"BU_WK_CODE_2021\"]], left_on = \"BU_CODE\", right_on = \"BU_WK_CODE_2022\", how = \"left\")\n",
    "buurt_2019_2022[\"BU_CODE_2019\"] = np.where(buurt_2019_2022[\"BU_CODE_2019\"].isna(), buurt_2019_2022[\"BU_WK_CODE_2021\"], buurt_2019_2022[\"BU_CODE_2019\"]) \n",
    "print(buurt_2019_2022[\"BU_CODE_2019\"].isna().value_counts())"
   ]
  },
  {
   "cell_type": "code",
   "execution_count": null,
   "metadata": {},
   "outputs": [],
   "source": [
    "print(buurt_2019_2022[\"BU_CODE_2019\"].isin(gdf_19[\"BU_CODE\"]).value_counts())\n",
    "### Delete inconsistencies \n",
    "buurt_2019_2022[\"BU_CODE_2019\"] = np.where(~buurt_2019_2022[\"BU_CODE_2019\"].isin(gdf_19[\"BU_CODE\"]), pd.NA, buurt_2019_2022[\"BU_CODE_2019\"]) \n",
    "print(buurt_2019_2022[\"BU_CODE_2019\"].isin(gdf_19[\"BU_CODE\"]).value_counts())"
   ]
  },
  {
   "cell_type": "code",
   "execution_count": null,
   "metadata": {},
   "outputs": [],
   "source": [
    "buurt_2019_2022 =  buurt_2019_2022.drop(columns = [\"_merge\", \"BU_WK_CODE_2022\", \"BU_WK_CODE_2021\"])\n",
    "buurt_2019_2022.head()"
   ]
  },
  {
   "cell_type": "code",
   "execution_count": null,
   "metadata": {},
   "outputs": [],
   "source": [
    "# Export temporal file \n",
    "outpath =  \"C:/Users/tejed002/OneDrive - Wageningen University & Research/PhD-WUR/01_WUR-Research/05_Papers/02_Paper_energy_poverty/Data/Raw\"\n",
    "buurt_2019_2022.to_csv(os.path.join(outpath, \"buurt_homologation_2019_2022.csv\"), sep = '|')"
   ]
  }
 ],
 "metadata": {
  "kernelspec": {
   "display_name": "Python 3",
   "language": "python",
   "name": "python3"
  },
  "language_info": {
   "codemirror_mode": {
    "name": "ipython",
    "version": 3
   },
   "file_extension": ".py",
   "mimetype": "text/x-python",
   "name": "python",
   "nbconvert_exporter": "python",
   "pygments_lexer": "ipython3",
   "version": "3.11.8"
  }
 },
 "nbformat": 4,
 "nbformat_minor": 2
}
